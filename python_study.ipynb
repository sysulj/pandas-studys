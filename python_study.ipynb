{
 "cells": [
  {
   "cell_type": "code",
   "execution_count": 4,
   "metadata": {
    "scrolled": true
   },
   "outputs": [
    {
     "name": "stdout",
     "output_type": "stream",
     "text": [
      "func_out 37905736 37905736\n",
      "func_in 37905736\n",
      "re-point 37905712 37905712\n",
      "1\n"
     ]
    }
   ],
   "source": [
    "# 所有变量都可以理解成内存中一个对象的“引用”\n",
    "a = 1\n",
    "def fun(a):\n",
    "    print \"func_in\",id(a)\n",
    "    a = 2\n",
    "    print \"re-point\",id(a),id(2)\n",
    "print \"func_out\",id(a),id(1)\n",
    "fun(a)\n",
    "print a"
   ]
  },
  {
   "cell_type": "code",
   "execution_count": null,
   "metadata": {
    "collapsed": true
   },
   "outputs": [],
   "source": []
  },
  {
   "cell_type": "code",
   "execution_count": 5,
   "metadata": {},
   "outputs": [
    {
     "name": "stdout",
     "output_type": "stream",
     "text": [
      "func_out 63409416\n",
      "func_in 63409416\n",
      "[1]\n"
     ]
    }
   ],
   "source": [
    "a=[]\n",
    "def fun(a):\n",
    "    print \"func_in\",id(a)\n",
    "    a.append(1)\n",
    "print \"func_out\",id(a) \n",
    "fun(a)\n",
    "print a"
   ]
  },
  {
   "cell_type": "code",
   "execution_count": 22,
   "metadata": {
    "collapsed": true
   },
   "outputs": [],
   "source": [
    "def foo(x):\n",
    "    print \"executing foo(%s)\"%(x)\n",
    "\n",
    "class B(object):\n",
    "    def foo(self,x):\n",
    "        print \"executing foo(%s,%s)\"%(self,x)\n",
    "    # 类方法\n",
    "    @classmethod   \n",
    "    def class_foo(cls,x):\n",
    "        print \"executing class_foo(%s,%s)\"%(cls,x)\n",
    "    #静态方法\n",
    "    @staticmethod\n",
    "    def static_foo(x):\n",
    "        print \"executing static_foo(%s)\"%x\n",
    "\n"
   ]
  },
  {
   "cell_type": "code",
   "execution_count": 24,
   "metadata": {},
   "outputs": [
    {
     "name": "stdout",
     "output_type": "stream",
     "text": [
      "executing static_foo(22)\n"
     ]
    }
   ],
   "source": [
    "B.static_foo(22)"
   ]
  },
  {
   "cell_type": "code",
   "execution_count": 25,
   "metadata": {},
   "outputs": [
    {
     "name": "stdout",
     "output_type": "stream",
     "text": [
      "executing class_foo(<class '__main__.B'>,22)\n"
     ]
    }
   ],
   "source": [
    "B.class_foo(22)"
   ]
  },
  {
   "cell_type": "code",
   "execution_count": 27,
   "metadata": {},
   "outputs": [
    {
     "name": "stdout",
     "output_type": "stream",
     "text": [
      "0\n",
      "1\n",
      "jack 2\n",
      "lucy 2\n"
     ]
    }
   ],
   "source": [
    "class Test(object):  \n",
    "    num_of_instance = 0  \n",
    "    def __init__(self, name):  \n",
    "        self.name = name  \n",
    "        Test.num_of_instance += 1  \n",
    "        \n",
    "print Test.num_of_instance   # 0\n",
    "t1 = Test('jack')  \n",
    "print Test.num_of_instance   # 1\n",
    "t2 = Test('lucy')  \n",
    "print t1.name , t1.num_of_instance  # jack 2\n",
    "print t2.name , t2.num_of_instance  # lucy 2"
   ]
  },
  {
   "cell_type": "code",
   "execution_count": 30,
   "metadata": {},
   "outputs": [
    {
     "data": {
      "text/plain": [
       "[0, 3, 6, 9, 12, 15, 18, 21, 24, 27]"
      ]
     },
     "execution_count": 30,
     "metadata": {},
     "output_type": "execute_result"
    }
   ],
   "source": [
    "[i for i in range(30) if i % 3 is 0]"
   ]
  },
  {
   "cell_type": "code",
   "execution_count": 35,
   "metadata": {},
   "outputs": [
    {
     "data": {
      "text/plain": [
       "[0, 9, 36, 81, 144, 225, 324, 441, 576, 729]"
      ]
     },
     "execution_count": 35,
     "metadata": {},
     "output_type": "execute_result"
    }
   ],
   "source": [
    "def fun(x):\n",
    "    return x*x\n",
    "[fun(x) for x in range(30) if x%3 == 0]"
   ]
  },
  {
   "cell_type": "code",
   "execution_count": 36,
   "metadata": {},
   "outputs": [
    {
     "data": {
      "text/plain": [
       "[0, 9, 36, 81, 144, 225, 324, 441, 576, 729]"
      ]
     },
     "execution_count": 36,
     "metadata": {},
     "output_type": "execute_result"
    }
   ],
   "source": [
    "[x*x for x in range(30) if x%3 == 0]"
   ]
  },
  {
   "cell_type": "code",
   "execution_count": 37,
   "metadata": {
    "collapsed": true
   },
   "outputs": [],
   "source": [
    "multiples = (i for i in range(30) if i % 3 is 0)"
   ]
  },
  {
   "cell_type": "code",
   "execution_count": 41,
   "metadata": {},
   "outputs": [
    {
     "data": {
      "text/plain": [
       "6"
      ]
     },
     "execution_count": 41,
     "metadata": {},
     "output_type": "execute_result"
    }
   ],
   "source": [
    "multiples.next()"
   ]
  },
  {
   "cell_type": "code",
   "execution_count": 42,
   "metadata": {},
   "outputs": [
    {
     "name": "stdout",
     "output_type": "stream",
     "text": [
      "{'a': 17, 'b': 34}\n"
     ]
    }
   ],
   "source": [
    "mcase = {'a': 10, 'b': 34, 'A': 7, 'Z': 3}\n",
    "mcase_frequency = {\n",
    "    k.lower():mcase.get(k.lower(),0)+mcase.get(k.upper(),0)\n",
    "    for k in mcase.keys()\n",
    "    if k.lower() in ['a','b']\n",
    "}\n",
    "print mcase_frequency"
   ]
  },
  {
   "cell_type": "code",
   "execution_count": 44,
   "metadata": {},
   "outputs": [
    {
     "data": {
      "text/plain": [
       "{1, 4}"
      ]
     },
     "execution_count": 44,
     "metadata": {},
     "output_type": "execute_result"
    }
   ],
   "source": [
    "{x**2 for x in [1,1,2]}"
   ]
  },
  {
   "cell_type": "code",
   "execution_count": 45,
   "metadata": {
    "collapsed": true
   },
   "outputs": [],
   "source": [
    "class A():\n",
    "    def __init__(self):\n",
    "        self.__superprivate = 'hello'\n",
    "        self._semiprivate = \"word!\"\n",
    "a = A()"
   ]
  },
  {
   "cell_type": "markdown",
   "metadata": {},
   "source": [
    "a.__dict__"
   ]
  },
  {
   "cell_type": "code",
   "execution_count": 47,
   "metadata": {},
   "outputs": [
    {
     "data": {
      "text/plain": [
       "'hello'"
      ]
     },
     "execution_count": 47,
     "metadata": {},
     "output_type": "execute_result"
    }
   ],
   "source": [
    "a._A__superprivate"
   ]
  },
  {
   "cell_type": "code",
   "execution_count": 48,
   "metadata": {},
   "outputs": [
    {
     "name": "stdout",
     "output_type": "stream",
     "text": [
      "0 1\n",
      "1 2\n",
      "2 3\n",
      "3 4\n"
     ]
    }
   ],
   "source": [
    "for count,thing in enumerate(range(1,5)):\n",
    "    print count,thing"
   ]
  },
  {
   "cell_type": "markdown",
   "metadata": {
    "collapsed": true
   },
   "source": [
    "### 装饰器 经常被用于有切面需求的场景，比如插入日志，性能测试，事务处理等，\n",
    "### 这种设计模式，能够抽离出大量函数中与函数功能本身无关的雷同代码进行继续重用\n",
    "### 装饰器的作用就是为已经存在的对象添加额外的功能"
   ]
  },
  {
   "cell_type": "code",
   "execution_count": 54,
   "metadata": {
    "scrolled": true
   },
   "outputs": [
    {
     "name": "stdout",
     "output_type": "stream",
     "text": [
      "[1, 1, 2, 3]\n"
     ]
    }
   ],
   "source": [
    "#鸭子类型  鸭子类型在动态语言中经常使用，非常灵活  我们不关心对象是什么类型，我们只关心行为\n",
    "a=[1,]\n",
    "a.extend([1,2,3])\n",
    "print a\n",
    "#list.extend()方法中,我们并不关心它的参数是不是list,只要它是可迭代的,所以它的参数可以是list/tuple/dict/字符串/生成器等."
   ]
  },
  {
   "cell_type": "code",
   "execution_count": 56,
   "metadata": {},
   "outputs": [
    {
     "data": {
      "text/plain": [
       "6"
      ]
     },
     "execution_count": 56,
     "metadata": {},
     "output_type": "execute_result"
    }
   ],
   "source": [
    "reduce(lambda x,y:x*y,range(1,4))"
   ]
  },
  {
   "cell_type": "code",
   "execution_count": 5,
   "metadata": {},
   "outputs": [
    {
     "data": {
      "text/plain": [
       "153"
      ]
     },
     "execution_count": 5,
     "metadata": {},
     "output_type": "execute_result"
    }
   ],
   "source": [
    "reduce(lambda x,y:x+y,[reduce(lambda x,y:x*y,range(1,i+1))for i in range(1,6)])"
   ]
  },
  {
   "cell_type": "code",
   "execution_count": 7,
   "metadata": {},
   "outputs": [
    {
     "data": {
      "text/plain": [
       "153"
      ]
     },
     "execution_count": 7,
     "metadata": {},
     "output_type": "execute_result"
    }
   ],
   "source": [
    "reduce(lambda x,y:x+y,map(lambda z:reduce(lambda x,y:x*y,range(1,z+1)),range(1,6)))"
   ]
  },
  {
   "cell_type": "code",
   "execution_count": 11,
   "metadata": {},
   "outputs": [
    {
     "name": "stdout",
     "output_type": "stream",
     "text": [
      "2\n",
      "3\n"
     ]
    }
   ],
   "source": [
    "a=1\n",
    "b=2\n",
    "a, b = b,  a+b\n",
    "print a\n",
    "print b"
   ]
  },
  {
   "cell_type": "code",
   "execution_count": 19,
   "metadata": {},
   "outputs": [
    {
     "name": "stdout",
     "output_type": "stream",
     "text": [
      "[6, 6, 6, 6]\n"
     ]
    }
   ],
   "source": [
    "def multipliers():\n",
    "    return [lambda x: i*x for i in range(4)]\n",
    "# print multipliers()\n",
    "print [m(2) for m in multipliers()]\n"
   ]
  },
  {
   "cell_type": "code",
   "execution_count": 21,
   "metadata": {},
   "outputs": [
    {
     "name": "stdout",
     "output_type": "stream",
     "text": [
      "[]\n"
     ]
    }
   ],
   "source": [
    "list=[1,2,3]\n",
    "print list[4:]"
   ]
  },
  {
   "cell_type": "code",
   "execution_count": 25,
   "metadata": {},
   "outputs": [
    {
     "name": "stdout",
     "output_type": "stream",
     "text": [
      "[1]\n",
      "[1, 1]\n"
     ]
    }
   ],
   "source": [
    "def foo(i = []):\n",
    "    i.append(1)\n",
    "    return i\n",
    "print foo()\n",
    "print foo()"
   ]
  },
  {
   "cell_type": "code",
   "execution_count": null,
   "metadata": {
    "collapsed": true
   },
   "outputs": [],
   "source": []
  },
  {
   "cell_type": "markdown",
   "metadata": {},
   "source": [
    "## 编程题"
   ]
  },
  {
   "cell_type": "code",
   "execution_count": 58,
   "metadata": {
    "collapsed": true
   },
   "outputs": [],
   "source": [
    "# 1。台阶问题 /斐波那契\n",
    "#一只青蛙一次可以跳上1级台阶，也可以跳上2级。求该青蛙跳上一个n级的台阶总共有多少种跳法。\n",
    "fib = lambda n: n if n <= 2 else fib(n-1) + fib(n-2)\n"
   ]
  },
  {
   "cell_type": "code",
   "execution_count": 62,
   "metadata": {},
   "outputs": [
    {
     "data": {
      "text/plain": [
       "89"
      ]
     },
     "execution_count": 62,
     "metadata": {},
     "output_type": "execute_result"
    }
   ],
   "source": [
    "fib(10)"
   ]
  },
  {
   "cell_type": "code",
   "execution_count": 63,
   "metadata": {},
   "outputs": [
    {
     "data": {
      "text/plain": [
       "89"
      ]
     },
     "execution_count": 63,
     "metadata": {},
     "output_type": "execute_result"
    }
   ],
   "source": [
    "def fib(n):\n",
    "    if n == 1:\n",
    "        return 1\n",
    "    elif n == 2:\n",
    "        return 2\n",
    "    else:\n",
    "        return fib(n-1)+fib(n-2)\n",
    "fib(10)"
   ]
  },
  {
   "cell_type": "code",
   "execution_count": 65,
   "metadata": {},
   "outputs": [
    {
     "data": {
      "text/plain": [
       "89"
      ]
     },
     "execution_count": 65,
     "metadata": {},
     "output_type": "execute_result"
    }
   ],
   "source": [
    "def fib2(n):\n",
    "    a,b = 0,1\n",
    "    for _ in xrange(n):\n",
    "        a,b = b,a+b\n",
    "    return b\n",
    "fib2(10)"
   ]
  },
  {
   "cell_type": "code",
   "execution_count": 92,
   "metadata": {},
   "outputs": [
    {
     "data": {
      "text/plain": [
       "2"
      ]
     },
     "execution_count": 92,
     "metadata": {},
     "output_type": "execute_result"
    }
   ],
   "source": [
    "# 一只青蛙一次可以跳上1级台阶，也可以跳上2级……它也可以跳上n级。求该青蛙跳上一个n级的台阶总共有多少种跳法\n",
    "fib3 = lambda n:n if n<2 else n*fib3(n-1)\n",
    "fib3(2)"
   ]
  },
  {
   "cell_type": "code",
   "execution_count": null,
   "metadata": {
    "collapsed": true
   },
   "outputs": [],
   "source": []
  },
  {
   "cell_type": "code",
   "execution_count": null,
   "metadata": {
    "collapsed": true
   },
   "outputs": [],
   "source": [
    "f =lambda n : 1 if n < 2 else f(n-1)+f(n-2)"
   ]
  },
  {
   "cell_type": "code",
   "execution_count": 67,
   "metadata": {
    "collapsed": true
   },
   "outputs": [],
   "source": [
    "# 杨氏矩阵查找\n",
    "#在一个m行n列二维数组中，每一行都按照从左到右递增的顺序排序，每一列都按照从上到下递增的顺序排序。请完成一个函数，输入这样的一个二维数组和一个整数，判断数组中是否含有该整数。\n",
    "def get_value(l,r,c):\n",
    "    return l[r][c]\n",
    "def find(l,x):\n",
    "    m = len(l) - 1\n",
    "    n = len(l[0]) -1\n",
    "    r = 0\n",
    "    c = n\n",
    "    while c >= 0 and r <= m:\n",
    "        value = get_value(l,r,c)\n",
    "        if value == x:\n",
    "            return True\n",
    "        elif value > x:\n",
    "            c = c-1\n",
    "        else:\n",
    "             r = r+ 1\n",
    "    return False\n"
   ]
  },
  {
   "cell_type": "code",
   "execution_count": 68,
   "metadata": {},
   "outputs": [
    {
     "data": {
      "text/plain": [
       "True"
      ]
     },
     "execution_count": 68,
     "metadata": {},
     "output_type": "execute_result"
    }
   ],
   "source": [
    "l = [[1,2,3,4,5,6],[2,3,4,5,6,7]]\n",
    "find(l,3)"
   ]
  },
  {
   "cell_type": "code",
   "execution_count": 71,
   "metadata": {},
   "outputs": [
    {
     "data": {
      "text/plain": [
       "[0, 1, 2, 3, 4, 5, 6, 7]"
      ]
     },
     "execution_count": 71,
     "metadata": {},
     "output_type": "execute_result"
    }
   ],
   "source": [
    "lista = [1,2,3,4,3,4,4,5,6,7,0]\n",
    "list(set(lista))"
   ]
  },
  {
   "cell_type": "code",
   "execution_count": 72,
   "metadata": {},
   "outputs": [
    {
     "name": "stdout",
     "output_type": "stream",
     "text": [
      "['a', 'c', 'b', 'd']\n"
     ]
    }
   ],
   "source": [
    "l1 = ['b','c','d','b','c','a','a']\n",
    "l2 = {}.fromkeys(l1).keys()\n",
    "print l2"
   ]
  },
  {
   "cell_type": "code",
   "execution_count": 73,
   "metadata": {},
   "outputs": [
    {
     "name": "stdout",
     "output_type": "stream",
     "text": [
      "['b', 'c', 'd', 'a']\n"
     ]
    }
   ],
   "source": [
    "l1 = ['b','c','d','b','c','a','a']\n",
    "l2 =list(set(l1))\n",
    "l2.sort(key = l1.index)\n",
    "print l2"
   ]
  },
  {
   "cell_type": "code",
   "execution_count": 76,
   "metadata": {},
   "outputs": [
    {
     "name": "stdout",
     "output_type": "stream",
     "text": [
      "['b', 'c', 'd', 'a']\n"
     ]
    }
   ],
   "source": [
    "l1 = ['b','c','d','b','c','a','a']\n",
    "l2=[]\n",
    "#[l2.append(i) for i in l1 if  i not in l2]\n",
    "for i in l1:\n",
    "    if i not in l2:\n",
    "        l2.append(i)\n",
    "print l2"
   ]
  },
  {
   "cell_type": "markdown",
   "metadata": {},
   "source": [
    "## 链表成对调换\n",
    "### 1->2->3->4转换成2->1->4->3."
   ]
  },
  {
   "cell_type": "code",
   "execution_count": 85,
   "metadata": {},
   "outputs": [
    {
     "name": "stdout",
     "output_type": "stream",
     "text": [
      "\n"
     ]
    }
   ],
   "source": [
    "class ListNode:\n",
    "    def __init__(self,x,next = None):\n",
    "        self.val = x\n",
    "        self.next = next\n",
    "class Solution:\n",
    "    def swapPairs(self, head):\n",
    "        if head != None and head.next != None:\n",
    "            next = head.next\n",
    "            head.next = self.swapPairs(next.next)\n",
    "            next.next = head\n",
    "            return next\n",
    "        return head\n",
    "    "
   ]
  },
  {
   "cell_type": "markdown",
   "metadata": {},
   "source": [
    "## 链表基本方法实现"
   ]
  },
  {
   "cell_type": "code",
   "execution_count": 12,
   "metadata": {},
   "outputs": [],
   "source": [
    "class Node(object):\n",
    "    def __init__(self,data):\n",
    "        \"\"\"\n",
    "        node 初始化\n",
    "        param data: 节点的数据\n",
    "        \"\"\"\n",
    "        self.data =data\n",
    "        self.pnext = None\n",
    "    def __repr__(self):\n",
    "        return str(self.data)\n",
    "\n",
    "class LinkedList(object):\n",
    "    def __init__(self):\n",
    "        \"\"\"\n",
    "        Linked List 的初始化\n",
    "        \"\"\"\n",
    "        self.length = 0\n",
    "        self.head =  None\n",
    "    def is_empty(self):\n",
    "        \"\"\"\n",
    "        判断该链表是否为空\n",
    "        \"\"\"\n",
    "        return self.length == 0\n",
    "    def append(self,this_node):\n",
    "        \"\"\"\n",
    "        在链表末添加node，如果是node对象 直接添加，否则先转换为node对象\n",
    "        ：param this_node:数据或者node对象\n",
    "        : return： None\n",
    "        \"\"\"\n",
    "        if isinstance(this_node,Node):\n",
    "            pass\n",
    "        else:\n",
    "            this_node = Node(data= this_node)\n",
    "        if self.is_empty():\n",
    "            # 链表为空的情况将头指针指向当前node\n",
    "            self.head = this_node\n",
    "        else:\n",
    "            node = self.head\n",
    "            while node.pnext:\n",
    "                node = node.pnext\n",
    "            node.pnext = this_node\n",
    "        self.length += 1\n",
    "    \n",
    "    def insert(self,value,index):\n",
    "        \"\"\"\n",
    "        链表的插入操作\n",
    "        : param value: 要插入的值\n",
    "        : param index: 位置\n",
    "        ：return： None\n",
    "        \"\"\"\n",
    "        if type(index) is int:\n",
    "            if index > self.length:\n",
    "                # 索引值超出范围\n",
    "                print \"Index value is out of range.\"\n",
    "                return \n",
    "            else:\n",
    "                #获取当前node对象和head\n",
    "                this_node = Node(data = value)\n",
    "                current_node = self.head\n",
    "                \n",
    "                if index == 0:\n",
    "                    self.head = this_node\n",
    "                    this_node.pnext = current_node\n",
    "                    return \n",
    "                while index -1:\n",
    "                    current_node = current_node.pnext\n",
    "                    index -= 1\n",
    "                \n",
    "                this_node.pnext = current_node.pnext\n",
    "                current_node.pnext = this_node\n",
    "                self.length += 1\n",
    "                return\n",
    "        else:\n",
    "            print \"Index value is not int.\"\n",
    "            return \n",
    "    \n",
    "    def delete(self,index):\n",
    "        \"\"\"\n",
    "        删除链表中某个位置的节点\n",
    "        ：param index：位置索引\n",
    "        ：return： None\n",
    "\n",
    "        \"\"\"\n",
    "        if type(index) is int:\n",
    "            if index >self.length:\n",
    "                # 索引值超出范围\n",
    "                print \"Index value is out of range.\"\n",
    "                return \n",
    "            else:\n",
    "                if index == 0:\n",
    "                    self.head = self.head.pnext\n",
    "                else:\n",
    "                    current_node = self.head\n",
    "                    while index - 1:\n",
    "                        current_node = current_node.pnext\n",
    "                        index -= 1\n",
    "                    current_node.pnext = current_node.pnext.pnext\n",
    "                    self.length -= 1\n",
    "                    return \n",
    "        else:\n",
    "            print \"Index value is not int.\"\n",
    "            return\n",
    "    \n",
    "    def update(self,value,index):\n",
    "        \"\"\"\n",
    "        ?????\n",
    "        为链表中某个位置的节点修改值\n",
    "        ：param value：更改的值\n",
    "        ：param index：位置索引\n",
    "        ：return： None\n",
    "        \"\"\"\n",
    "        if type(index) is int:\n",
    "            if index >self.length:\n",
    "                # 索引值超出范围\n",
    "                print \"Index value is out of range.\"\n",
    "                return \n",
    "            else:\n",
    "                this_node = Node(data= value)\n",
    "                if index == 0:\n",
    "                    this_node.pnext = self.head.pnext\n",
    "                    self.head = this_node\n",
    "                else:\n",
    "                    current_node =self.head\n",
    "                    while index - 1:\n",
    "                        current_node = current_node.pnext\n",
    "                        index -= 1\n",
    "                    this_node.pnext = current_node.pnext.pnext\n",
    "                    current_node.pnext = this_node\n",
    "                    return \n",
    "        else:\n",
    "            print \"Index value is not int.\"\n",
    "            return\n",
    "    \n",
    "    def get_value(self,index):\n",
    "        \"\"\"\n",
    "        获取链表中某个位置节点的值\n",
    "        ：param index：位置索引\n",
    "        ：return：该节点的值\n",
    "        \"\"\"\n",
    "        if type(index) is int:\n",
    "            if index >self.length:\n",
    "                # 索引值超出范围\n",
    "                print \"Index value is out of range.\"\n",
    "                return \n",
    "            else:\n",
    "                if index == 0:\n",
    "                    return self.head.data\n",
    "                else:\n",
    "                    current_node = self.head\n",
    "                    while index -1:\n",
    "                        current_node = current_node.pnext\n",
    "                        index -= 1\n",
    "                    return current_node.pnext.data\n",
    "        else:\n",
    "            print \"Index value is not int.\"\n",
    "            return\n",
    "        \n",
    "    def get_length(self):\n",
    "        \"\"\"\n",
    "        获取链表长度\n",
    "        ：return： int\n",
    "        \"\"\"\n",
    "        current_node =self.head\n",
    "        if current_node:\n",
    "            i = 1\n",
    "            while current_node.pnext:\n",
    "                current_node = current_node.pnext\n",
    "                i += 1\n",
    "            return i\n",
    "        else:\n",
    "            return 0\n",
    "        \n",
    "    def clear(self):\n",
    "        \"\"\"\n",
    "        清空链表\n",
    "        \"\"\"\n",
    "        self.head = None\n",
    "        self.length = 0\n",
    "    \n",
    "    def print_linked_list(self):\n",
    "        \"\"\"\n",
    "        对整个链表打印\n",
    "        \"\"\"\n",
    "        if self.is_empty():\n",
    "            print \"list length is 0\"\n",
    "        else:\n",
    "            node = self.head\n",
    "            print \"Head - ->\",node.data, \n",
    "            while node.pnext:\n",
    "                node = node.pnext\n",
    "                print '- ->',node.data,\n",
    "            print '- ->None.'\n",
    "            \n",
    "    "
   ]
  },
  {
   "cell_type": "code",
   "execution_count": 13,
   "metadata": {
    "collapsed": true
   },
   "outputs": [],
   "source": [
    "node1 = Node(data='node1')\n",
    "node2 = Node(data='node2')\n",
    "linked_list = LinkedList()\n",
    "linked_list.append(node1)\n",
    "linked_list.append(node2)"
   ]
  },
  {
   "cell_type": "code",
   "execution_count": 14,
   "metadata": {},
   "outputs": [
    {
     "name": "stdout",
     "output_type": "stream",
     "text": [
      "Head - -> node1 - -> node2 - ->None.\n"
     ]
    }
   ],
   "source": [
    "linked_list.print_linked_list()"
   ]
  },
  {
   "cell_type": "code",
   "execution_count": 15,
   "metadata": {
    "collapsed": true
   },
   "outputs": [],
   "source": [
    " linked_list.insert(\"1233\", 1)"
   ]
  },
  {
   "cell_type": "code",
   "execution_count": 16,
   "metadata": {},
   "outputs": [
    {
     "name": "stdout",
     "output_type": "stream",
     "text": [
      "Head - -> node1 - -> 1233 - -> node2 - ->None.\n"
     ]
    }
   ],
   "source": [
    "linked_list.print_linked_list()"
   ]
  },
  {
   "cell_type": "code",
   "execution_count": 17,
   "metadata": {},
   "outputs": [
    {
     "data": {
      "text/plain": [
       "3"
      ]
     },
     "execution_count": 17,
     "metadata": {},
     "output_type": "execute_result"
    }
   ],
   "source": [
    "linked_list.get_length()"
   ]
  },
  {
   "cell_type": "code",
   "execution_count": 18,
   "metadata": {},
   "outputs": [
    {
     "name": "stdout",
     "output_type": "stream",
     "text": [
      "Head - -> node1 - -> enen - -> 1233 - -> node2 - ->None.\n"
     ]
    }
   ],
   "source": [
    "linked_list.insert(\"enen\", 1)\n",
    "linked_list.print_linked_list()"
   ]
  },
  {
   "cell_type": "code",
   "execution_count": 19,
   "metadata": {},
   "outputs": [
    {
     "name": "stdout",
     "output_type": "stream",
     "text": [
      "Head - -> node1 - -> enen - -> update_222 - -> node2 - ->None.\n"
     ]
    }
   ],
   "source": [
    "linked_list.update(value=\"update_222\", index=2)\n",
    "linked_list.print_linked_list()"
   ]
  },
  {
   "cell_type": "code",
   "execution_count": 20,
   "metadata": {},
   "outputs": [
    {
     "data": {
      "text/plain": [
       "'update_222'"
      ]
     },
     "execution_count": 20,
     "metadata": {},
     "output_type": "execute_result"
    }
   ],
   "source": [
    "linked_list.get_value(index=2)"
   ]
  },
  {
   "cell_type": "code",
   "execution_count": null,
   "metadata": {
    "collapsed": true
   },
   "outputs": [],
   "source": [
    "class ListNode(object):\n",
    "    def __init__(self, x):\n",
    "        self.val = x\n",
    "        self.next = None\n",
    "class Solution(object):\n",
    "    def swapPairs(self,head):\n",
    "        prev = hrad\n",
    "        tail = prev.next\n",
    "        while True:\n",
    "            prev.val,tail.val = tail.val,prev.val\n",
    "            prev = tail.next\n",
    "            tail = prev.next\n",
    "        return head"
   ]
  },
  {
   "cell_type": "code",
   "execution_count": 21,
   "metadata": {},
   "outputs": [
    {
     "data": {
      "text/plain": [
       "{'name': 'hhh', 'port': '123'}"
      ]
     },
     "execution_count": 21,
     "metadata": {},
     "output_type": "execute_result"
    }
   ],
   "source": [
    "items = [('name','hhh'),('port','123')]\n",
    "dict(items)"
   ]
  },
  {
   "cell_type": "code",
   "execution_count": 22,
   "metadata": {},
   "outputs": [
    {
     "data": {
      "text/plain": [
       "{'x': -1, 'y': -1}"
      ]
     },
     "execution_count": 22,
     "metadata": {},
     "output_type": "execute_result"
    }
   ],
   "source": [
    "{}.fromkeys(('x','y'),-1)"
   ]
  },
  {
   "cell_type": "code",
   "execution_count": 23,
   "metadata": {},
   "outputs": [
    {
     "data": {
      "text/plain": [
       "{'x': (-1, 2), 'y': (-1, 2)}"
      ]
     },
     "execution_count": 23,
     "metadata": {},
     "output_type": "execute_result"
    }
   ],
   "source": [
    "{}.fromkeys(('x','y'),(-1,2))"
   ]
  },
  {
   "cell_type": "code",
   "execution_count": 28,
   "metadata": {
    "collapsed": true
   },
   "outputs": [],
   "source": [
    "## 合并两个有序列表\n",
    "#尾递归\n",
    "def _recursion_merge_sort2(l1,l2,tmp):\n",
    "    if len(l1) == 0 or len(l2) == 0:\n",
    "        tmp.extend(l1)\n",
    "        tmp.extend(l2)\n",
    "        return tmp\n",
    "    else:\n",
    "        if l1[0] < l2[0]:\n",
    "            tmp.append(l1[0])\n",
    "            del l1[0]\n",
    "        else:\n",
    "            tmp.append(l2[0])\n",
    "            del l2[0]\n",
    "        return _recursion_merge_sort2(l1,l2,tmp)\n",
    "    \n",
    "def recursion_merge_sort2(l1,l2):\n",
    "    return _recursion_merge_sort2(l1,l2,[])\n",
    "    "
   ]
  },
  {
   "cell_type": "code",
   "execution_count": 29,
   "metadata": {},
   "outputs": [
    {
     "data": {
      "text/plain": [
       "[1, 2, 2, 3, 3, 4, 5, 5, 7, 60, 70, 90, 100]"
      ]
     },
     "execution_count": 29,
     "metadata": {},
     "output_type": "execute_result"
    }
   ],
   "source": [
    "l1 = [1,2,3,4,5,60,70]\n",
    "l2 = [2,3,5,7,90,100]\n",
    "recursion_merge_sort2(l1,l2)"
   ]
  },
  {
   "cell_type": "code",
   "execution_count": 30,
   "metadata": {
    "collapsed": true
   },
   "outputs": [],
   "source": [
    "def loop_merge_sort(l1,l2):\n",
    "    tmp = []\n",
    "    while len(l1) > 0 and len(l2) > 0:\n",
    "        if l1[0] < l2[0]:\n",
    "            tmp.append(l1[0])\n",
    "            del l1[0]\n",
    "        else:\n",
    "            tmp.append(l2[0])\n",
    "            del l2[0]\n",
    "    tmp.extend(l1)\n",
    "    tmp.extend(l2)\n",
    "    return tmp\n"
   ]
  },
  {
   "cell_type": "code",
   "execution_count": 31,
   "metadata": {},
   "outputs": [
    {
     "data": {
      "text/plain": [
       "[1, 2, 2, 3, 3, 4, 5, 5, 7, 60, 70, 90, 100]"
      ]
     },
     "execution_count": 31,
     "metadata": {},
     "output_type": "execute_result"
    }
   ],
   "source": [
    "l1 = [1,2,3,4,5,60,70]\n",
    "l2 = [2,3,5,7,90,100]\n",
    "loop_merge_sort(l1,l2)"
   ]
  },
  {
   "cell_type": "code",
   "execution_count": 32,
   "metadata": {},
   "outputs": [
    {
     "name": "stdout",
     "output_type": "stream",
     "text": [
      "[1, 2, 3, 3, 4, 5, 7]\n"
     ]
    }
   ],
   "source": [
    "# pop 弹出\n",
    "a = [1,2,3,7]\n",
    "b = [3,4,5]\n",
    "def merge_sortedlist(a,b):\n",
    "    c=[]\n",
    "    while a and b:\n",
    "        if a[0] >= b[0]:\n",
    "            c.append(b.pop(0))\n",
    "        else:\n",
    "            c.append(a.pop(0))\n",
    "    while a:\n",
    "        c.append(a.pop(0))\n",
    "    while b:\n",
    "        c.append(b.pop(0))\n",
    "    return c\n",
    "print merge_sortedlist(a,b)"
   ]
  },
  {
   "cell_type": "code",
   "execution_count": 40,
   "metadata": {},
   "outputs": [
    {
     "name": "stdout",
     "output_type": "stream",
     "text": [
      "交叉节点： 7\n"
     ]
    }
   ],
   "source": [
    "a =[1,2,3,7,9,1,5]\n",
    "b = [4,5,7,9,1,5]\n",
    "for i in range(1,min(len(a),len(b))):\n",
    "    if i == 1 and (a[-1] != b[-1]):\n",
    "        print 'No'\n",
    "        break\n",
    "    else:\n",
    "        if a[-i] != b[-i]:\n",
    "            print \"交叉节点：\",a[-i+1]\n",
    "            break\n",
    "        else:\n",
    "            pass"
   ]
  },
  {
   "cell_type": "code",
   "execution_count": 41,
   "metadata": {
    "collapsed": true
   },
   "outputs": [],
   "source": [
    "# 构造链表类\n",
    "class ListNode(object):\n",
    "    def __init__(self,x):\n",
    "        self.val = x\n",
    "        self.next = None\n",
    "# 有疑问？？？？？\n",
    "def node(l1,l2):\n",
    "    length1,length2 = 0,0\n",
    "    while l1.next:\n",
    "        l1 =l1.next\n",
    "        length1 += 1\n",
    "    while l2.next:\n",
    "        l2 =l2.next\n",
    "        length2 += 1\n",
    "    if l1.next == l2.next:\n",
    "        if length1 > length2:\n",
    "            for _ in range(length1-length2):\n",
    "                l1 = l1.next\n",
    "            return l1\n",
    "        else:\n",
    "            for _ in range(length2 - length1):\n",
    "                l2 = l2.next\n",
    "            return 12\n",
    "    else:\n",
    "        return \n",
    "        \n",
    "    "
   ]
  },
  {
   "cell_type": "code",
   "execution_count": 42,
   "metadata": {},
   "outputs": [
    {
     "data": {
      "text/plain": [
       "5"
      ]
     },
     "execution_count": 42,
     "metadata": {},
     "output_type": "execute_result"
    }
   ],
   "source": [
    "# 二分查找\n",
    "def binary_search(lista,item):\n",
    "    low = 0\n",
    "    high = len(lista)-1\n",
    "    while low <= high:\n",
    "        mid = (low+high)/2\n",
    "        tmp = lista[mid]\n",
    "        if tmp > item:\n",
    "            high = mid - 1\n",
    "        elif tmp < item:\n",
    "            low = mid + 1\n",
    "        else:\n",
    "            return mid\n",
    "    return None\n",
    "lista = [1,2,4,5,6,78,90]\n",
    "binary_search(lista, 78)\n"
   ]
  },
  {
   "cell_type": "code",
   "execution_count": 49,
   "metadata": {},
   "outputs": [
    {
     "data": {
      "text/plain": [
       "[1, 1, 1, 1, 3, 5, 5]"
      ]
     },
     "execution_count": 49,
     "metadata": {},
     "output_type": "execute_result"
    }
   ],
   "source": [
    "# 快速排序\n",
    "def quicksort(lists,start, end):\n",
    "    \"\"\"\n",
    "    \"\"\"\n",
    "    if start < end:\n",
    "        pivot_index = partition(lists,start,end)\n",
    "        quicksort(lists,start,pivot_index)\n",
    "        quicksort(lists,pivot_index + 1, end)\n",
    "    return lists\n",
    "\n",
    "def partition(lists,start,end):\n",
    "    pivot_index = start\n",
    "    pivot = lists[pivot_index]\n",
    "    for i in range(start + 1,end):\n",
    "        if lists[i] < pivot:\n",
    "            pivot_index += 1\n",
    "            if pivot_index != i:\n",
    "                lists[pivot_index] = lists[i]\n",
    "                lists[i] = lists[pivot_index]\n",
    "    lists[start] = lists[pivot_index]\n",
    "    lists[pivot_index] = lists[start]\n",
    "    return pivot_index\n",
    "lists=[2,4,6,7,1,3,5]\n",
    "quicksort(lists,start = 0,end = len(lists))    "
   ]
  },
  {
   "cell_type": "code",
   "execution_count": 57,
   "metadata": {},
   "outputs": [
    {
     "data": {
      "text/plain": [
       "[2, 4, 6, 7, 21, 21, 21]"
      ]
     },
     "execution_count": 57,
     "metadata": {},
     "output_type": "execute_result"
    }
   ],
   "source": [
    "def quicksort1(lists,start,end):\n",
    "    \"\"\"\n",
    "    \n",
    "    \"\"\"\n",
    "    if start < end:\n",
    "        pivot_index = partition1(lists,start,end) # z左右分区\n",
    "        quicksort(lists,start,pivot_index)\n",
    "        quicksort(lists,pivot_index + 1,end)\n",
    "    return lists\n",
    "\n",
    "def partition1(lists, start,end):\n",
    "    pivot_index = start\n",
    "    pivot = lists[pivot_index]\n",
    "    for i in range(start + 1, end):\n",
    "        if lists[i] < pivot:\n",
    "            pivot_index += 1 # 每发现一个比pivot小的元素，意味着 pivot的位置向后移动一位\n",
    "            if pivot_index != i:\n",
    "                lists[pivot_index],lists[i] = lists[i],lists[pivot_index]\n",
    "    lists[start],lists[pivot_index] = lists[pivot_index],lists[start]\n",
    "    return pivot_index\n",
    "lists=[2,4,6,7,30,45,21]\n",
    "quicksort1(lists,start = 0,end = len(lists)) "
   ]
  },
  {
   "cell_type": "code",
   "execution_count": 27,
   "metadata": {
    "scrolled": true
   },
   "outputs": [
    {
     "name": "stdout",
     "output_type": "stream",
     "text": [
      "Yixin Captikjion\n"
     ]
    }
   ],
   "source": [
    "s = 'YiXin cAPTIKJion'\n",
    "# print s\n",
    "s = s.lower()\n",
    "print s.title()"
   ]
  },
  {
   "cell_type": "code",
   "execution_count": 43,
   "metadata": {
    "scrolled": true
   },
   "outputs": [
    {
     "name": "stdout",
     "output_type": "stream",
     "text": [
      "[0 0 0 0 0 0 0 0 0 0 0 0 0 0 0 0 0 0 0 0 0 0 0 0 0 0 0 0 0 0 0 0 0 0 0 0 0\n",
      " 0 0 0 0 0 0 0 0 0 0 0 0 0 1 1 1 1 1 1 1 1 1 1 1 1 1 1 1 1 1 1 1 1 1 1 1 1\n",
      " 1 1 1 1 1 1 1 1 1 1 1 1 1 1 1 1 1 1 1 1 1 1 1 1 1 1 2 2 2 2 2 2 2 2 2 2 2\n",
      " 2 2 2 2 2 2 2 2 2 2 2 2 2 2 2 2 2 2 2 2 2 2 2 2 2 2 2 2 2 2 2 2 2 2 2 2 2\n",
      " 2 2]\n",
      "   sepal length (cm)  sepal width (cm)  petal length (cm)  petal width (cm)\n",
      "0                5.1               3.5                1.4               0.2\n",
      "1                4.9               3.0                1.4               0.2\n",
      "2                4.7               3.2                1.3               0.2\n",
      "3                4.6               3.1                1.5               0.2\n",
      "4                5.0               3.6                1.4               0.2\n",
      "5                5.4               3.9                1.7               0.4\n",
      "6                4.6               3.4                1.4               0.3\n",
      "7                5.0               3.4                1.5               0.2\n",
      "8                4.4               2.9                1.4               0.2\n",
      "9                4.9               3.1                1.5               0.1\n",
      "{'petal length (cm)': 1.3999999999999999, 'sepal width (cm)': 3.5, 'petal width (cm)': 0.20000000000000001, 'sepal length (cm)': 5.0999999999999996}\n"
     ]
    }
   ],
   "source": [
    "from sklearn import datasets\n",
    "import pandas as pd\n",
    "iris = datasets.load_iris()\n",
    "# print iris\n",
    "y = iris.target\n",
    "print y\n",
    "z = (y == 0)\n",
    "l = pd.DataFrame(iris.data,columns=iris.feature_names)\n",
    "print l.head(10)\n",
    "# print y\n",
    "print l.loc[0].to_dict()\n",
    "\n",
    "import csv\n",
    "\n",
    "def write_iris_data2csv(csvpath=r'E:\\future\\ScoreCard\\data\\iris_data.csv'):  \n",
    "    ''''' \n",
    "    读取sklearn库中的iris数据写入到csv文件中 \n",
    "    '''  \n",
    "    iris = datasets.load_iris() \n",
    "    data=iris['data']    \n",
    "    target=iris['target'].tolist()  \n",
    "    myfile=open(csvpath, 'wb')  \n",
    "    mywriter=csv.writer(myfile)  \n",
    "    mywriter.writerow(['sepal length (cm)', 'sepal width (cm)', 'petal length (cm)', 'petal width (cm)', 'species'])  \n",
    "    for one_list in data.tolist():  \n",
    "        one_list.append(target.pop(0))  \n",
    "        mywriter.writerow(one_list)  \n",
    "    myfile.close() \n",
    "write_iris_data2csv()"
   ]
  },
  {
   "cell_type": "code",
   "execution_count": null,
   "metadata": {
    "collapsed": true
   },
   "outputs": [],
   "source": []
  },
  {
   "cell_type": "code",
   "execution_count": 56,
   "metadata": {},
   "outputs": [
    {
     "data": {
      "text/plain": [
       "[1, 2, 2, 4, 5, 6, 7]"
      ]
     },
     "execution_count": 56,
     "metadata": {},
     "output_type": "execute_result"
    }
   ],
   "source": [
    "def quicksort01(lists):\n",
    "    if len(lists) <= 1:\n",
    "        return lists\n",
    "    else:\n",
    "        pivot = lists[0]\n",
    "        lessbeforepivot = [i for i in lists[1:] if i <= pivot ]\n",
    "        biggerafterpivot = [i for i in lists[1:] if i > pivot]\n",
    "        finallylists = quicksort01(lessbeforepivot)+[pivot]+quicksort01(biggerafterpivot)\n",
    "        return finallylists\n",
    "    \n",
    "quicksort01([2,4,6,7,1,2,5])"
   ]
  },
  {
   "cell_type": "code",
   "execution_count": 58,
   "metadata": {},
   "outputs": [
    {
     "data": {
      "text/plain": [
       "89"
      ]
     },
     "execution_count": 58,
     "metadata": {},
     "output_type": "execute_result"
    }
   ],
   "source": [
    "def fib(n):\n",
    "    if n <= 2:\n",
    "        return n\n",
    "    else:\n",
    "        return fib(n-1)+fib(n-2)\n",
    "fib(10)"
   ]
  },
  {
   "cell_type": "code",
   "execution_count": 66,
   "metadata": {},
   "outputs": [
    {
     "data": {
      "text/plain": [
       "89"
      ]
     },
     "execution_count": 66,
     "metadata": {},
     "output_type": "execute_result"
    }
   ],
   "source": [
    "def fib2(n):\n",
    "    a,b = 0,1\n",
    "    for _ in xrange(n):\n",
    "        tmp = b\n",
    "        b = a+b\n",
    "        a = tmp\n",
    "    return b\n",
    "fib2(10)"
   ]
  },
  {
   "cell_type": "code",
   "execution_count": null,
   "metadata": {
    "collapsed": true
   },
   "outputs": [],
   "source": []
  },
  {
   "cell_type": "code",
   "execution_count": null,
   "metadata": {
    "collapsed": true
   },
   "outputs": [],
   "source": [
    "def fib2(n):\n",
    "    a,b = 0,1\n",
    "    for _ in xrange(n):\n",
    "        a,b = b,a+b\n",
    "    return b\n",
    "fib2(10)"
   ]
  },
  {
   "cell_type": "code",
   "execution_count": 65,
   "metadata": {},
   "outputs": [
    {
     "name": "stdout",
     "output_type": "stream",
     "text": [
      "0 1\n",
      "1 1\n"
     ]
    }
   ],
   "source": [
    "a,b = 0,1\n",
    "print a,b\n",
    "# a = b\n",
    "# b = a+b\n",
    "a,b = b,a+b\n",
    "print a,b\n"
   ]
  },
  {
   "cell_type": "code",
   "execution_count": 93,
   "metadata": {},
   "outputs": [],
   "source": [
    "def coinChange(values,valuesCounts,money,coinsUsed):\n",
    "    \"\"\"\n",
    "    :param values: 硬币的面值\n",
    "    ：param valuesCounts： 钱币对应的种类数\n",
    "    ：param money：找出来的总钱数\n",
    "    ：param coinsUsed：对应于目前钱币总数i 所使用的硬币数目\n",
    "    \"\"\"\n",
    "    # 遍历出从1 到money所有的钱数可能\n",
    "    for cents in range(1,money+1):\n",
    "        minCoins = cents\n",
    "        # 把所有的硬币面值遍历出来和钱数做对比\n",
    "        for kind in range(0,valuesCounts):\n",
    "            if values[kind] <= cents:\n",
    "                temp = coinsUsed[cents - values[kind]] + 1\n",
    "                if temp < minCoins:\n",
    "                    minCoins = temp\n",
    "        coinsUsed[cents]  = minCoins\n",
    "        print '面值:{0}的最少硬币使用数为:{1}'.format(cents, coinsUsed[cents])\n",
    "    return coinsUsed,used_list"
   ]
  },
  {
   "cell_type": "code",
   "execution_count": 95,
   "metadata": {
    "scrolled": true
   },
   "outputs": [
    {
     "name": "stdout",
     "output_type": "stream",
     "text": [
      "面值:1的最少硬币使用数为:1\n",
      "面值:2的最少硬币使用数为:1\n",
      "面值:3的最少硬币使用数为:2\n",
      "面值:4的最少硬币使用数为:2\n",
      "面值:5的最少硬币使用数为:1\n",
      "面值:6的最少硬币使用数为:2\n",
      "面值:7的最少硬币使用数为:2\n",
      "面值:8的最少硬币使用数为:3\n",
      "面值:9的最少硬币使用数为:3\n",
      "面值:10的最少硬币使用数为:1\n",
      "面值:11的最少硬币使用数为:2\n",
      "面值:12的最少硬币使用数为:2\n",
      "面值:13的最少硬币使用数为:3\n",
      "面值:14的最少硬币使用数为:3\n",
      "面值:15的最少硬币使用数为:2\n",
      "面值:16的最少硬币使用数为:3\n",
      "面值:17的最少硬币使用数为:3\n",
      "面值:18的最少硬币使用数为:4\n",
      "面值:19的最少硬币使用数为:4\n",
      "面值:20的最少硬币使用数为:2\n",
      "面值:21的最少硬币使用数为:3\n",
      "面值:22的最少硬币使用数为:3\n",
      "面值:23的最少硬币使用数为:4\n",
      "面值:24的最少硬币使用数为:4\n",
      "面值:25的最少硬币使用数为:1\n",
      "面值:26的最少硬币使用数为:2\n",
      "面值:27的最少硬币使用数为:2\n",
      "面值:28的最少硬币使用数为:3\n",
      "面值:29的最少硬币使用数为:3\n",
      "面值:30的最少硬币使用数为:2\n",
      "面值:31的最少硬币使用数为:3\n",
      "面值:32的最少硬币使用数为:3\n",
      "面值:33的最少硬币使用数为:4\n",
      "面值:34的最少硬币使用数为:4\n",
      "面值:35的最少硬币使用数为:2\n",
      "面值:36的最少硬币使用数为:3\n",
      "面值:37的最少硬币使用数为:3\n",
      "面值:38的最少硬币使用数为:4\n",
      "面值:39的最少硬币使用数为:4\n",
      "面值:40的最少硬币使用数为:3\n",
      "面值:41的最少硬币使用数为:4\n",
      "面值:42的最少硬币使用数为:4\n",
      "面值:43的最少硬币使用数为:5\n",
      "面值:44的最少硬币使用数为:5\n",
      "面值:45的最少硬币使用数为:3\n",
      "面值:46的最少硬币使用数为:4\n",
      "面值:47的最少硬币使用数为:4\n",
      "面值:48的最少硬币使用数为:5\n",
      "面值:49的最少硬币使用数为:5\n",
      "面值:50的最少硬币使用数为:2\n",
      "面值:51的最少硬币使用数为:3\n",
      "面值:52的最少硬币使用数为:3\n",
      "面值:53的最少硬币使用数为:4\n",
      "面值:54的最少硬币使用数为:4\n",
      "面值:55的最少硬币使用数为:3\n",
      "面值:56的最少硬币使用数为:4\n",
      "面值:57的最少硬币使用数为:4\n",
      "面值:58的最少硬币使用数为:5\n",
      "面值:59的最少硬币使用数为:5\n",
      "面值:60的最少硬币使用数为:3\n",
      "面值:61的最少硬币使用数为:4\n",
      "面值:62的最少硬币使用数为:4\n",
      "面值:63的最少硬币使用数为:5\n",
      "面值:64的最少硬币使用数为:5\n",
      "*************\n",
      "5\n",
      "[0, 0, 2, 2, 2, 5, 5, 2, 2, 2, 10, 10, 2, 2, 2, 5, 5, 2, 2, 2, 10, 10, 2, 2, 2, 25, 1, 2, 2, 2, 5, 5, 2, 2, 2, 10, 10, 2, 2, 2, 5, 5, 2, 2, 2, 10, 10, 2, 2, 2, 25, 1, 2, 2, 2, 5, 5, 2, 2, 2, 10, 10, 2, 2, 2, 0, 0, 0, 0, 0, 0, 0, 0, 0, 0, 0, 0, 0, 0, 0, 0, 0, 0, 0, 0, 0, 0, 0, 0, 0, 0, 0, 0, 0, 0, 0, 0, 0, 0, 0]\n",
      "[5]\n"
     ]
    }
   ],
   "source": [
    "tmp,used = coinChange(values=[2,5,10,1,25],valuesCounts=len([2,5,10,1,25]),money=64,coinsUsed=[0]*100\n",
    "                ,used_list=[0]*100)\n",
    "print \"*************\"\n",
    "print tmp[64]"
   ]
  },
  {
   "cell_type": "code",
   "execution_count": 99,
   "metadata": {},
   "outputs": [
    {
     "name": "stdout",
     "output_type": "stream",
     "text": [
      "64 需要 4 个货币来找零\n",
      "[1, 21, 21, 21]\n"
     ]
    }
   ],
   "source": [
    "def giveChange(need_change,currency_list,num_list,used_list):\n",
    "    \"\"\"\n",
    "    :param need_change 需要找零的金额\n",
    "    :param currency_list: 货币的面值\n",
    "    :param num_list: 为需要找零的最少货币数目\n",
    "    \"\"\"\n",
    "    for change in range(need_change+1):\n",
    "        for currency in currency_list:\n",
    "            if change - currency >=0 and num_list[change-currency]+1<num_list[change]:\n",
    "                num_list[change] = num_list[change - currency] + 1\n",
    "                used_list[change] = currency\n",
    "def showChange(need_change,used_list):\n",
    "    \"\"\"\n",
    "    \"\"\"\n",
    "    give_list = []\n",
    "    while need_change > 0:\n",
    "        give_list.append(used_list[need_change])\n",
    "        need_change -= used_list[need_change]\n",
    "    give_list.sort()\n",
    "    return give_list\n",
    "\n",
    "need_change = 64 #需要找零的钱数\n",
    "currency_list = [3,5,10,21,25] # 该国的货币面值列表\n",
    "num_list = list(range(need_change+1)) #初始化num_list为0到need_change,共(need_change+1)个数\n",
    "used_list = list(range(need_change+1)) #初始化used_list为0到need_change,共(need_change+1)个数\n",
    "giveChange(need_change, currency_list, num_list, used_list)\n",
    "print(\"%d 需要 %d 个货币来找零\"%(need_change, num_list[need_change]))\n",
    "give_list = showChange(need_change, used_list)\n",
    "print(give_list)\n",
    "\n"
   ]
  },
  {
   "cell_type": "markdown",
   "metadata": {},
   "source": [
    "### 二叉树"
   ]
  },
  {
   "cell_type": "code",
   "execution_count": 100,
   "metadata": {
    "collapsed": true
   },
   "outputs": [],
   "source": [
    "# 二叉树节点\n",
    "class Node(object):\n",
    "    def __init__(self,data,left= None,right = None):\n",
    "        self.data = data\n",
    "        self.left = left\n",
    "        self.right = right\n",
    "        \n",
    "tree = Node(data=1,left = Node(data=3,left=Node(data = 0),right =Node(6) ),\n",
    "            right =Node(data = 2,left = Node(5),right = Node(4)) )"
   ]
  },
  {
   "cell_type": "code",
   "execution_count": 132,
   "metadata": {},
   "outputs": [],
   "source": [
    "# 层次遍历\n",
    "def lookup(root):\n",
    "    stack = [root]\n",
    "    while stack:\n",
    "        current = stack.pop(0)\n",
    "        print current.data\n",
    "        if current.left:\n",
    "            stack.append(current.left)\n",
    "        if current.right:\n",
    "            stack.append(current.right)\n",
    "        "
   ]
  },
  {
   "cell_type": "code",
   "execution_count": 133,
   "metadata": {},
   "outputs": [
    {
     "name": "stdout",
     "output_type": "stream",
     "text": [
      "1\n",
      "3\n",
      "2\n",
      "0\n",
      "6\n",
      "5\n",
      "4\n"
     ]
    }
   ],
   "source": [
    "lookup(tree)"
   ]
  },
  {
   "cell_type": "code",
   "execution_count": 134,
   "metadata": {},
   "outputs": [
    {
     "name": "stdout",
     "output_type": "stream",
     "text": [
      "1\n",
      "3\n",
      "0\n",
      "6\n",
      "2\n",
      "5\n",
      "4\n"
     ]
    }
   ],
   "source": [
    "# 深度遍历\n",
    "def deep(root):\n",
    "    if not root:\n",
    "        return \n",
    "    print root.data\n",
    "    deep(root.left)\n",
    "    deep(root.right)\n",
    "deep(tree)"
   ]
  },
  {
   "cell_type": "code",
   "execution_count": 204,
   "metadata": {},
   "outputs": [
    {
     "name": "stdout",
     "output_type": "stream",
     "text": [
      " \n",
      " \n",
      " \n",
      " \n",
      " \n",
      "后序遍历结果：\n",
      "0\n",
      "7\n",
      "6\n",
      "3\n",
      "5\n",
      "4\n",
      "2\n",
      "1\n",
      " \n",
      "后序遍历结果：-非递归（堆栈）\n",
      "0\n",
      "7\n",
      "6\n",
      "3\n",
      "5\n",
      "4\n",
      "2\n",
      "1\n",
      " \n",
      "最大树深：\n",
      "4\n",
      " \n",
      "判断两棵树是否相同：\n",
      "False\n",
      " \n",
      "重构后的 后序遍历结果：\n",
      "G\n",
      "D\n",
      "B\n",
      "E\n",
      "H\n",
      "F\n",
      "C\n",
      "A\n",
      " \n"
     ]
    }
   ],
   "source": [
    "# 前中后序遍历\n",
    "#二叉树节点类\n",
    "class Node(object):\n",
    "    def __init__(self,data,left = None,right = None):\n",
    "        self.data = data\n",
    "        self.left = left\n",
    "        self.right = right\n",
    "\n",
    "tree = Node(1, Node(3, Node(7, Node(0)), Node(6)), Node(2, Node(5), Node(4)))\n",
    "\n",
    "#深度优先一般用递归，广度优先一般用队列\n",
    "# 层次遍历  队列\n",
    "def lookup(root):\n",
    "    stack = [root]\n",
    "    while stack:\n",
    "        current = stack.pop(0)\n",
    "        print current.data\n",
    "        if current.left:\n",
    "            stack.append(current.left)\n",
    "        if current.right:\n",
    "            stack.append(current.right)\n",
    "            \n",
    "# print \"层次遍历结果：\"\n",
    "# lookup(tree)\n",
    "print \" \"\n",
    "# 前序遍历：根 左 右\n",
    "def pre_travelsal(root):\n",
    "    print root.data\n",
    "    if root.left:\n",
    "        pre_travelsal(root.left)\n",
    "    if root.right:\n",
    "        pre_travelsal(root.right)\n",
    "# print \"前序遍历结果：\"\n",
    "# pre_travelsal(tree)\n",
    "print \" \"\n",
    "\n",
    "# 前序遍历 非递归版--堆栈实现\n",
    "def front_stack(root):\n",
    "    if root is None:\n",
    "        return \n",
    "    mystack = []\n",
    "    node = root\n",
    "    while node or mystack:\n",
    "        while node:\n",
    "            print node.data\n",
    "            mystack.append(node)\n",
    "            node = node.left\n",
    "        node = mystack.pop()\n",
    "        node = node.right\n",
    "# print \"前序遍历结果-非递归（堆栈）：\"\n",
    "# front_stack(tree)\n",
    "print \" \"\n",
    "\n",
    "# 中序遍历：左 根 右\n",
    "def mid_travelsal(root):\n",
    "    if root.left is not None:\n",
    "        mid_travelsal(root.left)\n",
    "    print root.data\n",
    "    if root.right is not None:\n",
    "        mid_travelsal(root.right)\n",
    "    \n",
    "# print \"中序遍历结果：\"\n",
    "# mid_travelsal(tree)\n",
    "print \" \"\n",
    "\n",
    "# 中序遍历 非递归版--堆栈实现\n",
    "def mid_stack(root):\n",
    "    if root is None:\n",
    "        return\n",
    "    mystack = []\n",
    "    node = root\n",
    "    while node or mystack:\n",
    "        while node:\n",
    "            mystack.append(node)\n",
    "            node = node.left\n",
    "        node = mystack.pop()\n",
    "        print node.data\n",
    "        node = node.right\n",
    "# print \"中序遍历结果-非递归（堆栈）：\"\n",
    "# mid_stack(tree)\n",
    "print \" \"   \n",
    "\n",
    "# 后序遍历 ：左 右 根\n",
    "def later_travelsal(root):\n",
    "    if root.left is not None:\n",
    "        later_travelsal(root.left)\n",
    "    if root.right is not None:\n",
    "        later_travelsal(root.right)\n",
    "    print root.data\n",
    "    \n",
    "print \"后序遍历结果：\"\n",
    "later_travelsal(tree)\n",
    "print \" \"\n",
    "# 后序遍历 ：非递归（堆栈）\n",
    "def later_stack(root):\n",
    "    if root is None:\n",
    "        return \n",
    "    node = root\n",
    "    mystack1 = []\n",
    "    mystack2 = []\n",
    "    mystack1.append(node)\n",
    "    # 后序遍历的 逆序入栈\n",
    "    while mystack1:\n",
    "        node = mystack1.pop()\n",
    "        if node.left:\n",
    "            mystack1.append(node.left)\n",
    "        if node.right:\n",
    "            mystack1.append(node.right)\n",
    "        mystack2.append(node)\n",
    "    # 出栈，得到后序遍历的次序\n",
    "    while mystack2:\n",
    "        print mystack2.pop().data\n",
    "print \"后序遍历结果：-非递归（堆栈）\"\n",
    "later_stack(tree)\n",
    "print \" \"        \n",
    "\n",
    "\n",
    "# 最大树深\n",
    "def maxDepth(root):\n",
    "    if not root:\n",
    "        return 0\n",
    "    return max(maxDepth(root.left),maxDepth(root.right)) + 1\n",
    "print \"最大树深：\"\n",
    "depth = maxDepth(tree)\n",
    "print depth\n",
    "print \" \"\n",
    "\n",
    "# 判断两棵树是否相同\n",
    "def isSameTree(p,q):\n",
    "    \"\"\"\n",
    "    :param p,q 树\n",
    "    \"\"\"\n",
    "    if p == None and q == None:\n",
    "        return True\n",
    "    elif p and q:\n",
    "        return p.data == q.data and isSameTree(p.left,q.left) and isSameTree(p.right,q.right)\n",
    "    else:\n",
    "        return False\n",
    "    \n",
    "print \"判断两棵树是否相同：\"\n",
    "tree1 = Node(1, Node(3, Node(7, Node(0)), Node(6)), Node(2, Node(5), Node(4)))\n",
    "tree2 = Node(data=1,left = Node(data=3,left=Node(data = 0),right =Node(6) ),\n",
    "            right =Node(data = 2,left = Node(5),right = Node(4)) )\n",
    "print isSameTree(p = tree1,q= tree2)\n",
    "print \" \"\n",
    "\n",
    "# 前序中序遍历 求后序遍历\n",
    "def rebuild(pre,center):\n",
    "    if not pre:\n",
    "        return\n",
    "    cur = Node(pre[0])\n",
    "    index = center.index(pre[0])\n",
    "    cur.left = rebuild(pre[1:index+1],center[:index])\n",
    "    cur.right = rebuild(pre[index+1:],center[index+1:])\n",
    "    return cur\n",
    "print \"重构后的 后序遍历结果：\"\n",
    "pre =['A','B','D','G','C','E','F','H']\n",
    "center = ['D','G','B','A','E','C','H','F']\n",
    "cur = rebuild(pre,center)\n",
    "later_travelsal(cur)\n",
    "print \" \""
   ]
  },
  {
   "cell_type": "code",
   "execution_count": null,
   "metadata": {
    "collapsed": true
   },
   "outputs": [],
   "source": []
  },
  {
   "cell_type": "code",
   "execution_count": 163,
   "metadata": {},
   "outputs": [
    {
     "name": "stdout",
     "output_type": "stream",
     "text": [
      "[1, 3, 2, 5, 4]\n"
     ]
    }
   ],
   "source": [
    "tree3 = Node(1,Node(3),Node(2,Node(5),Node(4)))\n",
    "a=[tree3]\n",
    "b = []\n",
    "while a:\n",
    "    node = a.pop(0)\n",
    "    b.append(node.data)\n",
    "    if node.left:\n",
    "        a.append(node.left)\n",
    "    if node.right:\n",
    "        a.append(node.right)\n",
    "    \n",
    "print b"
   ]
  },
  {
   "cell_type": "markdown",
   "metadata": {},
   "source": [
    "### python的列表实现堆栈和队列"
   ]
  },
  {
   "cell_type": "code",
   "execution_count": 176,
   "metadata": {},
   "outputs": [
    {
     "name": "stdout",
     "output_type": "stream",
     "text": [
      "[0, 1, 2, 3, 4, 5]\n",
      "[0, 1, 2]\n"
     ]
    }
   ],
   "source": [
    "# 堆栈 后进先出，用列表的append()实现 入栈push，pop()实现出栈pop操作\n",
    "class Stack:\n",
    "    def __init__(self,size):\n",
    "        self.size =size\n",
    "        self.stack = []\n",
    "        self.top = -1\n",
    "        \n",
    "    def push(self,x):\n",
    "        if self.isfull(): #检查栈是否已满\n",
    "            raise Exception(\"stack is full\")\n",
    "        else:\n",
    "            self.stack.append(x)\n",
    "            self.top = self.top + 1\n",
    "            \n",
    "    def pop(self):\n",
    "        if self.isempty():\n",
    "            raise Exception(\"stack is empty\")\n",
    "        else:\n",
    "            self.top = self.top -1\n",
    "            self.stack.pop()\n",
    "        \n",
    "    def isfull(self):\n",
    "        return self.top +1 ==self.size\n",
    "    \n",
    "    def isempty(self):\n",
    "        return self.top == -1\n",
    "    def printStack(self):\n",
    "        print self.stack\n",
    "\n",
    "s = Stack(10)\n",
    "for i in range(6):\n",
    "    s.push(i)\n",
    "s.printStack()\n",
    "for i in range(3):\n",
    "    s.pop()\n",
    "s.printStack()"
   ]
  },
  {
   "cell_type": "code",
   "execution_count": 180,
   "metadata": {},
   "outputs": [
    {
     "name": "stdout",
     "output_type": "stream",
     "text": [
      "[0, 1, 2, 3, 4, 5]\n",
      "[3, 4, 5]\n",
      "False\n"
     ]
    }
   ],
   "source": [
    "# 队列 先进先出  利用append()实现入队列，pop(0)出队列\n",
    "class Queue(object):\n",
    "    def __init__(self,size):\n",
    "        self.size = size\n",
    "        self.front = -1 # 模拟队头指针\n",
    "        self.rear = -1  # 模拟队尾指针\n",
    "        self.queue = []\n",
    "    \n",
    "    def enqueue(self,ele):\n",
    "        if self.isfull():\n",
    "            raise Exception(\"queue is full\")\n",
    "        else:\n",
    "            self.queue.append(ele)\n",
    "            self.rear = self.rear +1\n",
    "    \n",
    "    def dequeue(self):\n",
    "        if self.isempty():\n",
    "            raise Exception(\"queue is empty\")\n",
    "        else:\n",
    "            self.queue.pop(0)\n",
    "            self.front += 1\n",
    "    \n",
    "    def isfull(self):\n",
    "        return self.rear - self.front + 1 == self.size\n",
    "    \n",
    "    def isempty(self):\n",
    "        return self.front == self.rear\n",
    "    \n",
    "    def printQueue(self):\n",
    "        print self.queue\n",
    "\n",
    "q = Queue(10)\n",
    "for i in range(6):\n",
    "    q.enqueue(i)\n",
    "q.printQueue()\n",
    "for i in range(3):\n",
    "    q.dequeue()\n",
    "q.printQueue()\n",
    "print q.isempty()"
   ]
  },
  {
   "cell_type": "code",
   "execution_count": 181,
   "metadata": {
    "collapsed": true
   },
   "outputs": [],
   "source": [
    "# 词频统计\n",
    "import re,collections\n",
    "def words_counts(file):\n",
    "    with open(file) as f:\n",
    "        words_boxs=[]\n",
    "        for line in f:\n",
    "            if re.match(r'[a-zA-Z0-9]*',line):#字符 数字\n",
    "                words_boxs.extend(line.strip().split())\n",
    "    return collections.Counter(words_boxs)  # collections.Counter 返回 dict()转化为字典\n",
    "\n"
   ]
  },
  {
   "cell_type": "code",
   "execution_count": 203,
   "metadata": {
    "scrolled": true
   },
   "outputs": [
    {
     "name": "stdout",
     "output_type": "stream",
     "text": [
      "Counter({3: 8, 2: 6, 1: 1, 4: 1})\n",
      "[(3, 8), (2, 6)]\n"
     ]
    }
   ],
   "source": [
    "a=[1,2,3,4,3,2,3,3,3,3,3,3,2,2,2,2]\n",
    "b=collections.Counter(a)\n",
    "print b\n",
    "print b.most_common(2)"
   ]
  },
  {
   "cell_type": "code",
   "execution_count": 200,
   "metadata": {},
   "outputs": [
    {
     "data": {
      "text/plain": [
       "[(3, 3), (2, 2), (1, 1)]"
      ]
     },
     "execution_count": 200,
     "metadata": {},
     "output_type": "execute_result"
    }
   ],
   "source": [
    "b.most_common(2)"
   ]
  },
  {
   "cell_type": "code",
   "execution_count": 223,
   "metadata": {},
   "outputs": [
    {
     "name": "stdout",
     "output_type": "stream",
     "text": [
      "[1, 2, 3, 4, 5, 6, 7, 8, 9]\n",
      " \n",
      "[9, 8, 7, 6, 5, 4, 3, 2, 1]\n",
      " \n"
     ]
    }
   ],
   "source": [
    "### 单链表反转\n",
    "class Node(object):\n",
    "    def __init__(self,data = None,next= None):\n",
    "        self.data = data\n",
    "        self.next = next\n",
    "link = Node(1,Node(2,Node(3,Node(4,Node(5,Node(6,\n",
    "            Node(7,Node(8,Node(9)))))))))\n",
    "# 输出链表\n",
    "a=[]\n",
    "root = link\n",
    "while root:\n",
    "    a.append(root.data)\n",
    "    root =root.next\n",
    "print a\n",
    "print \" \"\n",
    "\n",
    "#反转\n",
    "def rev(link):\n",
    "    pre = link\n",
    "    cur = link.next\n",
    "    pre.next = None\n",
    "    while cur:\n",
    "        tmp = cur.next\n",
    "        cur.next = pre\n",
    "        pre = cur\n",
    "        cur = tmp\n",
    "    return pre\n",
    "\n",
    "root = rev(link)\n",
    "# 输出链表\n",
    "b=[]\n",
    "while root:\n",
    "    b.append(root.data)\n",
    "    root =root.next\n",
    "print b\n",
    "print \" \"\n",
    "\n"
   ]
  },
  {
   "cell_type": "markdown",
   "metadata": {},
   "source": [
    "### 全排列问题"
   ]
  },
  {
   "cell_type": "code",
   "execution_count": 231,
   "metadata": {},
   "outputs": [
    {
     "name": "stdout",
     "output_type": "stream",
     "text": [
      "[1, 2]\n",
      "[1, 2]\n",
      "[1, 2]\n",
      "[2, 1]\n",
      "[2, 1]\n",
      "[1, 2]\n",
      "2\n"
     ]
    }
   ],
   "source": [
    "# 递归思想\n",
    "COUNT = 0\n",
    "def full_permutation(n,begin,end):\n",
    "    \"\"\"\n",
    "    \"\"\"\n",
    "    global COUNT\n",
    "    if begin >= end:\n",
    "        print n\n",
    "        COUNT += 1\n",
    "    else:\n",
    "        i = begin\n",
    "        for num in range(begin,end):\n",
    "            n[num],n[i] = n[i],n[num]\n",
    "            full_permutation(n,begin+1,end)\n",
    "            n[num],n[i] = n[i],n[num]\n",
    "            print n\n",
    "n = [1,2]\n",
    "full_permutation(n,0,len(n))\n",
    "print COUNT"
   ]
  },
  {
   "cell_type": "markdown",
   "metadata": {},
   "source": [
    "[!image](http://7xsn7l.com2.z0.glb.clouddn.com/%E9%80%92%E5%BD%92%E5%AE%9E%E7%8E%B0%E5%85%A8%E6%8E%92%E5%88%97.png)"
   ]
  },
  {
   "cell_type": "code",
   "execution_count": 242,
   "metadata": {},
   "outputs": [
    {
     "name": "stdout",
     "output_type": "stream",
     "text": [
      "[1, 2, 3]\n",
      "[1, 3, 2]\n",
      "[2, 1, 3]\n",
      "[2, 3, 1]\n",
      "[3, 1, 2]\n",
      "[3, 2, 1]\n",
      "总共的排列个数为6\n"
     ]
    }
   ],
   "source": [
    "NUM = 0\n",
    "def perm(lists,stack):\n",
    "    global NUM\n",
    "    if not lists: #到树的最后。列表为空\n",
    "        print stack\n",
    "        NUM += 1\n",
    "    else:\n",
    "        for i in range(len(lists)):\n",
    "            stack.append(lists[i])\n",
    "            del lists[i]\n",
    "            perm(lists,stack)\n",
    "            lists.insert(i,stack.pop())\n",
    "lists=[1,2,3]\n",
    "stack=[]\n",
    "perm(lists,stack)\n",
    "print \"总共的排列个数为{0}\".format(NUM)"
   ]
  },
  {
   "cell_type": "markdown",
   "metadata": {
    "collapsed": true
   },
   "source": [
    "### 将一个数n的各数位分成两部分，两部分之和相等，则称这个数为神奇数。比如242分成[2,2]、[4]。输入一个范围[l, r]，输出这个范围内神奇数的个数。"
   ]
  },
  {
   "cell_type": "code",
   "execution_count": 266,
   "metadata": {},
   "outputs": [
    {
     "name": "stdout",
     "output_type": "stream",
     "text": [
      "11\n",
      "22\n",
      "33\n",
      "3\n"
     ]
    }
   ],
   "source": [
    "def canPartition(d,n,sum):\n",
    "    \"\"\"\n",
    "    :param lists: list\n",
    "    :param n: \n",
    "    :param sum: 和\n",
    "    \"\"\"\n",
    "    dp=[[0 for _ in range(n+1)]for _ in range(sum+1)]\n",
    "    print dp\n",
    "    for i in range(n+1):\n",
    "        dp[i][0] = True\n",
    "    for j in range(sum+1):\n",
    "        for i in range(n+1):\n",
    "            dp[i][j] = dp[i-1][j]  # 不选第i 个元素\n",
    "            if j>= d[i-1]: # 选第i个元素\n",
    "                dp[i][j] = dp[i][j]or dp[i-1][j-d[i-1]]\n",
    "                \n",
    "def check(num):\n",
    "    numbers = []\n",
    "    sum = 0\n",
    "    while num != 0:\n",
    "        numbers.append(num%10)\n",
    "        sum += num%10\n",
    "        num = num/10\n",
    "    if sum % 2 != 0:  # sum和 为奇数，直接返回\n",
    "        return False\n",
    "    for i in range(2**(len(numbers)-1),-1,-1):\n",
    "        \"\"\"\n",
    "          利用temp遍历每种情况的每个元素\n",
    "            1011 & 0001即遍历第一个元素的情况\n",
    "        \"\"\"\n",
    "        temp =1\n",
    "        sumA = 0\n",
    "        for j in range(len(numbers)):\n",
    "            if i & temp == 0:\n",
    "                sumA += numbers[j]\n",
    "            if sumA > sum/2:\n",
    "                break\n",
    "            temp = temp << 1\n",
    "        if sumA == sum/2:\n",
    "            return True\n",
    "\n",
    "cnt = 0\n",
    "for i in range(1,40):\n",
    "    if check(i):\n",
    "        print i\n",
    "        cnt = cnt +1\n",
    "print cnt"
   ]
  },
  {
   "cell_type": "code",
   "execution_count": 275,
   "metadata": {},
   "outputs": [
    {
     "name": "stdout",
     "output_type": "stream",
     "text": [
      "{0: [0], 1: [2, 3, 4, 5, 6, 7, 8, 9, 0], 2: [2, 3, 5, 6, 8, 9, 0], 3: [3, 6, 9], 4: [4, 5, 6, 7, 8, 9, 0], 5: [5, 6, 8, 9, 0], 6: [6, 9], 7: [7, 8, 9, 0], 8: [8, 9, 0], 9: [9]}\n",
      "max_v:  0\n",
      "max_v:  0\n",
      "max_v:  0\n",
      "max_v:  0\n",
      "7000\n"
     ]
    }
   ],
   "source": [
    "# example：  \n",
    "#   input: 1477     return: 1477  \n",
    "#   input: 2560     return: 2559  \n",
    "#   input: 4587     return: 4580  \n",
    "  \n",
    "# 先定义迁移字典  \n",
    "move_dict = {1:range(2,10)+[0],  \n",
    "             2:[2,3,5,6,8,9,0],  \n",
    "             3:[3,6,9],  \n",
    "             4:range(4,10)+[0],  \n",
    "             5:[5,6,8,9,0],  \n",
    "             6:[6,9],  \n",
    "             7:range(7,10)+[0],  \n",
    "             8:[8,9,0],  \n",
    "             9:[9],  \n",
    "             0:[0]}  \n",
    "print move_dict\n",
    "def judge(string):\n",
    "    val = [int(x) for x in string]\n",
    "    i = 0\n",
    "    while i < len(val)-1:\n",
    "        if val[i+1] in move_dict[val[i]]:\n",
    "            i += 1\n",
    "            continue\n",
    "        else:\n",
    "            max_v = None\n",
    "            for va in sorted(move_dict[val[i]]):\n",
    "                if va < val[i+1]:\n",
    "                    max_v = va \n",
    "                print 'max_v: ',max_v\n",
    "            if max_v is None:\n",
    "                val[i] -= 1\n",
    "            else:\n",
    "                val[i+1] = max_v\n",
    "                i += 1\n",
    "            for j in range(i+1,len(val)):\n",
    "                val[j] =max(move_dict[val[j-1]])\n",
    "            break\n",
    "    return int(\"\".join([str(x)for x in val]))\n",
    "\n",
    "# def test_judge():  \n",
    "#     import random  \n",
    "#     for i in range(10):  \n",
    "#         num = str(random.randint(0,10**4))  \n",
    "#         print num+': ', judge(num)  \n",
    "# test_judge() \n",
    "print judge('7185')"
   ]
  },
  {
   "cell_type": "code",
   "execution_count": 280,
   "metadata": {},
   "outputs": [
    {
     "data": {
      "text/plain": [
       "89"
      ]
     },
     "execution_count": 280,
     "metadata": {},
     "output_type": "execute_result"
    }
   ],
   "source": [
    "fib= lambda n:n if n<=2 else fib(n-1)+fib(n-2)\n",
    "fib(10)"
   ]
  },
  {
   "cell_type": "code",
   "execution_count": 281,
   "metadata": {},
   "outputs": [
    {
     "name": "stdout",
     "output_type": "stream",
     "text": [
      "5768\n"
     ]
    }
   ],
   "source": [
    "def fib(n):\n",
    "    if n ==1:\n",
    "        return 1\n",
    "    elif n==2:\n",
    "        return 2\n",
    "    elif n==3:\n",
    "        return 4\n",
    "    else:\n",
    "        return fib(n-1)+fib(n-2)+fib(n-3)\n",
    "print fib(15)"
   ]
  },
  {
   "cell_type": "code",
   "execution_count": 290,
   "metadata": {},
   "outputs": [
    {
     "name": "stdout",
     "output_type": "stream",
     "text": [
      "89\n"
     ]
    }
   ],
   "source": [
    "#动态规划\n",
    "def fun(n):\n",
    "    a=[0]*(n+1)\n",
    "    a[0],a[1],a[2]=0,1,2\n",
    "    for i in range(3,n+1):\n",
    "        a[i] = (a[i-1]+a[i-2])% 100000007\n",
    "    return a[n]\n",
    "print fun(10)"
   ]
  },
  {
   "cell_type": "code",
   "execution_count": 295,
   "metadata": {},
   "outputs": [
    {
     "name": "stdout",
     "output_type": "stream",
     "text": [
      "996\n"
     ]
    }
   ],
   "source": [
    "def get_length(n):\n",
    "    if n == 1:\n",
    "        return 1\n",
    "    else:\n",
    "        return n + n/2 + get_length(n/2)\n",
    "\n",
    "a =[100,90,80,70]\n",
    "sum= 0\n",
    "for i in a:\n",
    "    sum += get_length(i)\n",
    "print sum"
   ]
  },
  {
   "cell_type": "code",
   "execution_count": 310,
   "metadata": {},
   "outputs": [
    {
     "name": "stdout",
     "output_type": "stream",
     "text": [
      "24\n"
     ]
    }
   ],
   "source": [
    "def f(string):\n",
    "    stack = []\n",
    "    num = 1\n",
    "    for each in string:\n",
    "        if each == \"(\":\n",
    "            stack.append(each)\n",
    "        else:\n",
    "            num =  num * len(stack)\n",
    "            stack.pop()\n",
    "    return num\n",
    "print f(\"(((())))\")"
   ]
  },
  {
   "cell_type": "code",
   "execution_count": 9,
   "metadata": {},
   "outputs": [
    {
     "ename": "KeyboardInterrupt",
     "evalue": "",
     "traceback": [
      "\u001b[1;31m---------------------------------------------------------------------------\u001b[0m",
      "\u001b[1;31mKeyboardInterrupt\u001b[0m                         Traceback (most recent call last)",
      "\u001b[1;32m<ipython-input-9-39f823d10d36>\u001b[0m in \u001b[0;36m<module>\u001b[1;34m()\u001b[0m\n\u001b[0;32m     19\u001b[0m     \u001b[1;32mreturn\u001b[0m \u001b[0mappleNum\u001b[0m\u001b[1;33m\u001b[0m\u001b[0m\n\u001b[0;32m     20\u001b[0m \u001b[1;33m\u001b[0m\u001b[0m\n\u001b[1;32m---> 21\u001b[1;33m \u001b[1;32mprint\u001b[0m \u001b[0mdivideapple\u001b[0m\u001b[1;33m(\u001b[0m\u001b[1;36m2\u001b[0m\u001b[1;33m)\u001b[0m\u001b[1;33m\u001b[0m\u001b[0m\n\u001b[0m",
      "\u001b[1;32m<ipython-input-9-39f823d10d36>\u001b[0m in \u001b[0;36mdivideapple\u001b[1;34m(bearNum)\u001b[0m\n\u001b[0;32m     16\u001b[0m         \u001b[1;32mif\u001b[0m \u001b[0mi\u001b[0m \u001b[1;33m==\u001b[0m \u001b[0mbearNum\u001b[0m\u001b[1;33m:\u001b[0m\u001b[1;33m\u001b[0m\u001b[0m\n\u001b[0;32m     17\u001b[0m             \u001b[1;32mbreak\u001b[0m\u001b[1;33m\u001b[0m\u001b[0m\n\u001b[1;32m---> 18\u001b[1;33m         \u001b[0mtestNum\u001b[0m \u001b[1;33m+=\u001b[0m \u001b[1;36m1\u001b[0m\u001b[1;33m\u001b[0m\u001b[0m\n\u001b[0m\u001b[0;32m     19\u001b[0m     \u001b[1;32mreturn\u001b[0m \u001b[0mappleNum\u001b[0m\u001b[1;33m\u001b[0m\u001b[0m\n\u001b[0;32m     20\u001b[0m \u001b[1;33m\u001b[0m\u001b[0m\n",
      "\u001b[1;31mKeyboardInterrupt\u001b[0m: "
     ],
     "output_type": "error"
    }
   ],
   "source": [
    "def divideapple(bearNum):\n",
    "    if bearNum < 1 :\n",
    "        return 0\n",
    "    elif bearNum == 1:\n",
    "        return 1\n",
    "    testNum = 1\n",
    "    appleNum = 0\n",
    "    i = 0\n",
    "    while True:\n",
    "        appleNum = testNum\n",
    "        for i in range(bearNum):\n",
    "            if appleNum %(bearNum -1) != 0:\n",
    "                appleNum = appleNum/(bearNum -1)* bearNum +1\n",
    "            else:\n",
    "                break\n",
    "        if i == bearNum:\n",
    "            break\n",
    "        testNum += 1\n",
    "    return appleNum\n",
    "\n",
    "print divideapple(2)"
   ]
  },
  {
   "cell_type": "code",
   "execution_count": 15,
   "metadata": {},
   "outputs": [
    {
     "name": "stdout",
     "output_type": "stream",
     "text": [
      "abracadabra\n",
      "abracad\n",
      "abracadabracadabra\n"
     ]
    }
   ],
   "source": [
    "s =  \"abracadabra\"\n",
    "s1 = \"abracadabra\"\n",
    "def func(s):\n",
    "    for i in range(1,len(s)):\n",
    "        j = 0\n",
    "        tmp = i\n",
    "        while s[j] == s[tmp]:\n",
    "            if tmp ==len(s) -1:\n",
    "                tmps = s[0:i]\n",
    "                print tmps\n",
    "                return tmps + s\n",
    "            j += 1\n",
    "            tmp +=1\n",
    "    return s+s\n",
    "print s\n",
    "print func(s)\n",
    "        \n",
    "            "
   ]
  },
  {
   "cell_type": "code",
   "execution_count": null,
   "metadata": {
    "collapsed": true
   },
   "outputs": [],
   "source": []
  },
  {
   "cell_type": "code",
   "execution_count": 2,
   "metadata": {},
   "outputs": [
    {
     "name": "stdout",
     "output_type": "stream",
     "text": [
      "AA AB AC AD BA BB BC BD CA CB CC CD DA DB DC DD\n"
     ]
    }
   ],
   "source": [
    "import itertools\n",
    "for i in itertools.product('ABCD',repeat =2):\n",
    "    print ''.join(i),\n",
    "    "
   ]
  },
  {
   "cell_type": "code",
   "execution_count": 27,
   "metadata": {},
   "outputs": [
    {
     "name": "stdout",
     "output_type": "stream",
     "text": [
      "ABCD ABDC ACBD ACDB ADBC ADCB BACD BADC BCAD BCDA BDAC BDCA CABD CADB CBAD CBDA CDAB CDBA DABC DACB DBAC DBCA DCAB DCBA\n"
     ]
    }
   ],
   "source": [
    "for  i in itertools.permutations('ABCD',4):\n",
    "    print ''.join(i),"
   ]
  },
  {
   "cell_type": "code",
   "execution_count": null,
   "metadata": {
    "collapsed": true
   },
   "outputs": [],
   "source": []
  },
  {
   "cell_type": "code",
   "execution_count": 26,
   "metadata": {},
   "outputs": [
    {
     "name": "stdout",
     "output_type": "stream",
     "text": [
      "ABCD\n"
     ]
    }
   ],
   "source": [
    "for i in itertools.combinations('ABCD',4):\n",
    "    print ''.join(i),"
   ]
  },
  {
   "cell_type": "code",
   "execution_count": null,
   "metadata": {
    "collapsed": true
   },
   "outputs": [],
   "source": []
  },
  {
   "cell_type": "code",
   "execution_count": 4,
   "metadata": {},
   "outputs": [
    {
     "name": "stdout",
     "output_type": "stream",
     "text": [
      "1/26,5/78,4/39\n",
      "(2, 6, 1, 7, 8, 5, 3, 9, 4)\n",
      "5/26,9/78,4/13\n",
      "(2, 6, 5, 7, 8, 9, 1, 3, 4)\n",
      "1/32,5/96,7/84\n",
      "(3, 2, 1, 9, 6, 5, 8, 4, 7)\n",
      "1/32,7/96,5/48\n",
      "(3, 2, 1, 9, 6, 7, 4, 8, 5)\n",
      "6/34,8/51,9/27\n",
      "(3, 4, 6, 5, 1, 8, 2, 7, 9)\n",
      "9/34,2/68,5/17\n",
      "(3, 4, 9, 6, 8, 2, 1, 7, 5)\n",
      "4/39,1/78,6/52\n",
      "(3, 9, 4, 7, 8, 1, 5, 2, 6)\n",
      "7/48,1/96,5/32\n",
      "(4, 8, 7, 9, 6, 1, 3, 2, 5)\n",
      "8/51,6/34,9/27\n",
      "(5, 1, 8, 3, 4, 6, 2, 7, 9)\n",
      "9/51,2/68,7/34\n",
      "(5, 1, 9, 6, 8, 2, 3, 4, 7)\n",
      "4/56,7/98,3/21\n",
      "(5, 6, 4, 9, 8, 7, 2, 1, 3)\n",
      "2/68,9/34,5/17\n",
      "(6, 8, 2, 3, 4, 9, 1, 7, 5)\n",
      "2/68,9/51,7/34\n",
      "(6, 8, 2, 5, 1, 9, 3, 4, 7)\n",
      "1/78,4/39,6/52\n",
      "(7, 8, 1, 3, 9, 4, 5, 2, 6)\n",
      "5/78,1/26,4/39\n",
      "(7, 8, 5, 2, 6, 1, 3, 9, 4)\n",
      "9/78,5/26,4/13\n",
      "(7, 8, 9, 2, 6, 5, 1, 3, 4)\n",
      "1/96,7/48,5/32\n",
      "(9, 6, 1, 4, 8, 7, 3, 2, 5)\n",
      "5/96,1/32,7/84\n",
      "(9, 6, 5, 3, 2, 1, 8, 4, 7)\n",
      "7/96,1/32,5/48\n",
      "(9, 6, 7, 3, 2, 1, 4, 8, 5)\n",
      "7/98,4/56,3/21\n",
      "(9, 8, 7, 5, 6, 4, 2, 1, 3)\n"
     ]
    }
   ],
   "source": [
    "import random\n",
    "import itertools\n",
    "a = [1,2,3,4,5,6,7,8,9]\n",
    "def fun(lists):\n",
    "    a = lists[0]\n",
    "    b = lists[1]\n",
    "    num1 = a*10+b\n",
    "    c = lists[2]\n",
    "    \n",
    "    d = lists[3]\n",
    "    e = lists[4]\n",
    "    num2 = d*10+e\n",
    "    f = lists[5]\n",
    "    \n",
    "    g = lists[6]\n",
    "    h = lists[7]\n",
    "    num3 = g*10+h\n",
    "    i = lists[8]\n",
    "    if c*num2*num3+f*num1*num3 == num1*num2*i:\n",
    "        print \"%s/%s,%s/%s,%s/%s\"%(c,num1,f,num2,i,num3)\n",
    "        return True\n",
    "    return False\n",
    "for  i in itertools.permutations(a,9):\n",
    "    if fun(i):\n",
    "        print i"
   ]
  }
 ],
 "metadata": {
  "anaconda-cloud": {},
  "kernelspec": {
   "display_name": "Python 3",
   "language": "python",
   "name": "python3"
  },
  "language_info": {
   "codemirror_mode": {
    "name": "ipython",
    "version": 3
   },
   "file_extension": ".py",
   "mimetype": "text/x-python",
   "name": "python",
   "nbconvert_exporter": "python",
   "pygments_lexer": "ipython3",
   "version": "3.6.4"
  }
 },
 "nbformat": 4,
 "nbformat_minor": 1
}

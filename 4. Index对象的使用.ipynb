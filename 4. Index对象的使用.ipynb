{
 "cells": [
  {
   "cell_type": "markdown",
   "metadata": {},
   "source": [
    "# index对象的使用\n",
    "## index对象是pandas的核心\n",
    "###  索引类似于元组，其本身不能赋值修改；在数据进行运算时，辅助自动对齐；多层索引帮助改变表的形态"
   ]
  },
  {
   "cell_type": "code",
   "execution_count": 1,
   "metadata": {},
   "outputs": [],
   "source": [
    "import numpy as np\n",
    "import pandas as pd"
   ]
  },
  {
   "cell_type": "markdown",
   "metadata": {},
   "source": [
    "### 以下将从单层索引和多层索引进行操作\n",
    "## 1.单层索引\n",
    "### 1.1 创建"
   ]
  },
  {
   "cell_type": "markdown",
   "metadata": {},
   "source": [
    "#### `pd.Index(data, dtype = Object, name= None)`\n",
    "- data:一维列表\n",
    "- dtype：默认 Object，索引元素的类型\n",
    "- name：索引元素的名字，类似于列的名字"
   ]
  },
  {
   "cell_type": "code",
   "execution_count": 4,
   "metadata": {},
   "outputs": [],
   "source": [
    "data=['a','b','c']\n",
    "name = 'name1'\n",
    "index = pd.Index(data,name=name)"
   ]
  },
  {
   "cell_type": "code",
   "execution_count": 5,
   "metadata": {},
   "outputs": [
    {
     "data": {
      "text/plain": [
       "Index(['a', 'b', 'c'], dtype='object', name='name1')"
      ]
     },
     "execution_count": 5,
     "metadata": {},
     "output_type": "execute_result"
    }
   ],
   "source": [
    "index"
   ]
  },
  {
   "cell_type": "code",
   "execution_count": 6,
   "metadata": {},
   "outputs": [
    {
     "data": {
      "text/plain": [
       "'name1'"
      ]
     },
     "execution_count": 6,
     "metadata": {},
     "output_type": "execute_result"
    }
   ],
   "source": [
    "index.name"
   ]
  },
  {
   "cell_type": "code",
   "execution_count": 8,
   "metadata": {},
   "outputs": [
    {
     "data": {
      "text/plain": [
       "dtype('O')"
      ]
     },
     "execution_count": 8,
     "metadata": {},
     "output_type": "execute_result"
    }
   ],
   "source": [
    "index.dtype"
   ]
  },
  {
   "cell_type": "code",
   "execution_count": 9,
   "metadata": {},
   "outputs": [
    {
     "data": {
      "text/plain": [
       "array(['a', 'b', 'c'], dtype=object)"
      ]
     },
     "execution_count": 9,
     "metadata": {},
     "output_type": "execute_result"
    }
   ],
   "source": [
    "index.values"
   ]
  },
  {
   "cell_type": "markdown",
   "metadata": {},
   "source": [
    "## 1.2 查\n",
    "### 查询方式和 一维ndarray或Series的 `[]` 完全一样"
   ]
  },
  {
   "cell_type": "code",
   "execution_count": 10,
   "metadata": {},
   "outputs": [
    {
     "data": {
      "text/plain": [
       "'a'"
      ]
     },
     "execution_count": 10,
     "metadata": {},
     "output_type": "execute_result"
    }
   ],
   "source": [
    "index[0]"
   ]
  },
  {
   "cell_type": "code",
   "execution_count": 13,
   "metadata": {},
   "outputs": [
    {
     "data": {
      "text/plain": [
       "Index(['a', 'b'], dtype='object', name='name1')"
      ]
     },
     "execution_count": 13,
     "metadata": {},
     "output_type": "execute_result"
    }
   ],
   "source": [
    "index[0:2] # 范围，返回index"
   ]
  },
  {
   "cell_type": "code",
   "execution_count": 14,
   "metadata": {},
   "outputs": [
    {
     "data": {
      "text/plain": [
       "Index(['a', 'c'], dtype='object', name='name1')"
      ]
     },
     "execution_count": 14,
     "metadata": {},
     "output_type": "execute_result"
    }
   ],
   "source": [
    "index[[0,2]] # 列表，返回index"
   ]
  },
  {
   "cell_type": "code",
   "execution_count": 15,
   "metadata": {},
   "outputs": [
    {
     "data": {
      "text/plain": [
       "Index(['a', 'b'], dtype='object', name='name1')"
      ]
     },
     "execution_count": 15,
     "metadata": {},
     "output_type": "execute_result"
    }
   ],
   "source": [
    "mask= [True,True,False]\n",
    "index[mask]"
   ]
  },
  {
   "cell_type": "markdown",
   "metadata": {},
   "source": [
    "## 1.3 改索引名\n",
    "- 索引的值不能修改，但是可以修改索引的名字"
   ]
  },
  {
   "cell_type": "markdown",
   "metadata": {},
   "source": [
    "### 1.3.1 直接改"
   ]
  },
  {
   "cell_type": "code",
   "execution_count": 16,
   "metadata": {},
   "outputs": [
    {
     "data": {
      "text/plain": [
       "Index(['a', 'b', 'c'], dtype='object', name='name1')"
      ]
     },
     "execution_count": 16,
     "metadata": {},
     "output_type": "execute_result"
    }
   ],
   "source": [
    "index"
   ]
  },
  {
   "cell_type": "code",
   "execution_count": 17,
   "metadata": {},
   "outputs": [
    {
     "data": {
      "text/plain": [
       "Index(['a', 'b', 'c'], dtype='object', name='new_name')"
      ]
     },
     "execution_count": 17,
     "metadata": {},
     "output_type": "execute_result"
    }
   ],
   "source": [
    "index.name=\"new_name\"\n",
    "index"
   ]
  },
  {
   "cell_type": "markdown",
   "metadata": {},
   "source": [
    "### 1.3.2 函数修改\n",
    "#### `Index.set_names(names, inplace= False)`\n",
    "- names: 要设置的名字，可以为列表\n",
    "- inplace：是否原地修改"
   ]
  },
  {
   "cell_type": "code",
   "execution_count": 19,
   "metadata": {},
   "outputs": [
    {
     "data": {
      "text/plain": [
       "Index(['a', 'b', 'c'], dtype='object', name='new_new_name')"
      ]
     },
     "execution_count": 19,
     "metadata": {},
     "output_type": "execute_result"
    }
   ],
   "source": [
    "index.set_names('new_new_name')"
   ]
  },
  {
   "cell_type": "code",
   "execution_count": 20,
   "metadata": {},
   "outputs": [
    {
     "data": {
      "text/plain": [
       "Index(['a', 'b', 'c'], dtype='object', name='new_name')"
      ]
     },
     "execution_count": 20,
     "metadata": {},
     "output_type": "execute_result"
    }
   ],
   "source": [
    "index"
   ]
  },
  {
   "cell_type": "markdown",
   "metadata": {},
   "source": [
    "## 1.4 增\n",
    "### 1.4.1 按位置增加一行\n",
    "### 函数`Index.insert(loc,item)`\n",
    "- loc：位置，数字\n",
    "- item：值"
   ]
  },
  {
   "cell_type": "code",
   "execution_count": 21,
   "metadata": {},
   "outputs": [
    {
     "data": {
      "text/plain": [
       "Index(['a', 'b', 'c'], dtype='object', name='new_name')"
      ]
     },
     "execution_count": 21,
     "metadata": {},
     "output_type": "execute_result"
    }
   ],
   "source": [
    "index"
   ]
  },
  {
   "cell_type": "code",
   "execution_count": 29,
   "metadata": {},
   "outputs": [
    {
     "data": {
      "text/plain": [
       "Index(['a', 'b', 'd', 'c'], dtype='object', name='new_name')"
      ]
     },
     "execution_count": 29,
     "metadata": {},
     "output_type": "execute_result"
    }
   ],
   "source": [
    "index.insert(loc=2, item='d')"
   ]
  },
  {
   "cell_type": "markdown",
   "metadata": {},
   "source": [
    "### 1.4.2 尾部添加多行\n",
    "#### 函数 `Index.append(other)`\n",
    "- other:其他索引对象"
   ]
  },
  {
   "cell_type": "code",
   "execution_count": 36,
   "metadata": {},
   "outputs": [
    {
     "data": {
      "text/plain": [
       "Index(['a', 'b', 'c'], dtype='object', name='new_name')"
      ]
     },
     "execution_count": 36,
     "metadata": {},
     "output_type": "execute_result"
    }
   ],
   "source": [
    "index2 = index.copy()\n",
    "index2"
   ]
  },
  {
   "cell_type": "code",
   "execution_count": 37,
   "metadata": {},
   "outputs": [
    {
     "data": {
      "text/plain": [
       "Index(['a', 'b', 'c'], dtype='object', name='new_name')"
      ]
     },
     "execution_count": 37,
     "metadata": {},
     "output_type": "execute_result"
    }
   ],
   "source": [
    "index2"
   ]
  },
  {
   "cell_type": "code",
   "execution_count": 38,
   "metadata": {},
   "outputs": [
    {
     "data": {
      "text/plain": [
       "Index(['a', 'b', 'c', 'a', 'b', 'c'], dtype='object', name='new_name')"
      ]
     },
     "execution_count": 38,
     "metadata": {},
     "output_type": "execute_result"
    }
   ],
   "source": [
    "index.append(index2)"
   ]
  },
  {
   "cell_type": "code",
   "execution_count": 40,
   "metadata": {},
   "outputs": [
    {
     "data": {
      "text/plain": [
       "Index(['a', 'b', 'c'], dtype='object', name='new_new_name')"
      ]
     },
     "execution_count": 40,
     "metadata": {},
     "output_type": "execute_result"
    }
   ],
   "source": [
    "index2.name='new_new_name'\n",
    "index2"
   ]
  },
  {
   "cell_type": "code",
   "execution_count": 42,
   "metadata": {},
   "outputs": [
    {
     "data": {
      "text/plain": [
       "Index(['a', 'b', 'c', 'a', 'b', 'c'], dtype='object')"
      ]
     },
     "execution_count": 42,
     "metadata": {},
     "output_type": "execute_result"
    }
   ],
   "source": [
    "index3=index.append(index2)\n",
    "index3"
   ]
  },
  {
   "cell_type": "code",
   "execution_count": 43,
   "metadata": {},
   "outputs": [
    {
     "data": {
      "text/plain": [
       "'new_name'"
      ]
     },
     "execution_count": 43,
     "metadata": {},
     "output_type": "execute_result"
    }
   ],
   "source": [
    "index.name"
   ]
  },
  {
   "cell_type": "markdown",
   "metadata": {},
   "source": [
    "### 1.4.3 并\n",
    "#### 函数`Index.union(other)`\n",
    "- other:其他索引对象"
   ]
  },
  {
   "cell_type": "code",
   "execution_count": 44,
   "metadata": {},
   "outputs": [
    {
     "data": {
      "text/plain": [
       "Index(['a', 'b', 'd'], dtype='object', name='nihao')"
      ]
     },
     "execution_count": 44,
     "metadata": {},
     "output_type": "execute_result"
    }
   ],
   "source": [
    "index4 = pd.Index(['a','b','d'],name='nihao')\n",
    "index4"
   ]
  },
  {
   "cell_type": "code",
   "execution_count": 45,
   "metadata": {},
   "outputs": [
    {
     "data": {
      "text/plain": [
       "Index(['a', 'b', 'c'], dtype='object', name='new_name')"
      ]
     },
     "execution_count": 45,
     "metadata": {},
     "output_type": "execute_result"
    }
   ],
   "source": [
    "index"
   ]
  },
  {
   "cell_type": "code",
   "execution_count": 46,
   "metadata": {},
   "outputs": [
    {
     "data": {
      "text/plain": [
       "Index(['a', 'b', 'c', 'd'], dtype='object')"
      ]
     },
     "execution_count": 46,
     "metadata": {},
     "output_type": "execute_result"
    }
   ],
   "source": [
    "index.union(index4)"
   ]
  },
  {
   "cell_type": "markdown",
   "metadata": {},
   "source": [
    "## 1.5 删\n",
    "### 1.5.1 按位置删除一行\n",
    "#### 函数 `Index.delete(loc)`\n",
    "- loc:位置 "
   ]
  },
  {
   "cell_type": "code",
   "execution_count": 47,
   "metadata": {},
   "outputs": [
    {
     "data": {
      "text/plain": [
       "Index(['a', 'c'], dtype='object', name='new_name')"
      ]
     },
     "execution_count": 47,
     "metadata": {},
     "output_type": "execute_result"
    }
   ],
   "source": [
    "index.delete(1)"
   ]
  },
  {
   "cell_type": "code",
   "execution_count": 48,
   "metadata": {},
   "outputs": [
    {
     "data": {
      "text/plain": [
       "Index(['a', 'b', 'c'], dtype='object', name='new_name')"
      ]
     },
     "execution_count": 48,
     "metadata": {},
     "output_type": "execute_result"
    }
   ],
   "source": [
    "index"
   ]
  },
  {
   "cell_type": "markdown",
   "metadata": {},
   "source": [
    "### 1.5.2 按索引删除多行\n",
    "#### 函数 `Index.drop(labels)`\n",
    "- labels:索引列表"
   ]
  },
  {
   "cell_type": "code",
   "execution_count": 49,
   "metadata": {},
   "outputs": [
    {
     "data": {
      "text/plain": [
       "Index(['b', 'c'], dtype='object', name='new_name')"
      ]
     },
     "execution_count": 49,
     "metadata": {},
     "output_type": "execute_result"
    }
   ],
   "source": [
    "index.drop('a')"
   ]
  },
  {
   "cell_type": "code",
   "execution_count": 50,
   "metadata": {},
   "outputs": [
    {
     "data": {
      "text/plain": [
       "Index(['a', 'b', 'c'], dtype='object', name='new_name')"
      ]
     },
     "execution_count": 50,
     "metadata": {},
     "output_type": "execute_result"
    }
   ],
   "source": [
    "index"
   ]
  },
  {
   "cell_type": "markdown",
   "metadata": {},
   "source": [
    "### 1.5.3 交\n",
    "#### 函数`Index.intersection(other)`\n",
    "- other:其他索引对象"
   ]
  },
  {
   "cell_type": "code",
   "execution_count": 51,
   "metadata": {},
   "outputs": [
    {
     "data": {
      "text/plain": [
       "Index(['a', 'b', 'd'], dtype='object', name='nihao')"
      ]
     },
     "execution_count": 51,
     "metadata": {},
     "output_type": "execute_result"
    }
   ],
   "source": [
    "index4"
   ]
  },
  {
   "cell_type": "code",
   "execution_count": 52,
   "metadata": {},
   "outputs": [
    {
     "data": {
      "text/plain": [
       "Index(['a', 'b'], dtype='object')"
      ]
     },
     "execution_count": 52,
     "metadata": {},
     "output_type": "execute_result"
    }
   ],
   "source": [
    "index.intersection(index4)"
   ]
  },
  {
   "cell_type": "markdown",
   "metadata": {},
   "source": [
    "## ---------------------------------------------------------------------------------------------------\n",
    "## 2.多层索引\n",
    "### 2.1多层索引创建\n",
    "#### 函数`pd.MultiIndex.from_tuples(tuples, names=None)`\n",
    "- tuples: 元组或列表 的列表\n",
    "- names：名字的列表\n",
    "### 函数`pd.MultiIndex.from_arrays(arrays,names)`"
   ]
  },
  {
   "cell_type": "code",
   "execution_count": 56,
   "metadata": {},
   "outputs": [
    {
     "data": {
      "text/plain": [
       "MultiIndex(levels=[['a', 'b'], ['one', 'two']],\n",
       "           labels=[[0, 0, 1], [0, 1, 0]],\n",
       "           names=['name1', 'name2'])"
      ]
     },
     "execution_count": 56,
     "metadata": {},
     "output_type": "execute_result"
    }
   ],
   "source": [
    "data=[('a','one'),('a','two'),('b','one')]\n",
    "index = pd.MultiIndex.from_tuples(tuples= data,names=['name1','name2'])\n",
    "index"
   ]
  },
  {
   "cell_type": "code",
   "execution_count": 57,
   "metadata": {},
   "outputs": [
    {
     "data": {
      "text/plain": [
       "name1  name2\n",
       "a      one      1\n",
       "       two      2\n",
       "b      one      3\n",
       "dtype: int64"
      ]
     },
     "execution_count": 57,
     "metadata": {},
     "output_type": "execute_result"
    }
   ],
   "source": [
    "s= pd.Series([1,2,3],index= index)\n",
    "s"
   ]
  },
  {
   "cell_type": "markdown",
   "metadata": {},
   "source": [
    "### 2.2 查\n",
    "查询方式和 单层 一样"
   ]
  },
  {
   "cell_type": "code",
   "execution_count": 58,
   "metadata": {},
   "outputs": [
    {
     "data": {
      "text/plain": [
       "MultiIndex(levels=[['a', 'b'], ['one', 'two']],\n",
       "           labels=[[0, 0, 1], [0, 1, 0]],\n",
       "           names=['name1', 'name2'])"
      ]
     },
     "execution_count": 58,
     "metadata": {},
     "output_type": "execute_result"
    }
   ],
   "source": [
    "index"
   ]
  },
  {
   "cell_type": "code",
   "execution_count": 59,
   "metadata": {},
   "outputs": [
    {
     "data": {
      "text/plain": [
       "('a', 'one')"
      ]
     },
     "execution_count": 59,
     "metadata": {},
     "output_type": "execute_result"
    }
   ],
   "source": [
    "index[0]"
   ]
  },
  {
   "cell_type": "code",
   "execution_count": 62,
   "metadata": {},
   "outputs": [
    {
     "data": {
      "text/plain": [
       "MultiIndex(levels=[['a', 'b'], ['one', 'two']],\n",
       "           labels=[[0, 0], [0, 1]],\n",
       "           names=['name1', 'name2'])"
      ]
     },
     "execution_count": 62,
     "metadata": {},
     "output_type": "execute_result"
    }
   ],
   "source": [
    "index[0:2] # 列表，返回 MultiIndex"
   ]
  },
  {
   "cell_type": "code",
   "execution_count": 63,
   "metadata": {},
   "outputs": [
    {
     "data": {
      "text/plain": [
       "MultiIndex(levels=[['a', 'b'], ['one', 'two']],\n",
       "           labels=[[0, 1], [0, 0]],\n",
       "           names=['name1', 'name2'])"
      ]
     },
     "execution_count": 63,
     "metadata": {},
     "output_type": "execute_result"
    }
   ],
   "source": [
    "index[[0,2]]"
   ]
  },
  {
   "cell_type": "code",
   "execution_count": 64,
   "metadata": {},
   "outputs": [],
   "source": [
    "# mark 也是一样的"
   ]
  },
  {
   "cell_type": "markdown",
   "metadata": {},
   "source": [
    "###  获取某一层索引 `MultiIndex.get_level_values(level)`\n",
    "- level: int,选中那一层"
   ]
  },
  {
   "cell_type": "code",
   "execution_count": 66,
   "metadata": {},
   "outputs": [
    {
     "data": {
      "text/plain": [
       "Index(['a', 'a', 'b'], dtype='object', name='name1')"
      ]
     },
     "execution_count": 66,
     "metadata": {},
     "output_type": "execute_result"
    }
   ],
   "source": [
    "index.get_level_values(level= 0)"
   ]
  },
  {
   "cell_type": "code",
   "execution_count": 67,
   "metadata": {},
   "outputs": [
    {
     "data": {
      "text/plain": [
       "Index(['one', 'two', 'one'], dtype='object', name='name2')"
      ]
     },
     "execution_count": 67,
     "metadata": {},
     "output_type": "execute_result"
    }
   ],
   "source": [
    "index.get_level_values(level=1)"
   ]
  },
  {
   "cell_type": "markdown",
   "metadata": {},
   "source": [
    "## 2.3 改\n",
    "## 2.3.1 改索引名\n",
    "### 函数 `MultiIndex.set_names(names,level = None, inplace=False)`\n",
    "- names; 要设置的名字，可以是名字列表\n",
    "- level：多层索引要设置修改的索引层次，需要与names 匹配（指names为列表的时候，level也为列表，需要匹配）\n",
    "- inplace：是否原地修改，默认 否"
   ]
  },
  {
   "cell_type": "code",
   "execution_count": 68,
   "metadata": {},
   "outputs": [
    {
     "data": {
      "text/plain": [
       "MultiIndex(levels=[['a', 'b'], ['one', 'two']],\n",
       "           labels=[[0, 0, 1], [0, 1, 0]],\n",
       "           names=['new_name1', 'name2'])"
      ]
     },
     "execution_count": 68,
     "metadata": {},
     "output_type": "execute_result"
    }
   ],
   "source": [
    "index.set_names(names='new_name1',level=0)"
   ]
  },
  {
   "cell_type": "code",
   "execution_count": 69,
   "metadata": {},
   "outputs": [
    {
     "data": {
      "text/plain": [
       "MultiIndex(levels=[['a', 'b'], ['one', 'two']],\n",
       "           labels=[[0, 0, 1], [0, 1, 0]],\n",
       "           names=['new_name11', 'new_name22'])"
      ]
     },
     "execution_count": 69,
     "metadata": {},
     "output_type": "execute_result"
    }
   ],
   "source": [
    "index.set_names(names=['new_name11','new_name22'],level=[0,1])"
   ]
  },
  {
   "cell_type": "markdown",
   "metadata": {},
   "source": [
    "### 2.3.2 改索引层次顺序\n",
    "### 函数 `MultiIndex.swaplevel(i=-2, j=-1)`"
   ]
  },
  {
   "cell_type": "code",
   "execution_count": 71,
   "metadata": {},
   "outputs": [
    {
     "name": "stdout",
     "output_type": "stream",
     "text": [
      "Help on MultiIndex in module pandas.core.indexes.multi object:\n",
      "\n",
      "class MultiIndex(pandas.core.indexes.base.Index)\n",
      " |  A multi-level, or hierarchical, index object for pandas objects\n",
      " |  \n",
      " |  Parameters\n",
      " |  ----------\n",
      " |  levels : sequence of arrays\n",
      " |      The unique labels for each level\n",
      " |  labels : sequence of arrays\n",
      " |      Integers for each level designating which label at each location\n",
      " |  sortorder : optional int\n",
      " |      Level of sortedness (must be lexicographically sorted by that\n",
      " |      level)\n",
      " |  names : optional sequence of objects\n",
      " |      Names for each of the index levels. (name is accepted for compat)\n",
      " |  copy : boolean, default False\n",
      " |      Copy the meta-data\n",
      " |  verify_integrity : boolean, default True\n",
      " |      Check that the levels/labels are consistent and valid\n",
      " |  \n",
      " |  Examples\n",
      " |  ---------\n",
      " |  A new ``MultiIndex`` is typically constructed using one of the helper\n",
      " |  methods :meth:`MultiIndex.from_arrays`, :meth:`MultiIndex.from_product`\n",
      " |  and :meth:`MultiIndex.from_tuples`. For example (using ``.from_arrays``):\n",
      " |  \n",
      " |  >>> arrays = [[1, 1, 2, 2], ['red', 'blue', 'red', 'blue']]\n",
      " |  >>> pd.MultiIndex.from_arrays(arrays, names=('number', 'color'))\n",
      " |  MultiIndex(levels=[[1, 2], ['blue', 'red']],\n",
      " |         labels=[[0, 0, 1, 1], [1, 0, 1, 0]],\n",
      " |         names=['number', 'color'])\n",
      " |  \n",
      " |  See further examples for how to construct a MultiIndex in the doc strings\n",
      " |  of the mentioned helper methods.\n",
      " |  \n",
      " |  Notes\n",
      " |  -----\n",
      " |  See the `user guide\n",
      " |  <http://pandas.pydata.org/pandas-docs/stable/advanced.html>`_ for more.\n",
      " |  \n",
      " |  See Also\n",
      " |  --------\n",
      " |  MultiIndex.from_arrays  : Convert list of arrays to MultiIndex\n",
      " |  MultiIndex.from_product : Create a MultiIndex from the cartesian product\n",
      " |                            of iterables\n",
      " |  MultiIndex.from_tuples  : Convert list of tuples to a MultiIndex\n",
      " |  Index : The base pandas Index type\n",
      " |  \n",
      " |  Method resolution order:\n",
      " |      MultiIndex\n",
      " |      pandas.core.indexes.base.Index\n",
      " |      pandas.core.base.IndexOpsMixin\n",
      " |      pandas.core.base.PandasObject\n",
      " |      pandas.core.base.StringMixin\n",
      " |      pandas.core.accessor.DirNamesMixin\n",
      " |      builtins.object\n",
      " |  \n",
      " |  Methods defined here:\n",
      " |  \n",
      " |  __abs__(self, other=None)\n",
      " |  \n",
      " |  __add__(self, other=None)\n",
      " |  \n",
      " |  __array__(self, dtype=None)\n",
      " |      the array interface, return my values\n",
      " |  \n",
      " |  __contains__(self, key)\n",
      " |      return a boolean if this key is IN the index\n",
      " |      \n",
      " |      Parameters\n",
      " |      ----------\n",
      " |      key : object\n",
      " |      \n",
      " |      Returns\n",
      " |      -------\n",
      " |      boolean\n",
      " |  \n",
      " |  __floordiv__(self, other=None)\n",
      " |  \n",
      " |  __getitem__(self, key)\n",
      " |      Override numpy.ndarray's __getitem__ method to work as desired.\n",
      " |      \n",
      " |      This function adds lists and Series as valid boolean indexers\n",
      " |      (ndarrays only supports ndarray with dtype=bool).\n",
      " |      \n",
      " |      If resulting ndim != 1, plain ndarray is returned instead of\n",
      " |      corresponding `Index` subclass.\n",
      " |  \n",
      " |  __getslice__(self, i, j)\n",
      " |  \n",
      " |  __inv__(self, other=None)\n",
      " |  \n",
      " |  __len__(self)\n",
      " |      return the length of the Index\n",
      " |  \n",
      " |  __mul__(self, other=None)\n",
      " |  \n",
      " |  __neg__(self, other=None)\n",
      " |  \n",
      " |  __pos__(self, other=None)\n",
      " |  \n",
      " |  __pow__(self, other=None)\n",
      " |  \n",
      " |  __radd__ = __add__(self, other=None)\n",
      " |  \n",
      " |  __reduce__(self)\n",
      " |      Necessary for making this object picklable\n",
      " |  \n",
      " |  __rfloordiv__ = __floordiv__(self, other=None)\n",
      " |  \n",
      " |  __rmul__ = __mul__(self, other=None)\n",
      " |  \n",
      " |  __rpow__ = __pow__(self, other=None)\n",
      " |  \n",
      " |  __rtruediv__ = __truediv__(self, other=None)\n",
      " |  \n",
      " |  __setstate__(self, state)\n",
      " |      Necessary for making this object picklable\n",
      " |  \n",
      " |  __sub__(self, other=None)\n",
      " |  \n",
      " |  __truediv__(self, other=None)\n",
      " |  \n",
      " |  all(self, other=None)\n",
      " |  \n",
      " |  any(self, other=None)\n",
      " |  \n",
      " |  append(self, other)\n",
      " |      Append a collection of Index options together\n",
      " |      \n",
      " |      Parameters\n",
      " |      ----------\n",
      " |      other : Index or list/tuple of indices\n",
      " |      \n",
      " |      Returns\n",
      " |      -------\n",
      " |      appended : Index\n",
      " |  \n",
      " |  argsort(self, *args, **kwargs)\n",
      " |      Returns the indices that would sort the index and its\n",
      " |      underlying data.\n",
      " |      \n",
      " |      Returns\n",
      " |      -------\n",
      " |      argsorted : numpy array\n",
      " |      \n",
      " |      See also\n",
      " |      --------\n",
      " |      numpy.ndarray.argsort\n",
      " |  \n",
      " |  astype(self, dtype, copy=True)\n",
      " |      Create an Index with values cast to dtypes. The class of a new Index\n",
      " |      is determined by dtype. When conversion is impossible, a ValueError\n",
      " |      exception is raised.\n",
      " |      \n",
      " |      Parameters\n",
      " |      ----------\n",
      " |      dtype : numpy dtype or pandas type\n",
      " |      copy : bool, default True\n",
      " |          By default, astype always returns a newly allocated object.\n",
      " |          If copy is set to False and internal requirements on dtype are\n",
      " |          satisfied, the original data is used to create a new Index\n",
      " |          or the original Index is returned.\n",
      " |      \n",
      " |          .. versionadded:: 0.19.0\n",
      " |  \n",
      " |  contains = __contains__(self, key)\n",
      " |  \n",
      " |  copy(self, names=None, dtype=None, levels=None, labels=None, deep=False, _set_identity=False, **kwargs)\n",
      " |      Make a copy of this object. Names, dtype, levels and labels can be\n",
      " |      passed and will be set on new copy.\n",
      " |      \n",
      " |      Parameters\n",
      " |      ----------\n",
      " |      names : sequence, optional\n",
      " |      dtype : numpy dtype or pandas type, optional\n",
      " |      levels : sequence, optional\n",
      " |      labels : sequence, optional\n",
      " |      \n",
      " |      Returns\n",
      " |      -------\n",
      " |      copy : MultiIndex\n",
      " |      \n",
      " |      Notes\n",
      " |      -----\n",
      " |      In most cases, there should be no functional difference from using\n",
      " |      ``deep``, but if ``deep`` is passed it will attempt to deepcopy.\n",
      " |      This could be potentially expensive on large MultiIndex objects.\n",
      " |  \n",
      " |  delete(self, loc)\n",
      " |      Make new index with passed location deleted\n",
      " |      \n",
      " |      Returns\n",
      " |      -------\n",
      " |      new_index : MultiIndex\n",
      " |  \n",
      " |  difference(self, other)\n",
      " |      Compute sorted set difference of two MultiIndex objects\n",
      " |      \n",
      " |      Returns\n",
      " |      -------\n",
      " |      diff : MultiIndex\n",
      " |  \n",
      " |  drop(self, labels, level=None, errors='raise')\n",
      " |      Make new MultiIndex with passed list of labels deleted\n",
      " |      \n",
      " |      Parameters\n",
      " |      ----------\n",
      " |      labels : array-like\n",
      " |          Must be a list of tuples\n",
      " |      level : int or level name, default None\n",
      " |      \n",
      " |      Returns\n",
      " |      -------\n",
      " |      dropped : MultiIndex\n",
      " |  \n",
      " |  droplevel(self, level=0)\n",
      " |      Return Index with requested level removed. If MultiIndex has only 2\n",
      " |      levels, the result will be of Index type not MultiIndex.\n",
      " |      \n",
      " |      Parameters\n",
      " |      ----------\n",
      " |      level : int/level name or list thereof\n",
      " |      \n",
      " |      Notes\n",
      " |      -----\n",
      " |      Does not check if result index is unique or not\n",
      " |      \n",
      " |      Returns\n",
      " |      -------\n",
      " |      index : Index or MultiIndex\n",
      " |  \n",
      " |  dropna(self, how='any')\n",
      " |      Return Index without NA/NaN values\n",
      " |      \n",
      " |      Parameters\n",
      " |      ----------\n",
      " |      how :  {'any', 'all'}, default 'any'\n",
      " |          If the Index is a MultiIndex, drop the value when any or all levels\n",
      " |          are NaN.\n",
      " |      \n",
      " |      Returns\n",
      " |      -------\n",
      " |      valid : Index\n",
      " |  \n",
      " |  duplicated(self, keep='first')\n",
      " |      Return boolean np.ndarray denoting duplicate values\n",
      " |      \n",
      " |      Parameters\n",
      " |      ----------\n",
      " |      keep : {'first', 'last', False}, default 'first'\n",
      " |          - ``first`` : Mark duplicates as ``True`` except for the first\n",
      " |            occurrence.\n",
      " |          - ``last`` : Mark duplicates as ``True`` except for the last\n",
      " |            occurrence.\n",
      " |          - False : Mark all duplicates as ``True``.\n",
      " |      \n",
      " |      Returns\n",
      " |      -------\n",
      " |      duplicated : np.ndarray\n",
      " |  \n",
      " |  equal_levels(self, other)\n",
      " |      Return True if the levels of both MultiIndex objects are the same\n",
      " |  \n",
      " |  equals(self, other)\n",
      " |      Determines if two MultiIndex objects have the same labeling information\n",
      " |      (the levels themselves do not necessarily have to be the same)\n",
      " |      \n",
      " |      See also\n",
      " |      --------\n",
      " |      equal_levels\n",
      " |  \n",
      " |  fillna(self, value=None, downcast=None)\n",
      " |      fillna is not implemented for MultiIndex\n",
      " |  \n",
      " |  format(self, space=2, sparsify=None, adjoin=True, names=False, na_rep=None, formatter=None)\n",
      " |      Render a string representation of the Index\n",
      " |  \n",
      " |  get_indexer(self, target, method=None, limit=None, tolerance=None)\n",
      " |      Compute indexer and mask for new index given the current index. The\n",
      " |      indexer should be then used as an input to ndarray.take to align the\n",
      " |      current data to the new index.\n",
      " |      \n",
      " |      Parameters\n",
      " |      ----------\n",
      " |      target : MultiIndex or list of tuples\n",
      " |      method : {None, 'pad'/'ffill', 'backfill'/'bfill', 'nearest'}, optional\n",
      " |          * default: exact matches only.\n",
      " |          * pad / ffill: find the PREVIOUS index value if no exact match.\n",
      " |          * backfill / bfill: use NEXT index value if no exact match\n",
      " |          * nearest: use the NEAREST index value if no exact match. Tied\n",
      " |            distances are broken by preferring the larger index value.\n",
      " |      limit : int, optional\n",
      " |          Maximum number of consecutive labels in ``target`` to match for\n",
      " |          inexact matches.\n",
      " |      tolerance : optional\n",
      " |          Maximum distance between original and new labels for inexact\n",
      " |          matches. The values of the index at the matching locations most\n",
      " |          satisfy the equation ``abs(index[indexer] - target) <= tolerance``.\n",
      " |      \n",
      " |          Tolerance may be a scalar value, which applies the same tolerance\n",
      " |          to all values, or list-like, which applies variable tolerance per\n",
      " |          element. List-like includes list, tuple, array, Series, and must be\n",
      " |          the same size as the index and its dtype must exactly match the\n",
      " |          index's type.\n",
      " |      \n",
      " |          .. versionadded:: 0.17.0\n",
      " |          .. versionadded:: 0.21.0 (list-like tolerance)\n",
      " |      \n",
      " |      Examples\n",
      " |      --------\n",
      " |      >>> indexer = index.get_indexer(new_index)\n",
      " |      >>> new_values = cur_values.take(indexer)\n",
      " |      \n",
      " |      Returns\n",
      " |      -------\n",
      " |      indexer : ndarray of int\n",
      " |          Integers from 0 to n - 1 indicating that the index at these\n",
      " |          positions matches the corresponding target values. Missing values\n",
      " |          in the target are marked by -1.\n",
      " |  \n",
      " |  get_indexer_non_unique(self, target)\n",
      " |      Compute indexer and mask for new index given the current index. The\n",
      " |      indexer should be then used as an input to ndarray.take to align the\n",
      " |      current data to the new index.\n",
      " |      \n",
      " |      Parameters\n",
      " |      ----------\n",
      " |      target : MultiIndex or list of tuples\n",
      " |      \n",
      " |      Returns\n",
      " |      -------\n",
      " |      indexer : ndarray of int\n",
      " |          Integers from 0 to n - 1 indicating that the index at these\n",
      " |          positions matches the corresponding target values. Missing values\n",
      " |          in the target are marked by -1.\n",
      " |      missing : ndarray of int\n",
      " |          An indexer into the target of the values not found.\n",
      " |          These correspond to the -1 in the indexer array\n",
      " |  \n",
      " |  get_level_values(self, level)\n",
      " |      Return vector of label values for requested level,\n",
      " |      equal to the length of the index.\n",
      " |      \n",
      " |      Parameters\n",
      " |      ----------\n",
      " |      level : int or str\n",
      " |          ``level`` is either the integer position of the level in the\n",
      " |          MultiIndex, or the name of the level.\n",
      " |      \n",
      " |      Returns\n",
      " |      -------\n",
      " |      values : Index\n",
      " |          ``values`` is a level of this MultiIndex converted to\n",
      " |          a single :class:`Index` (or subclass thereof).\n",
      " |      \n",
      " |      Examples\n",
      " |      ---------\n",
      " |      \n",
      " |      Create a MultiIndex:\n",
      " |      \n",
      " |      >>> mi = pd.MultiIndex.from_arrays((list('abc'), list('def')))\n",
      " |      >>> mi.names = ['level_1', 'level_2']\n",
      " |      \n",
      " |      Get level values by supplying level as either integer or name:\n",
      " |      \n",
      " |      >>> mi.get_level_values(0)\n",
      " |      Index(['a', 'b', 'c'], dtype='object', name='level_1')\n",
      " |      >>> mi.get_level_values('level_2')\n",
      " |      Index(['d', 'e', 'f'], dtype='object', name='level_2')\n",
      " |  \n",
      " |  get_loc(self, key, method=None)\n",
      " |      Get location for a label or a tuple of labels as an integer, slice or\n",
      " |      boolean mask.\n",
      " |      \n",
      " |      Parameters\n",
      " |      ----------\n",
      " |      key : label or tuple of labels (one for each level)\n",
      " |      method : None\n",
      " |      \n",
      " |      Returns\n",
      " |      -------\n",
      " |      loc : int, slice object or boolean mask\n",
      " |          If the key is past the lexsort depth, the return may be a\n",
      " |          boolean mask array, otherwise it is always a slice or int.\n",
      " |      \n",
      " |      Examples\n",
      " |      ---------\n",
      " |      >>> mi = pd.MultiIndex.from_arrays([list('abb'), list('def')])\n",
      " |      \n",
      " |      >>> mi.get_loc('b')\n",
      " |      slice(1, 3, None)\n",
      " |      \n",
      " |      >>> mi.get_loc(('b', 'e'))\n",
      " |      1\n",
      " |      \n",
      " |      Notes\n",
      " |      ------\n",
      " |      The key cannot be a slice, list of same-level labels, a boolean mask,\n",
      " |      or a sequence of such. If you want to use those, use\n",
      " |      :meth:`MultiIndex.get_locs` instead.\n",
      " |      \n",
      " |      See also\n",
      " |      --------\n",
      " |      Index.get_loc : get_loc method for (single-level) index.\n",
      " |      MultiIndex.slice_locs : Get slice location given start label(s) and\n",
      " |                              end label(s).\n",
      " |      MultiIndex.get_locs : Get location for a label/slice/list/mask or a\n",
      " |                            sequence of such.\n",
      " |  \n",
      " |  get_loc_level(self, key, level=0, drop_level=True)\n",
      " |      Get both the location for the requested label(s) and the\n",
      " |      resulting sliced index.\n",
      " |      \n",
      " |      Parameters\n",
      " |      ----------\n",
      " |      key : label or sequence of labels\n",
      " |      level : int/level name or list thereof, optional\n",
      " |      drop_level : bool, default True\n",
      " |          if ``False``, the resulting index will not drop any level.\n",
      " |      \n",
      " |      Returns\n",
      " |      -------\n",
      " |      loc : A 2-tuple where the elements are:\n",
      " |            Element 0: int, slice object or boolean array\n",
      " |            Element 1: The resulting sliced multiindex/index. If the key\n",
      " |            contains all levels, this will be ``None``.\n",
      " |      \n",
      " |      Examples\n",
      " |      --------\n",
      " |      >>> mi = pd.MultiIndex.from_arrays([list('abb'), list('def')],\n",
      " |      ...                                names=['A', 'B'])\n",
      " |      \n",
      " |      >>> mi.get_loc_level('b')\n",
      " |      (slice(1, 3, None), Index(['e', 'f'], dtype='object', name='B'))\n",
      " |      \n",
      " |      >>> mi.get_loc_level('e', level='B')\n",
      " |      (array([False,  True, False], dtype=bool),\n",
      " |      Index(['b'], dtype='object', name='A'))\n",
      " |      \n",
      " |      >>> mi.get_loc_level(['b', 'e'])\n",
      " |      (1, None)\n",
      " |      \n",
      " |      See Also\n",
      " |      ---------\n",
      " |      MultiIndex.get_loc  : Get location for a label or a tuple of labels.\n",
      " |      MultiIndex.get_locs : Get location for a label/slice/list/mask or a\n",
      " |                            sequence of such\n",
      " |  \n",
      " |  get_locs(self, seq)\n",
      " |      Get location for a given label/slice/list/mask or a sequence of such as\n",
      " |      an array of integers.\n",
      " |      \n",
      " |      Parameters\n",
      " |      ----------\n",
      " |      seq : label/slice/list/mask or a sequence of such\n",
      " |         You should use one of the above for each level.\n",
      " |         If a level should not be used, set it to ``slice(None)``.\n",
      " |      \n",
      " |      Returns\n",
      " |      -------\n",
      " |      locs : array of integers suitable for passing to iloc\n",
      " |      \n",
      " |      Examples\n",
      " |      ---------\n",
      " |      >>> mi = pd.MultiIndex.from_arrays([list('abb'), list('def')])\n",
      " |      \n",
      " |      >>> mi.get_locs('b')\n",
      " |      array([1, 2], dtype=int64)\n",
      " |      \n",
      " |      >>> mi.get_locs([slice(None), ['e', 'f']])\n",
      " |      array([1, 2], dtype=int64)\n",
      " |      \n",
      " |      >>> mi.get_locs([[True, False, True], slice('e', 'f')])\n",
      " |      array([2], dtype=int64)\n",
      " |      \n",
      " |      See also\n",
      " |      --------\n",
      " |      MultiIndex.get_loc : Get location for a label or a tuple of labels.\n",
      " |      MultiIndex.slice_locs : Get slice location given start label(s) and\n",
      " |                              end label(s).\n",
      " |  \n",
      " |  get_major_bounds = slice_locs(self, start=None, end=None, step=None, kind=None)\n",
      " |  \n",
      " |  get_slice_bound(self, label, side, kind)\n",
      " |      Calculate slice bound that corresponds to given label.\n",
      " |      \n",
      " |      Returns leftmost (one-past-the-rightmost if ``side=='right'``) position\n",
      " |      of given label.\n",
      " |      \n",
      " |      Parameters\n",
      " |      ----------\n",
      " |      label : object\n",
      " |      side : {'left', 'right'}\n",
      " |      kind : {'ix', 'loc', 'getitem'}\n",
      " |  \n",
      " |  get_value(self, series, key)\n",
      " |      Fast lookup of value from 1-dimensional ndarray. Only use this if you\n",
      " |      know what you're doing\n",
      " |  \n",
      " |  insert(self, loc, item)\n",
      " |      Make new MultiIndex inserting new item at location\n",
      " |      \n",
      " |      Parameters\n",
      " |      ----------\n",
      " |      loc : int\n",
      " |      item : tuple\n",
      " |          Must be same length as number of levels in the MultiIndex\n",
      " |      \n",
      " |      Returns\n",
      " |      -------\n",
      " |      new_index : Index\n",
      " |  \n",
      " |  intersection(self, other)\n",
      " |      Form the intersection of two MultiIndex objects, sorting if possible\n",
      " |      \n",
      " |      Parameters\n",
      " |      ----------\n",
      " |      other : MultiIndex or array / Index of tuples\n",
      " |      \n",
      " |      Returns\n",
      " |      -------\n",
      " |      Index\n",
      " |  \n",
      " |  is_lexsorted(self)\n",
      " |      Return True if the labels are lexicographically sorted\n",
      " |  \n",
      " |  isin(self, values, level=None)\n",
      " |      Compute boolean array of whether each index value is found in the\n",
      " |      passed set of values.\n",
      " |      \n",
      " |      Parameters\n",
      " |      ----------\n",
      " |      values : set or list-like\n",
      " |          Sought values.\n",
      " |      \n",
      " |          .. versionadded:: 0.18.1\n",
      " |      \n",
      " |          Support for values as a set\n",
      " |      \n",
      " |      level : str or int, optional\n",
      " |          Name or position of the index level to use (if the index is a\n",
      " |          MultiIndex).\n",
      " |      \n",
      " |      Notes\n",
      " |      -----\n",
      " |      If `level` is specified:\n",
      " |      \n",
      " |      - if it is the name of one *and only one* index level, use that level;\n",
      " |      - otherwise it should be a number indicating level position.\n",
      " |      \n",
      " |      Returns\n",
      " |      -------\n",
      " |      is_contained : ndarray (boolean dtype)\n",
      " |  \n",
      " |  memory_usage(self, deep=False)\n",
      " |      Memory usage of my values\n",
      " |      \n",
      " |      Parameters\n",
      " |      ----------\n",
      " |      deep : bool\n",
      " |          Introspect the data deeply, interrogate\n",
      " |          `object` dtypes for system-level memory consumption\n",
      " |      \n",
      " |      Returns\n",
      " |      -------\n",
      " |      bytes used\n",
      " |      \n",
      " |      Notes\n",
      " |      -----\n",
      " |      Memory usage does not include memory consumed by elements that\n",
      " |      are not components of the array if deep=False or if used on PyPy\n",
      " |      \n",
      " |      See Also\n",
      " |      --------\n",
      " |      numpy.ndarray.nbytes\n",
      " |  \n",
      " |  reindex(self, target, method=None, level=None, limit=None, tolerance=None)\n",
      " |      Create index with target's values (move/add/delete values as necessary)\n",
      " |      \n",
      " |      Returns\n",
      " |      -------\n",
      " |      new_index : pd.MultiIndex\n",
      " |          Resulting index\n",
      " |      indexer : np.ndarray or None\n",
      " |          Indices of output values in original index\n",
      " |  \n",
      " |  remove_unused_levels(self)\n",
      " |      create a new MultiIndex from the current that removing\n",
      " |      unused levels, meaning that they are not expressed in the labels\n",
      " |      \n",
      " |      The resulting MultiIndex will have the same outward\n",
      " |      appearance, meaning the same .values and ordering. It will also\n",
      " |      be .equals() to the original.\n",
      " |      \n",
      " |      .. versionadded:: 0.20.0\n",
      " |      \n",
      " |      Returns\n",
      " |      -------\n",
      " |      MultiIndex\n",
      " |      \n",
      " |      Examples\n",
      " |      --------\n",
      " |      >>> i = pd.MultiIndex.from_product([range(2), list('ab')])\n",
      " |      MultiIndex(levels=[[0, 1], ['a', 'b']],\n",
      " |                 labels=[[0, 0, 1, 1], [0, 1, 0, 1]])\n",
      " |      \n",
      " |      \n",
      " |      >>> i[2:]\n",
      " |      MultiIndex(levels=[[0, 1], ['a', 'b']],\n",
      " |                 labels=[[1, 1], [0, 1]])\n",
      " |      \n",
      " |      The 0 from the first level is not represented\n",
      " |      and can be removed\n",
      " |      \n",
      " |      >>> i[2:].remove_unused_levels()\n",
      " |      MultiIndex(levels=[[1], ['a', 'b']],\n",
      " |                 labels=[[0, 0], [0, 1]])\n",
      " |  \n",
      " |  rename = set_names(self, names, level=None, inplace=False)\n",
      " |      Set new names on index. Defaults to returning new index.\n",
      " |      \n",
      " |      Parameters\n",
      " |      ----------\n",
      " |      names : str or sequence\n",
      " |          name(s) to set\n",
      " |      level : int, level name, or sequence of int/level names (default None)\n",
      " |          If the index is a MultiIndex (hierarchical), level(s) to set (None\n",
      " |          for all levels).  Otherwise level must be None\n",
      " |      inplace : bool\n",
      " |          if True, mutates in place\n",
      " |      \n",
      " |      Returns\n",
      " |      -------\n",
      " |      new index (of same type and class...etc) [if inplace, returns None]\n",
      " |      \n",
      " |      Examples\n",
      " |      --------\n",
      " |      >>> Index([1, 2, 3, 4]).set_names('foo')\n",
      " |      Int64Index([1, 2, 3, 4], dtype='int64')\n",
      " |      >>> Index([1, 2, 3, 4]).set_names(['foo'])\n",
      " |      Int64Index([1, 2, 3, 4], dtype='int64')\n",
      " |      >>> idx = MultiIndex.from_tuples([(1, u'one'), (1, u'two'),\n",
      " |                                        (2, u'one'), (2, u'two')],\n",
      " |                                        names=['foo', 'bar'])\n",
      " |      >>> idx.set_names(['baz', 'quz'])\n",
      " |      MultiIndex(levels=[[1, 2], [u'one', u'two']],\n",
      " |                 labels=[[0, 0, 1, 1], [0, 1, 0, 1]],\n",
      " |                 names=[u'baz', u'quz'])\n",
      " |      >>> idx.set_names('baz', level=0)\n",
      " |      MultiIndex(levels=[[1, 2], [u'one', u'two']],\n",
      " |                 labels=[[0, 0, 1, 1], [0, 1, 0, 1]],\n",
      " |                 names=[u'baz', u'bar'])\n",
      " |  \n",
      " |  reorder_levels(self, order)\n",
      " |      Rearrange levels using input order. May not drop or duplicate levels\n",
      " |      \n",
      " |      Parameters\n",
      " |      ----------\n",
      " |  \n",
      " |  repeat(self, repeats, *args, **kwargs)\n",
      " |      Repeat elements of an Index. Refer to `numpy.ndarray.repeat`\n",
      " |      for more information about the `repeats` argument.\n",
      " |      \n",
      " |      See also\n",
      " |      --------\n",
      " |      numpy.ndarray.repeat\n",
      " |  \n",
      " |  set_labels(self, labels, level=None, inplace=False, verify_integrity=True)\n",
      " |      Set new labels on MultiIndex. Defaults to returning\n",
      " |      new index.\n",
      " |      \n",
      " |      Parameters\n",
      " |      ----------\n",
      " |      labels : sequence or list of sequence\n",
      " |          new labels to apply\n",
      " |      level : int, level name, or sequence of int/level names (default None)\n",
      " |          level(s) to set (None for all levels)\n",
      " |      inplace : bool\n",
      " |          if True, mutates in place\n",
      " |      verify_integrity : bool (default True)\n",
      " |          if True, checks that levels and labels are compatible\n",
      " |      \n",
      " |      Returns\n",
      " |      -------\n",
      " |      new index (of same type and class...etc)\n",
      " |      \n",
      " |      Examples\n",
      " |      --------\n",
      " |      >>> idx = MultiIndex.from_tuples([(1, u'one'), (1, u'two'),\n",
      " |                                        (2, u'one'), (2, u'two')],\n",
      " |                                        names=['foo', 'bar'])\n",
      " |      >>> idx.set_labels([[1,0,1,0], [0,0,1,1]])\n",
      " |      MultiIndex(levels=[[1, 2], [u'one', u'two']],\n",
      " |                 labels=[[1, 0, 1, 0], [0, 0, 1, 1]],\n",
      " |                 names=[u'foo', u'bar'])\n",
      " |      >>> idx.set_labels([1,0,1,0], level=0)\n",
      " |      MultiIndex(levels=[[1, 2], [u'one', u'two']],\n",
      " |                 labels=[[1, 0, 1, 0], [0, 1, 0, 1]],\n",
      " |                 names=[u'foo', u'bar'])\n",
      " |      >>> idx.set_labels([0,0,1,1], level='bar')\n",
      " |      MultiIndex(levels=[[1, 2], [u'one', u'two']],\n",
      " |                 labels=[[0, 0, 1, 1], [0, 0, 1, 1]],\n",
      " |                 names=[u'foo', u'bar'])\n",
      " |      >>> idx.set_labels([[1,0,1,0], [0,0,1,1]], level=[0,1])\n",
      " |      MultiIndex(levels=[[1, 2], [u'one', u'two']],\n",
      " |                 labels=[[1, 0, 1, 0], [0, 0, 1, 1]],\n",
      " |                 names=[u'foo', u'bar'])\n",
      " |  \n",
      " |  set_levels(self, levels, level=None, inplace=False, verify_integrity=True)\n",
      " |      Set new levels on MultiIndex. Defaults to returning\n",
      " |      new index.\n",
      " |      \n",
      " |      Parameters\n",
      " |      ----------\n",
      " |      levels : sequence or list of sequence\n",
      " |          new level(s) to apply\n",
      " |      level : int, level name, or sequence of int/level names (default None)\n",
      " |          level(s) to set (None for all levels)\n",
      " |      inplace : bool\n",
      " |          if True, mutates in place\n",
      " |      verify_integrity : bool (default True)\n",
      " |          if True, checks that levels and labels are compatible\n",
      " |      \n",
      " |      Returns\n",
      " |      -------\n",
      " |      new index (of same type and class...etc)\n",
      " |      \n",
      " |      \n",
      " |      Examples\n",
      " |      --------\n",
      " |      >>> idx = MultiIndex.from_tuples([(1, u'one'), (1, u'two'),\n",
      " |                                        (2, u'one'), (2, u'two')],\n",
      " |                                        names=['foo', 'bar'])\n",
      " |      >>> idx.set_levels([['a','b'], [1,2]])\n",
      " |      MultiIndex(levels=[[u'a', u'b'], [1, 2]],\n",
      " |                 labels=[[0, 0, 1, 1], [0, 1, 0, 1]],\n",
      " |                 names=[u'foo', u'bar'])\n",
      " |      >>> idx.set_levels(['a','b'], level=0)\n",
      " |      MultiIndex(levels=[[u'a', u'b'], [u'one', u'two']],\n",
      " |                 labels=[[0, 0, 1, 1], [0, 1, 0, 1]],\n",
      " |                 names=[u'foo', u'bar'])\n",
      " |      >>> idx.set_levels(['a','b'], level='bar')\n",
      " |      MultiIndex(levels=[[1, 2], [u'a', u'b']],\n",
      " |                 labels=[[0, 0, 1, 1], [0, 1, 0, 1]],\n",
      " |                 names=[u'foo', u'bar'])\n",
      " |      >>> idx.set_levels([['a','b'], [1,2]], level=[0,1])\n",
      " |      MultiIndex(levels=[[u'a', u'b'], [1, 2]],\n",
      " |                 labels=[[0, 0, 1, 1], [0, 1, 0, 1]],\n",
      " |                 names=[u'foo', u'bar'])\n",
      " |  \n",
      " |  slice_locs(self, start=None, end=None, step=None, kind=None)\n",
      " |      For an ordered MultiIndex, compute the slice locations for input\n",
      " |      labels.\n",
      " |      \n",
      " |      The input labels can be tuples representing partial levels, e.g. for a\n",
      " |      MultiIndex with 3 levels, you can pass a single value (corresponding to\n",
      " |      the first level), or a 1-, 2-, or 3-tuple.\n",
      " |      \n",
      " |      Parameters\n",
      " |      ----------\n",
      " |      start : label or tuple, default None\n",
      " |          If None, defaults to the beginning\n",
      " |      end : label or tuple\n",
      " |          If None, defaults to the end\n",
      " |      step : int or None\n",
      " |          Slice step\n",
      " |      kind : string, optional, defaults None\n",
      " |      \n",
      " |      Returns\n",
      " |      -------\n",
      " |      (start, end) : (int, int)\n",
      " |      \n",
      " |      Notes\n",
      " |      -----\n",
      " |      This method only works if the MultiIndex is properly lex-sorted. So,\n",
      " |      if only the first 2 levels of a 3-level MultiIndex are lexsorted,\n",
      " |      you can only pass two levels to ``.slice_locs``.\n",
      " |      \n",
      " |      Examples\n",
      " |      --------\n",
      " |      >>> mi = pd.MultiIndex.from_arrays([list('abbd'), list('deff')],\n",
      " |      ...                                names=['A', 'B'])\n",
      " |      \n",
      " |      Get the slice locations from the beginning of 'b' in the first level\n",
      " |      until the end of the multiindex:\n",
      " |      \n",
      " |      >>> mi.slice_locs(start='b')\n",
      " |      (1, 4)\n",
      " |      \n",
      " |      Like above, but stop at the end of 'b' in the first level and 'f' in\n",
      " |      the second level:\n",
      " |      \n",
      " |      >>> mi.slice_locs(start='b', end=('b', 'f'))\n",
      " |      (1, 3)\n",
      " |      \n",
      " |      See Also\n",
      " |      --------\n",
      " |      MultiIndex.get_loc : Get location for a label or a tuple of labels.\n",
      " |      MultiIndex.get_locs : Get location for a label/slice/list/mask or a\n",
      " |                            sequence of such.\n",
      " |  \n",
      " |  sortlevel(self, level=0, ascending=True, sort_remaining=True)\n",
      " |      Sort MultiIndex at the requested level. The result will respect the\n",
      " |      original ordering of the associated factor at that level.\n",
      " |      \n",
      " |      Parameters\n",
      " |      ----------\n",
      " |      level : list-like, int or str, default 0\n",
      " |          If a string is given, must be a name of the level\n",
      " |          If list-like must be names or ints of levels.\n",
      " |      ascending : boolean, default True\n",
      " |          False to sort in descending order\n",
      " |          Can also be a list to specify a directed ordering\n",
      " |      sort_remaining : sort by the remaining levels after level.\n",
      " |      \n",
      " |      Returns\n",
      " |      -------\n",
      " |      sorted_index : pd.MultiIndex\n",
      " |          Resulting index\n",
      " |      indexer : np.ndarray\n",
      " |          Indices of output values in original index\n",
      " |  \n",
      " |  swaplevel(self, i=-2, j=-1)\n",
      " |      Swap level i with level j. Do not change the ordering of anything\n",
      " |      \n",
      " |      Parameters\n",
      " |      ----------\n",
      " |      i, j : int, string (can be mixed)\n",
      " |          Level of index to be swapped. Can pass level name as string.\n",
      " |      \n",
      " |      Returns\n",
      " |      -------\n",
      " |      swapped : MultiIndex\n",
      " |      \n",
      " |      .. versionchanged:: 0.18.1\n",
      " |      \n",
      " |         The indexes ``i`` and ``j`` are now optional, and default to\n",
      " |         the two innermost levels of the index.\n",
      " |  \n",
      " |  take(self, indices, axis=0, allow_fill=True, fill_value=None, **kwargs)\n",
      " |      return a new MultiIndex of the values selected by the indices\n",
      " |      \n",
      " |      For internal compatibility with numpy arrays.\n",
      " |      \n",
      " |      Parameters\n",
      " |      ----------\n",
      " |      indices : list\n",
      " |          Indices to be taken\n",
      " |      axis : int, optional\n",
      " |          The axis over which to select values, always 0.\n",
      " |      allow_fill : bool, default True\n",
      " |      fill_value : bool, default None\n",
      " |          If allow_fill=True and fill_value is not None, indices specified by\n",
      " |          -1 is regarded as NA. If Index doesn't hold NA, raise ValueError\n",
      " |      \n",
      " |      See also\n",
      " |      --------\n",
      " |      numpy.ndarray.take\n",
      " |  \n",
      " |  to_frame(self, index=True)\n",
      " |      Create a DataFrame with the levels of the MultiIndex as columns.\n",
      " |      \n",
      " |      .. versionadded:: 0.20.0\n",
      " |      \n",
      " |      Parameters\n",
      " |      ----------\n",
      " |      index : boolean, default True\n",
      " |          Set the index of the returned DataFrame as the original MultiIndex.\n",
      " |      \n",
      " |      Returns\n",
      " |      -------\n",
      " |      DataFrame : a DataFrame containing the original MultiIndex data.\n",
      " |  \n",
      " |  to_hierarchical(self, n_repeat, n_shuffle=1)\n",
      " |      Return a MultiIndex reshaped to conform to the\n",
      " |      shapes given by n_repeat and n_shuffle.\n",
      " |      \n",
      " |      Useful to replicate and rearrange a MultiIndex for combination\n",
      " |      with another Index with n_repeat items.\n",
      " |      \n",
      " |      Parameters\n",
      " |      ----------\n",
      " |      n_repeat : int\n",
      " |          Number of times to repeat the labels on self\n",
      " |      n_shuffle : int\n",
      " |          Controls the reordering of the labels. If the result is going\n",
      " |          to be an inner level in a MultiIndex, n_shuffle will need to be\n",
      " |          greater than one. The size of each label must divisible by\n",
      " |          n_shuffle.\n",
      " |      \n",
      " |      Returns\n",
      " |      -------\n",
      " |      MultiIndex\n",
      " |      \n",
      " |      Examples\n",
      " |      --------\n",
      " |      >>> idx = MultiIndex.from_tuples([(1, u'one'), (1, u'two'),\n",
      " |                                        (2, u'one'), (2, u'two')])\n",
      " |      >>> idx.to_hierarchical(3)\n",
      " |      MultiIndex(levels=[[1, 2], [u'one', u'two']],\n",
      " |                 labels=[[0, 0, 0, 0, 0, 0, 1, 1, 1, 1, 1, 1],\n",
      " |                         [0, 0, 0, 1, 1, 1, 0, 0, 0, 1, 1, 1]])\n",
      " |  \n",
      " |  truncate(self, before=None, after=None)\n",
      " |      Slice index between two labels / tuples, return new MultiIndex\n",
      " |      \n",
      " |      Parameters\n",
      " |      ----------\n",
      " |      before : label or tuple, can be partial. Default None\n",
      " |          None defaults to start\n",
      " |      after : label or tuple, can be partial. Default None\n",
      " |          None defaults to end\n",
      " |      \n",
      " |      Returns\n",
      " |      -------\n",
      " |      truncated : MultiIndex\n",
      " |  \n",
      " |  union(self, other)\n",
      " |      Form the union of two MultiIndex objects, sorting if possible\n",
      " |      \n",
      " |      Parameters\n",
      " |      ----------\n",
      " |      other : MultiIndex or array / Index of tuples\n",
      " |      \n",
      " |      Returns\n",
      " |      -------\n",
      " |      Index\n",
      " |      \n",
      " |      >>> index.union(index2)\n",
      " |  \n",
      " |  view(self, cls=None)\n",
      " |      this is defined as a copy with the same identity\n",
      " |  \n",
      " |  where(self, cond, other=None)\n",
      " |      .. versionadded:: 0.19.0\n",
      " |      \n",
      " |      Return an Index of same shape as self and whose corresponding\n",
      " |      entries are from self where cond is True and otherwise are from\n",
      " |      other.\n",
      " |      \n",
      " |      Parameters\n",
      " |      ----------\n",
      " |      cond : boolean array-like with the same length as self\n",
      " |      other : scalar, or array-like\n",
      " |  \n",
      " |  ----------------------------------------------------------------------\n",
      " |  Class methods defined here:\n",
      " |  \n",
      " |  from_arrays(arrays, sortorder=None, names=None) from builtins.type\n",
      " |      Convert arrays to MultiIndex\n",
      " |      \n",
      " |      Parameters\n",
      " |      ----------\n",
      " |      arrays : list / sequence of array-likes\n",
      " |          Each array-like gives one level's value for each data point.\n",
      " |          len(arrays) is the number of levels.\n",
      " |      sortorder : int or None\n",
      " |          Level of sortedness (must be lexicographically sorted by that\n",
      " |          level)\n",
      " |      \n",
      " |      Returns\n",
      " |      -------\n",
      " |      index : MultiIndex\n",
      " |      \n",
      " |      Examples\n",
      " |      --------\n",
      " |      >>> arrays = [[1, 1, 2, 2], ['red', 'blue', 'red', 'blue']]\n",
      " |      >>> MultiIndex.from_arrays(arrays, names=('number', 'color'))\n",
      " |      \n",
      " |      See Also\n",
      " |      --------\n",
      " |      MultiIndex.from_tuples : Convert list of tuples to MultiIndex\n",
      " |      MultiIndex.from_product : Make a MultiIndex from cartesian product\n",
      " |                                of iterables\n",
      " |  \n",
      " |  from_product(iterables, sortorder=None, names=None) from builtins.type\n",
      " |      Make a MultiIndex from the cartesian product of multiple iterables\n",
      " |      \n",
      " |      Parameters\n",
      " |      ----------\n",
      " |      iterables : list / sequence of iterables\n",
      " |          Each iterable has unique labels for each level of the index.\n",
      " |      sortorder : int or None\n",
      " |          Level of sortedness (must be lexicographically sorted by that\n",
      " |          level).\n",
      " |      names : list / sequence of strings or None\n",
      " |          Names for the levels in the index.\n",
      " |      \n",
      " |      Returns\n",
      " |      -------\n",
      " |      index : MultiIndex\n",
      " |      \n",
      " |      Examples\n",
      " |      --------\n",
      " |      >>> numbers = [0, 1, 2]\n",
      " |      >>> colors = [u'green', u'purple']\n",
      " |      >>> MultiIndex.from_product([numbers, colors],\n",
      " |                                   names=['number', 'color'])\n",
      " |      MultiIndex(levels=[[0, 1, 2], [u'green', u'purple']],\n",
      " |                 labels=[[0, 0, 1, 1, 2, 2], [0, 1, 0, 1, 0, 1]],\n",
      " |                 names=[u'number', u'color'])\n",
      " |      \n",
      " |      See Also\n",
      " |      --------\n",
      " |      MultiIndex.from_arrays : Convert list of arrays to MultiIndex\n",
      " |      MultiIndex.from_tuples : Convert list of tuples to MultiIndex\n",
      " |  \n",
      " |  from_tuples(tuples, sortorder=None, names=None) from builtins.type\n",
      " |      Convert list of tuples to MultiIndex\n",
      " |      \n",
      " |      Parameters\n",
      " |      ----------\n",
      " |      tuples : list / sequence of tuple-likes\n",
      " |          Each tuple is the index of one row/column.\n",
      " |      sortorder : int or None\n",
      " |          Level of sortedness (must be lexicographically sorted by that\n",
      " |          level)\n",
      " |      \n",
      " |      Returns\n",
      " |      -------\n",
      " |      index : MultiIndex\n",
      " |      \n",
      " |      Examples\n",
      " |      --------\n",
      " |      >>> tuples = [(1, u'red'), (1, u'blue'),\n",
      " |                    (2, u'red'), (2, u'blue')]\n",
      " |      >>> MultiIndex.from_tuples(tuples, names=('number', 'color'))\n",
      " |      \n",
      " |      See Also\n",
      " |      --------\n",
      " |      MultiIndex.from_arrays : Convert list of arrays to MultiIndex\n",
      " |      MultiIndex.from_product : Make a MultiIndex from cartesian product\n",
      " |                                of iterables\n",
      " |  \n",
      " |  ----------------------------------------------------------------------\n",
      " |  Static methods defined here:\n",
      " |  \n",
      " |  __new__(cls, levels=None, labels=None, sortorder=None, names=None, copy=False, verify_integrity=True, _set_identity=True, name=None, **kwargs)\n",
      " |      Create and return a new object.  See help(type) for accurate signature.\n",
      " |  \n",
      " |  ----------------------------------------------------------------------\n",
      " |  Data descriptors defined here:\n",
      " |  \n",
      " |  dtype\n",
      " |  \n",
      " |  inferred_type\n",
      " |  \n",
      " |  is_all_dates\n",
      " |  \n",
      " |  is_monotonic\n",
      " |  \n",
      " |  is_monotonic_decreasing\n",
      " |  \n",
      " |  is_monotonic_increasing\n",
      " |  \n",
      " |  is_unique\n",
      " |  \n",
      " |  labels\n",
      " |  \n",
      " |  levels\n",
      " |  \n",
      " |  levshape\n",
      " |  \n",
      " |  lexsort_depth\n",
      " |  \n",
      " |  names\n",
      " |      Names of levels in MultiIndex\n",
      " |  \n",
      " |  nbytes\n",
      " |  \n",
      " |  nlevels\n",
      " |  \n",
      " |  values\n",
      " |      return the underlying data as an ndarray\n",
      " |  \n",
      " |  ----------------------------------------------------------------------\n",
      " |  Methods inherited from pandas.core.indexes.base.Index:\n",
      " |  \n",
      " |  __and__(self, other)\n",
      " |  \n",
      " |  __array_wrap__(self, result, context=None)\n",
      " |      Gets called after a ufunc\n",
      " |  \n",
      " |  __bool__ = __nonzero__(self)\n",
      " |  \n",
      " |  __copy__(self, **kwargs)\n",
      " |  \n",
      " |  __deepcopy__(self, memo=None)\n",
      " |  \n",
      " |  __eq__ = _evaluate_compare(self, other)\n",
      " |  \n",
      " |  __ge__ = _evaluate_compare(self, other)\n",
      " |  \n",
      " |  __gt__ = _evaluate_compare(self, other)\n",
      " |  \n",
      " |  __hash__(self)\n",
      " |      Return hash(self).\n",
      " |  \n",
      " |  __iadd__ = __add__(self, other)\n",
      " |  \n",
      " |  __le__ = _evaluate_compare(self, other)\n",
      " |  \n",
      " |  __lt__ = _evaluate_compare(self, other)\n",
      " |  \n",
      " |  __ne__ = _evaluate_compare(self, other)\n",
      " |  \n",
      " |  __nonzero__(self)\n",
      " |  \n",
      " |  __or__(self, other)\n",
      " |  \n",
      " |  __setitem__(self, key, value)\n",
      " |  \n",
      " |  __unicode__(self)\n",
      " |      Return a string representation for this object.\n",
      " |      \n",
      " |      Invoked by unicode(df) in py2 only. Yields a Unicode String in both\n",
      " |      py2/py3.\n",
      " |  \n",
      " |  __xor__(self, other)\n",
      " |  \n",
      " |  asof(self, label)\n",
      " |      For a sorted index, return the most recent label up to and including\n",
      " |      the passed label. Return NaN if not found.\n",
      " |      \n",
      " |      See also\n",
      " |      --------\n",
      " |      get_loc : asof is a thin wrapper around get_loc with method='pad'\n",
      " |  \n",
      " |  asof_locs(self, where, mask)\n",
      " |      where : array of timestamps\n",
      " |      mask : array of booleans where data is not NA\n",
      " |  \n",
      " |  drop_duplicates(self, keep='first')\n",
      " |      Return Index with duplicate values removed\n",
      " |      \n",
      " |      Parameters\n",
      " |      ----------\n",
      " |      \n",
      " |      keep : {'first', 'last', False}, default 'first'\n",
      " |          - ``first`` : Drop duplicates except for the first occurrence.\n",
      " |          - ``last`` : Drop duplicates except for the last occurrence.\n",
      " |          - False : Drop all duplicates.\n",
      " |      \n",
      " |      \n",
      " |      Returns\n",
      " |      -------\n",
      " |      deduplicated : Index\n",
      " |  \n",
      " |  get_duplicates(self)\n",
      " |  \n",
      " |  get_indexer_for(self, target, **kwargs)\n",
      " |      guaranteed return of an indexer even when non-unique\n",
      " |      This dispatches to get_indexer or get_indexer_nonunique as appropriate\n",
      " |  \n",
      " |  get_values(self)\n",
      " |      return the underlying data as an ndarray\n",
      " |  \n",
      " |  groupby(self, values)\n",
      " |      Group the index labels by a given array of values.\n",
      " |      \n",
      " |      Parameters\n",
      " |      ----------\n",
      " |      values : array\n",
      " |          Values used to determine the groups.\n",
      " |      \n",
      " |      Returns\n",
      " |      -------\n",
      " |      groups : dict\n",
      " |          {group name -> group labels}\n",
      " |  \n",
      " |  holds_integer(self)\n",
      " |  \n",
      " |  identical(self, other)\n",
      " |      Similar to equals, but check that other comparable attributes are\n",
      " |      also equal\n",
      " |  \n",
      " |  is_(self, other)\n",
      " |      More flexible, faster check like ``is`` but that works through views\n",
      " |      \n",
      " |      Note: this is *not* the same as ``Index.identical()``, which checks\n",
      " |      that metadata is also the same.\n",
      " |      \n",
      " |      Parameters\n",
      " |      ----------\n",
      " |      other : object\n",
      " |          other object to compare against.\n",
      " |      \n",
      " |      Returns\n",
      " |      -------\n",
      " |      True if both have same underlying data, False otherwise : bool\n",
      " |  \n",
      " |  is_boolean(self)\n",
      " |  \n",
      " |  is_categorical(self)\n",
      " |  \n",
      " |  is_floating(self)\n",
      " |  \n",
      " |  is_integer(self)\n",
      " |  \n",
      " |  is_interval(self)\n",
      " |  \n",
      " |  is_lexsorted_for_tuple(self, tup)\n",
      " |  \n",
      " |  is_mixed(self)\n",
      " |  \n",
      " |  is_numeric(self)\n",
      " |  \n",
      " |  is_object(self)\n",
      " |  \n",
      " |  is_type_compatible(self, kind)\n",
      " |  \n",
      " |  isna(self)\n",
      " |      Detect missing values\n",
      " |      \n",
      " |      .. versionadded:: 0.20.0\n",
      " |      \n",
      " |      Returns\n",
      " |      -------\n",
      " |      a boolean array of whether my values are NA\n",
      " |      \n",
      " |      See also\n",
      " |      --------\n",
      " |      isnull : alias of isna\n",
      " |      pandas.isna : top-level isna\n",
      " |  \n",
      " |  isnull = isna(self)\n",
      " |      Detect missing values\n",
      " |      \n",
      " |      .. versionadded:: 0.20.0\n",
      " |      \n",
      " |      Returns\n",
      " |      -------\n",
      " |      a boolean array of whether my values are NA\n",
      " |      \n",
      " |      See also\n",
      " |      --------\n",
      " |      isnull : alias of isna\n",
      " |      pandas.isna : top-level isna\n",
      " |  \n",
      " |  join(self, other, how='left', level=None, return_indexers=False, sort=False)\n",
      " |      *this is an internal non-public method*\n",
      " |      \n",
      " |      Compute join_index and indexers to conform data\n",
      " |      structures to the new index.\n",
      " |      \n",
      " |      Parameters\n",
      " |      ----------\n",
      " |      other : Index\n",
      " |      how : {'left', 'right', 'inner', 'outer'}\n",
      " |      level : int or level name, default None\n",
      " |      return_indexers : boolean, default False\n",
      " |      sort : boolean, default False\n",
      " |          Sort the join keys lexicographically in the result Index. If False,\n",
      " |          the order of the join keys depends on the join type (how keyword)\n",
      " |      \n",
      " |          .. versionadded:: 0.20.0\n",
      " |      \n",
      " |      Returns\n",
      " |      -------\n",
      " |      join_index, (left_indexer, right_indexer)\n",
      " |  \n",
      " |  map(self, mapper)\n",
      " |      Apply mapper function to an index.\n",
      " |      \n",
      " |      Parameters\n",
      " |      ----------\n",
      " |      mapper : callable\n",
      " |          Function to be applied.\n",
      " |      \n",
      " |      Returns\n",
      " |      -------\n",
      " |      applied : Union[Index, MultiIndex], inferred\n",
      " |          The output of the mapping function applied to the index.\n",
      " |          If the function returns a tuple with more than one element\n",
      " |          a MultiIndex will be returned.\n",
      " |  \n",
      " |  notna(self)\n",
      " |      Inverse of isna\n",
      " |      \n",
      " |      .. versionadded:: 0.20.0\n",
      " |      \n",
      " |      Returns\n",
      " |      -------\n",
      " |      a boolean array of whether my values are not NA\n",
      " |      \n",
      " |      See also\n",
      " |      --------\n",
      " |      notnull : alias of notna\n",
      " |      pandas.notna : top-level notna\n",
      " |  \n",
      " |  notnull = notna(self)\n",
      " |      Inverse of isna\n",
      " |      \n",
      " |      .. versionadded:: 0.20.0\n",
      " |      \n",
      " |      Returns\n",
      " |      -------\n",
      " |      a boolean array of whether my values are not NA\n",
      " |      \n",
      " |      See also\n",
      " |      --------\n",
      " |      notnull : alias of notna\n",
      " |      pandas.notna : top-level notna\n",
      " |  \n",
      " |  putmask(self, mask, value)\n",
      " |      return a new Index of the values set with the mask\n",
      " |      \n",
      " |      See also\n",
      " |      --------\n",
      " |      numpy.ndarray.putmask\n",
      " |  \n",
      " |  ravel(self, order='C')\n",
      " |      return an ndarray of the flattened values of the underlying data\n",
      " |      \n",
      " |      See also\n",
      " |      --------\n",
      " |      numpy.ndarray.ravel\n",
      " |  \n",
      " |  reshape(self, *args, **kwargs)\n",
      " |      NOT IMPLEMENTED: do not call this method, as reshaping is not\n",
      " |      supported for Index objects and will raise an error.\n",
      " |      \n",
      " |      Reshape an Index.\n",
      " |  \n",
      " |  set_names(self, names, level=None, inplace=False)\n",
      " |      Set new names on index. Defaults to returning new index.\n",
      " |      \n",
      " |      Parameters\n",
      " |      ----------\n",
      " |      names : str or sequence\n",
      " |          name(s) to set\n",
      " |      level : int, level name, or sequence of int/level names (default None)\n",
      " |          If the index is a MultiIndex (hierarchical), level(s) to set (None\n",
      " |          for all levels).  Otherwise level must be None\n",
      " |      inplace : bool\n",
      " |          if True, mutates in place\n",
      " |      \n",
      " |      Returns\n",
      " |      -------\n",
      " |      new index (of same type and class...etc) [if inplace, returns None]\n",
      " |      \n",
      " |      Examples\n",
      " |      --------\n",
      " |      >>> Index([1, 2, 3, 4]).set_names('foo')\n",
      " |      Int64Index([1, 2, 3, 4], dtype='int64')\n",
      " |      >>> Index([1, 2, 3, 4]).set_names(['foo'])\n",
      " |      Int64Index([1, 2, 3, 4], dtype='int64')\n",
      " |      >>> idx = MultiIndex.from_tuples([(1, u'one'), (1, u'two'),\n",
      " |                                        (2, u'one'), (2, u'two')],\n",
      " |                                        names=['foo', 'bar'])\n",
      " |      >>> idx.set_names(['baz', 'quz'])\n",
      " |      MultiIndex(levels=[[1, 2], [u'one', u'two']],\n",
      " |                 labels=[[0, 0, 1, 1], [0, 1, 0, 1]],\n",
      " |                 names=[u'baz', u'quz'])\n",
      " |      >>> idx.set_names('baz', level=0)\n",
      " |      MultiIndex(levels=[[1, 2], [u'one', u'two']],\n",
      " |                 labels=[[0, 0, 1, 1], [0, 1, 0, 1]],\n",
      " |                 names=[u'baz', u'bar'])\n",
      " |  \n",
      " |  set_value(self, arr, key, value)\n",
      " |      Fast lookup of value from 1-dimensional ndarray. Only use this if you\n",
      " |      know what you're doing\n",
      " |  \n",
      " |  shift(self, periods=1, freq=None)\n",
      " |      Shift Index containing datetime objects by input number of periods and\n",
      " |      DateOffset\n",
      " |      \n",
      " |      Returns\n",
      " |      -------\n",
      " |      shifted : Index\n",
      " |  \n",
      " |  slice_indexer(self, start=None, end=None, step=None, kind=None)\n",
      " |      For an ordered Index, compute the slice indexer for input labels and\n",
      " |      step\n",
      " |      \n",
      " |      Parameters\n",
      " |      ----------\n",
      " |      start : label, default None\n",
      " |          If None, defaults to the beginning\n",
      " |      end : label, default None\n",
      " |          If None, defaults to the end\n",
      " |      step : int, default None\n",
      " |      kind : string, default None\n",
      " |      \n",
      " |      Returns\n",
      " |      -------\n",
      " |      indexer : ndarray or slice\n",
      " |      \n",
      " |      Notes\n",
      " |      -----\n",
      " |      This function assumes that the data is sorted, so use at your own peril\n",
      " |  \n",
      " |  sort(self, *args, **kwargs)\n",
      " |  \n",
      " |  sort_values(self, return_indexer=False, ascending=True)\n",
      " |      Return sorted copy of Index\n",
      " |  \n",
      " |  summary(self, name=None)\n",
      " |  \n",
      " |  symmetric_difference(self, other, result_name=None)\n",
      " |      Compute the symmetric difference of two Index objects.\n",
      " |      It's sorted if sorting is possible.\n",
      " |      \n",
      " |      Parameters\n",
      " |      ----------\n",
      " |      other : Index or array-like\n",
      " |      result_name : str\n",
      " |      \n",
      " |      Returns\n",
      " |      -------\n",
      " |      symmetric_difference : Index\n",
      " |      \n",
      " |      Notes\n",
      " |      -----\n",
      " |      ``symmetric_difference`` contains elements that appear in either\n",
      " |      ``idx1`` or ``idx2`` but not both. Equivalent to the Index created by\n",
      " |      ``idx1.difference(idx2) | idx2.difference(idx1)`` with duplicates\n",
      " |      dropped.\n",
      " |      \n",
      " |      Examples\n",
      " |      --------\n",
      " |      >>> idx1 = Index([1, 2, 3, 4])\n",
      " |      >>> idx2 = Index([2, 3, 4, 5])\n",
      " |      >>> idx1.symmetric_difference(idx2)\n",
      " |      Int64Index([1, 5], dtype='int64')\n",
      " |      \n",
      " |      You can also use the ``^`` operator:\n",
      " |      \n",
      " |      >>> idx1 ^ idx2\n",
      " |      Int64Index([1, 5], dtype='int64')\n",
      " |  \n",
      " |  to_datetime(self, dayfirst=False)\n",
      " |      DEPRECATED: use :meth:`pandas.to_datetime` instead.\n",
      " |      \n",
      " |      For an Index containing strings or datetime.datetime objects, attempt\n",
      " |      conversion to DatetimeIndex\n",
      " |  \n",
      " |  to_native_types(self, slicer=None, **kwargs)\n",
      " |      Format specified values of `self` and return them.\n",
      " |      \n",
      " |      Parameters\n",
      " |      ----------\n",
      " |      slicer : int, array-like\n",
      " |          An indexer into `self` that specifies which values\n",
      " |          are used in the formatting process.\n",
      " |      kwargs : dict\n",
      " |          Options for specifying how the values should be formatted.\n",
      " |          These options include the following:\n",
      " |      \n",
      " |          1) na_rep : str\n",
      " |              The value that serves as a placeholder for NULL values\n",
      " |          2) quoting : bool or None\n",
      " |              Whether or not there are quoted values in `self`\n",
      " |          3) date_format : str\n",
      " |              The format used to represent date-like values\n",
      " |  \n",
      " |  to_series(self, **kwargs)\n",
      " |      Create a Series with both index and values equal to the index keys\n",
      " |      useful with map for returning an indexer based on an index\n",
      " |      \n",
      " |      Returns\n",
      " |      -------\n",
      " |      Series : dtype will be based on the type of the Index values.\n",
      " |  \n",
      " |  unique(self)\n",
      " |      Return unique values in the object. Uniques are returned in order\n",
      " |      of appearance, this does NOT sort. Hash table-based unique.\n",
      " |      \n",
      " |      Parameters\n",
      " |      ----------\n",
      " |      values : 1d array-like\n",
      " |      \n",
      " |      Returns\n",
      " |      -------\n",
      " |      unique values.\n",
      " |        - If the input is an Index, the return is an Index\n",
      " |        - If the input is a Categorical dtype, the return is a Categorical\n",
      " |        - If the input is a Series/ndarray, the return will be an ndarray\n",
      " |      \n",
      " |      See Also\n",
      " |      --------\n",
      " |      unique\n",
      " |      Index.unique\n",
      " |      Series.unique\n",
      " |  \n",
      " |  ----------------------------------------------------------------------\n",
      " |  Data descriptors inherited from pandas.core.indexes.base.Index:\n",
      " |  \n",
      " |  dtype_str\n",
      " |  \n",
      " |  has_duplicates\n",
      " |  \n",
      " |  hasnans\n",
      " |  \n",
      " |  ----------------------------------------------------------------------\n",
      " |  Data and other attributes inherited from pandas.core.indexes.base.Index:\n",
      " |  \n",
      " |  asi8 = None\n",
      " |  \n",
      " |  name = None\n",
      " |  \n",
      " |  str = <class 'pandas.core.strings.StringMethods'>\n",
      " |      Vectorized string functions for Series and Index. NAs stay NA unless\n",
      " |      handled otherwise by a particular method. Patterned after Python's string\n",
      " |      methods, with some inspiration from R's stringr package.\n",
      " |      \n",
      " |      Examples\n",
      " |      --------\n",
      " |      >>> s.str.split('_')\n",
      " |      >>> s.str.replace('_', '')\n",
      " |  \n",
      " |  ----------------------------------------------------------------------\n",
      " |  Methods inherited from pandas.core.base.IndexOpsMixin:\n",
      " |  \n",
      " |  __iter__(self)\n",
      " |      Return an iterator of the values.\n",
      " |      \n",
      " |      These are each a scalar type, which is a Python scalar\n",
      " |      (for str, int, float) or a pandas scalar\n",
      " |      (for Timestamp/Timedelta/Interval/Period)\n",
      " |  \n",
      " |  argmax(self, axis=None)\n",
      " |      return a ndarray of the maximum argument indexer\n",
      " |      \n",
      " |      See also\n",
      " |      --------\n",
      " |      numpy.ndarray.argmax\n",
      " |  \n",
      " |  argmin(self, axis=None)\n",
      " |      return a ndarray of the minimum argument indexer\n",
      " |      \n",
      " |      See also\n",
      " |      --------\n",
      " |      numpy.ndarray.argmin\n",
      " |  \n",
      " |  factorize(self, sort=False, na_sentinel=-1)\n",
      " |      Encode the object as an enumerated type or categorical variable\n",
      " |      \n",
      " |      Parameters\n",
      " |      ----------\n",
      " |      sort : boolean, default False\n",
      " |          Sort by values\n",
      " |      na_sentinel: int, default -1\n",
      " |          Value to mark \"not found\"\n",
      " |      \n",
      " |      Returns\n",
      " |      -------\n",
      " |      labels : the indexer to the original array\n",
      " |      uniques : the unique Index\n",
      " |  \n",
      " |  item(self)\n",
      " |      return the first element of the underlying data as a python\n",
      " |      scalar\n",
      " |  \n",
      " |  max(self)\n",
      " |      The maximum value of the object\n",
      " |  \n",
      " |  min(self)\n",
      " |      The minimum value of the object\n",
      " |  \n",
      " |  nunique(self, dropna=True)\n",
      " |      Return number of unique elements in the object.\n",
      " |      \n",
      " |      Excludes NA values by default.\n",
      " |      \n",
      " |      Parameters\n",
      " |      ----------\n",
      " |      dropna : boolean, default True\n",
      " |          Don't include NaN in the count.\n",
      " |      \n",
      " |      Returns\n",
      " |      -------\n",
      " |      nunique : int\n",
      " |  \n",
      " |  searchsorted(self, value, side='left', sorter=None)\n",
      " |      Find indices where elements should be inserted to maintain order.\n",
      " |      \n",
      " |      Find the indices into a sorted IndexOpsMixin `self` such that, if the\n",
      " |      corresponding elements in `value` were inserted before the indices,\n",
      " |      the order of `self` would be preserved.\n",
      " |      \n",
      " |      Parameters\n",
      " |      ----------\n",
      " |      value : array_like\n",
      " |          Values to insert into `self`.\n",
      " |      side : {'left', 'right'}, optional\n",
      " |          If 'left', the index of the first suitable location found is given.\n",
      " |          If 'right', return the last such index.  If there is no suitable\n",
      " |          index, return either 0 or N (where N is the length of `self`).\n",
      " |      sorter : 1-D array_like, optional\n",
      " |          Optional array of integer indices that sort `self` into ascending\n",
      " |          order. They are typically the result of ``np.argsort``.\n",
      " |      \n",
      " |      Returns\n",
      " |      -------\n",
      " |      indices : array of ints\n",
      " |          Array of insertion points with the same shape as `value`.\n",
      " |      \n",
      " |      See Also\n",
      " |      --------\n",
      " |      numpy.searchsorted\n",
      " |      \n",
      " |      Notes\n",
      " |      -----\n",
      " |      Binary search is used to find the required insertion points.\n",
      " |      \n",
      " |      Examples\n",
      " |      --------\n",
      " |      \n",
      " |      >>> x = pd.Series([1, 2, 3])\n",
      " |      >>> x\n",
      " |      0    1\n",
      " |      1    2\n",
      " |      2    3\n",
      " |      dtype: int64\n",
      " |      \n",
      " |      >>> x.searchsorted(4)\n",
      " |      array([3])\n",
      " |      \n",
      " |      >>> x.searchsorted([0, 4])\n",
      " |      array([0, 3])\n",
      " |      \n",
      " |      >>> x.searchsorted([1, 3], side='left')\n",
      " |      array([0, 2])\n",
      " |      \n",
      " |      >>> x.searchsorted([1, 3], side='right')\n",
      " |      array([1, 3])\n",
      " |      \n",
      " |      >>> x = pd.Categorical(['apple', 'bread', 'bread', 'cheese', 'milk' ])\n",
      " |      [apple, bread, bread, cheese, milk]\n",
      " |      Categories (4, object): [apple < bread < cheese < milk]\n",
      " |      \n",
      " |      >>> x.searchsorted('bread')\n",
      " |      array([1])     # Note: an array, not a scalar\n",
      " |      \n",
      " |      >>> x.searchsorted(['bread'])\n",
      " |      array([1])\n",
      " |      \n",
      " |      >>> x.searchsorted(['bread', 'eggs'])\n",
      " |      array([1, 4])\n",
      " |      \n",
      " |      >>> x.searchsorted(['bread', 'eggs'], side='right')\n",
      " |      array([3, 4])    # eggs before milk\n",
      " |  \n",
      " |  tolist(self)\n",
      " |      Return a list of the values.\n",
      " |      \n",
      " |      These are each a scalar type, which is a Python scalar\n",
      " |      (for str, int, float) or a pandas scalar\n",
      " |      (for Timestamp/Timedelta/Interval/Period)\n",
      " |      \n",
      " |      See Also\n",
      " |      --------\n",
      " |      numpy.ndarray.tolist\n",
      " |  \n",
      " |  transpose(self, *args, **kwargs)\n",
      " |      return the transpose, which is by definition self\n",
      " |  \n",
      " |  value_counts(self, normalize=False, sort=True, ascending=False, bins=None, dropna=True)\n",
      " |      Returns object containing counts of unique values.\n",
      " |      \n",
      " |      The resulting object will be in descending order so that the\n",
      " |      first element is the most frequently-occurring element.\n",
      " |      Excludes NA values by default.\n",
      " |      \n",
      " |      Parameters\n",
      " |      ----------\n",
      " |      normalize : boolean, default False\n",
      " |          If True then the object returned will contain the relative\n",
      " |          frequencies of the unique values.\n",
      " |      sort : boolean, default True\n",
      " |          Sort by values\n",
      " |      ascending : boolean, default False\n",
      " |          Sort in ascending order\n",
      " |      bins : integer, optional\n",
      " |          Rather than count values, group them into half-open bins,\n",
      " |          a convenience for pd.cut, only works with numeric data\n",
      " |      dropna : boolean, default True\n",
      " |          Don't include counts of NaN.\n",
      " |      \n",
      " |      Returns\n",
      " |      -------\n",
      " |      counts : Series\n",
      " |  \n",
      " |  ----------------------------------------------------------------------\n",
      " |  Data descriptors inherited from pandas.core.base.IndexOpsMixin:\n",
      " |  \n",
      " |  T\n",
      " |      return the transpose, which is by definition self\n",
      " |  \n",
      " |  __dict__\n",
      " |      dictionary for instance variables (if defined)\n",
      " |  \n",
      " |  __weakref__\n",
      " |      list of weak references to the object (if defined)\n",
      " |  \n",
      " |  base\n",
      " |      return the base object if the memory of the underlying data is\n",
      " |      shared\n",
      " |  \n",
      " |  data\n",
      " |      return the data pointer of the underlying data\n",
      " |  \n",
      " |  empty\n",
      " |  \n",
      " |  flags\n",
      " |      return the ndarray.flags for the underlying data\n",
      " |  \n",
      " |  itemsize\n",
      " |      return the size of the dtype of the item of the underlying data\n",
      " |  \n",
      " |  ndim\n",
      " |      return the number of dimensions of the underlying data,\n",
      " |      by definition 1\n",
      " |  \n",
      " |  shape\n",
      " |      return a tuple of the shape of the underlying data\n",
      " |  \n",
      " |  size\n",
      " |      return the number of elements in the underlying data\n",
      " |  \n",
      " |  strides\n",
      " |      return the strides of the underlying data\n",
      " |  \n",
      " |  ----------------------------------------------------------------------\n",
      " |  Data and other attributes inherited from pandas.core.base.IndexOpsMixin:\n",
      " |  \n",
      " |  __array_priority__ = 1000\n",
      " |  \n",
      " |  ----------------------------------------------------------------------\n",
      " |  Methods inherited from pandas.core.base.PandasObject:\n",
      " |  \n",
      " |  __sizeof__(self)\n",
      " |      Generates the total memory usage for a object that returns\n",
      " |      either a value or Series of values\n",
      " |  \n",
      " |  ----------------------------------------------------------------------\n",
      " |  Methods inherited from pandas.core.base.StringMixin:\n",
      " |  \n",
      " |  __bytes__(self)\n",
      " |      Return a string representation for a particular object.\n",
      " |      \n",
      " |      Invoked by bytes(obj) in py3 only.\n",
      " |      Yields a bytestring in both py2/py3.\n",
      " |  \n",
      " |  __repr__(self)\n",
      " |      Return a string representation for a particular object.\n",
      " |      \n",
      " |      Yields Bytestring in Py2, Unicode String in py3.\n",
      " |  \n",
      " |  __str__(self)\n",
      " |      Return a string representation for a particular Object\n",
      " |      \n",
      " |      Invoked by str(df) in both py2/py3.\n",
      " |      Yields Bytestring in Py2, Unicode String in py3.\n",
      " |  \n",
      " |  ----------------------------------------------------------------------\n",
      " |  Methods inherited from pandas.core.accessor.DirNamesMixin:\n",
      " |  \n",
      " |  __dir__(self)\n",
      " |      Provide method name lookup and completion\n",
      " |      Only provide 'public' methods\n",
      "\n"
     ]
    }
   ],
   "source": [
    "help(index.swaplevel(i=-2, j=-1))"
   ]
  },
  {
   "cell_type": "code",
   "execution_count": 72,
   "metadata": {},
   "outputs": [
    {
     "data": {
      "text/plain": [
       "MultiIndex(levels=[['one', 'two'], ['a', 'b']],\n",
       "           labels=[[0, 1, 0], [0, 0, 1]],\n",
       "           names=['name2', 'name1'])"
      ]
     },
     "execution_count": 72,
     "metadata": {},
     "output_type": "execute_result"
    }
   ],
   "source": [
    "index.swaplevel()"
   ]
  },
  {
   "cell_type": "markdown",
   "metadata": {},
   "source": [
    "### 函数 `Series.swaplevel(i=-2, j=-1)`\n",
    "### 函数 `DataFrame.swaplevel(i=-2, j=-1,axis= 1)`"
   ]
  },
  {
   "cell_type": "code",
   "execution_count": 73,
   "metadata": {},
   "outputs": [
    {
     "data": {
      "text/plain": [
       "name1  name2\n",
       "a      one      1\n",
       "       two      2\n",
       "b      one      3\n",
       "dtype: int64"
      ]
     },
     "execution_count": 73,
     "metadata": {},
     "output_type": "execute_result"
    }
   ],
   "source": [
    "s"
   ]
  },
  {
   "cell_type": "code",
   "execution_count": 74,
   "metadata": {},
   "outputs": [
    {
     "data": {
      "text/plain": [
       "name2  name1\n",
       "one    a        1\n",
       "two    a        2\n",
       "one    b        3\n",
       "dtype: int64"
      ]
     },
     "execution_count": 74,
     "metadata": {},
     "output_type": "execute_result"
    }
   ],
   "source": [
    "s.swaplevel()"
   ]
  },
  {
   "cell_type": "code",
   "execution_count": 75,
   "metadata": {},
   "outputs": [
    {
     "data": {
      "text/plain": [
       "pandas.core.series.Series"
      ]
     },
     "execution_count": 75,
     "metadata": {},
     "output_type": "execute_result"
    }
   ],
   "source": [
    "type(s)"
   ]
  },
  {
   "cell_type": "code",
   "execution_count": 81,
   "metadata": {},
   "outputs": [
    {
     "name": "stdout",
     "output_type": "stream",
     "text": [
      "MultiIndex(levels=[['a', 'b'], ['one', 'two']],\n",
      "           labels=[[0, 0, 1], [0, 1, 0]],\n",
      "           names=['name1', 'name2'])\n",
      "MultiIndex(levels=[['a', 'b'], ['one', 'two']],\n",
      "           labels=[[0, 0, 1], [0, 1, 0]],\n",
      "           names=['name3', 'name4'])\n"
     ]
    },
    {
     "data": {
      "text/html": [
       "<div>\n",
       "<style scoped>\n",
       "    .dataframe tbody tr th:only-of-type {\n",
       "        vertical-align: middle;\n",
       "    }\n",
       "\n",
       "    .dataframe tbody tr th {\n",
       "        vertical-align: top;\n",
       "    }\n",
       "\n",
       "    .dataframe thead tr th {\n",
       "        text-align: left;\n",
       "    }\n",
       "\n",
       "    .dataframe thead tr:last-of-type th {\n",
       "        text-align: right;\n",
       "    }\n",
       "</style>\n",
       "<table border=\"1\" class=\"dataframe\">\n",
       "  <thead>\n",
       "    <tr>\n",
       "      <th></th>\n",
       "      <th>name3</th>\n",
       "      <th colspan=\"2\" halign=\"left\">a</th>\n",
       "      <th>b</th>\n",
       "    </tr>\n",
       "    <tr>\n",
       "      <th></th>\n",
       "      <th>name4</th>\n",
       "      <th>one</th>\n",
       "      <th>two</th>\n",
       "      <th>one</th>\n",
       "    </tr>\n",
       "    <tr>\n",
       "      <th>name1</th>\n",
       "      <th>name2</th>\n",
       "      <th></th>\n",
       "      <th></th>\n",
       "      <th></th>\n",
       "    </tr>\n",
       "  </thead>\n",
       "  <tbody>\n",
       "    <tr>\n",
       "      <th rowspan=\"2\" valign=\"top\">a</th>\n",
       "      <th>one</th>\n",
       "      <td>1</td>\n",
       "      <td>2</td>\n",
       "      <td>3</td>\n",
       "    </tr>\n",
       "    <tr>\n",
       "      <th>two</th>\n",
       "      <td>4</td>\n",
       "      <td>5</td>\n",
       "      <td>6</td>\n",
       "    </tr>\n",
       "    <tr>\n",
       "      <th>b</th>\n",
       "      <th>one</th>\n",
       "      <td>7</td>\n",
       "      <td>8</td>\n",
       "      <td>9</td>\n",
       "    </tr>\n",
       "  </tbody>\n",
       "</table>\n",
       "</div>"
      ],
      "text/plain": [
       "name3         a       b\n",
       "name4       one two one\n",
       "name1 name2            \n",
       "a     one     1   2   3\n",
       "      two     4   5   6\n",
       "b     one     7   8   9"
      ]
     },
     "execution_count": 81,
     "metadata": {},
     "output_type": "execute_result"
    }
   ],
   "source": [
    "columns = index.copy()\n",
    "print(columns)\n",
    "columns.set_names( names = ['name3','name4'], level = [0,1], inplace = True) #列索引取和行索引相同，只是改了名字\n",
    "print(columns)\n",
    "df = pd.DataFrame([[1,2,3],[4,5,6],[7,8,9]], index= index, columns = columns)\n",
    "df"
   ]
  },
  {
   "cell_type": "code",
   "execution_count": 82,
   "metadata": {},
   "outputs": [
    {
     "data": {
      "text/html": [
       "<div>\n",
       "<style scoped>\n",
       "    .dataframe tbody tr th:only-of-type {\n",
       "        vertical-align: middle;\n",
       "    }\n",
       "\n",
       "    .dataframe tbody tr th {\n",
       "        vertical-align: top;\n",
       "    }\n",
       "\n",
       "    .dataframe thead tr th {\n",
       "        text-align: left;\n",
       "    }\n",
       "\n",
       "    .dataframe thead tr:last-of-type th {\n",
       "        text-align: right;\n",
       "    }\n",
       "</style>\n",
       "<table border=\"1\" class=\"dataframe\">\n",
       "  <thead>\n",
       "    <tr>\n",
       "      <th></th>\n",
       "      <th>name4</th>\n",
       "      <th>one</th>\n",
       "      <th>two</th>\n",
       "      <th>one</th>\n",
       "    </tr>\n",
       "    <tr>\n",
       "      <th></th>\n",
       "      <th>name3</th>\n",
       "      <th>a</th>\n",
       "      <th>a</th>\n",
       "      <th>b</th>\n",
       "    </tr>\n",
       "    <tr>\n",
       "      <th>name1</th>\n",
       "      <th>name2</th>\n",
       "      <th></th>\n",
       "      <th></th>\n",
       "      <th></th>\n",
       "    </tr>\n",
       "  </thead>\n",
       "  <tbody>\n",
       "    <tr>\n",
       "      <th rowspan=\"2\" valign=\"top\">a</th>\n",
       "      <th>one</th>\n",
       "      <td>1</td>\n",
       "      <td>2</td>\n",
       "      <td>3</td>\n",
       "    </tr>\n",
       "    <tr>\n",
       "      <th>two</th>\n",
       "      <td>4</td>\n",
       "      <td>5</td>\n",
       "      <td>6</td>\n",
       "    </tr>\n",
       "    <tr>\n",
       "      <th>b</th>\n",
       "      <th>one</th>\n",
       "      <td>7</td>\n",
       "      <td>8</td>\n",
       "      <td>9</td>\n",
       "    </tr>\n",
       "  </tbody>\n",
       "</table>\n",
       "</div>"
      ],
      "text/plain": [
       "name4       one two one\n",
       "name3         a   a   b\n",
       "name1 name2            \n",
       "a     one     1   2   3\n",
       "      two     4   5   6\n",
       "b     one     7   8   9"
      ]
     },
     "execution_count": 82,
     "metadata": {},
     "output_type": "execute_result"
    }
   ],
   "source": [
    "df.swaplevel(axis=1) # 交换列索引顺序"
   ]
  },
  {
   "cell_type": "code",
   "execution_count": 83,
   "metadata": {},
   "outputs": [
    {
     "data": {
      "text/html": [
       "<div>\n",
       "<style scoped>\n",
       "    .dataframe tbody tr th:only-of-type {\n",
       "        vertical-align: middle;\n",
       "    }\n",
       "\n",
       "    .dataframe tbody tr th {\n",
       "        vertical-align: top;\n",
       "    }\n",
       "\n",
       "    .dataframe thead tr th {\n",
       "        text-align: left;\n",
       "    }\n",
       "\n",
       "    .dataframe thead tr:last-of-type th {\n",
       "        text-align: right;\n",
       "    }\n",
       "</style>\n",
       "<table border=\"1\" class=\"dataframe\">\n",
       "  <thead>\n",
       "    <tr>\n",
       "      <th></th>\n",
       "      <th>name3</th>\n",
       "      <th colspan=\"2\" halign=\"left\">a</th>\n",
       "      <th>b</th>\n",
       "    </tr>\n",
       "    <tr>\n",
       "      <th></th>\n",
       "      <th>name4</th>\n",
       "      <th>one</th>\n",
       "      <th>two</th>\n",
       "      <th>one</th>\n",
       "    </tr>\n",
       "    <tr>\n",
       "      <th>name2</th>\n",
       "      <th>name1</th>\n",
       "      <th></th>\n",
       "      <th></th>\n",
       "      <th></th>\n",
       "    </tr>\n",
       "  </thead>\n",
       "  <tbody>\n",
       "    <tr>\n",
       "      <th>one</th>\n",
       "      <th>a</th>\n",
       "      <td>1</td>\n",
       "      <td>2</td>\n",
       "      <td>3</td>\n",
       "    </tr>\n",
       "    <tr>\n",
       "      <th>two</th>\n",
       "      <th>a</th>\n",
       "      <td>4</td>\n",
       "      <td>5</td>\n",
       "      <td>6</td>\n",
       "    </tr>\n",
       "    <tr>\n",
       "      <th>one</th>\n",
       "      <th>b</th>\n",
       "      <td>7</td>\n",
       "      <td>8</td>\n",
       "      <td>9</td>\n",
       "    </tr>\n",
       "  </tbody>\n",
       "</table>\n",
       "</div>"
      ],
      "text/plain": [
       "name3         a       b\n",
       "name4       one two one\n",
       "name2 name1            \n",
       "one   a       1   2   3\n",
       "two   a       4   5   6\n",
       "one   b       7   8   9"
      ]
     },
     "execution_count": 83,
     "metadata": {},
     "output_type": "execute_result"
    }
   ],
   "source": [
    "df.swaplevel(axis=0)"
   ]
  },
  {
   "cell_type": "markdown",
   "metadata": {},
   "source": [
    "## ------------------------------------------------------------\n",
    "## 3 多层索引的使用方法\n",
    "对 values进行查看时，多层索引可以分开使用\n",
    "### 3.1 外层的索引\n",
    "    对于外层索引，无论是Series或DataFrame，外层索引是可以直接使用的。只有外层才能够索引。用法和之前的一样"
   ]
  },
  {
   "cell_type": "code",
   "execution_count": 84,
   "metadata": {},
   "outputs": [
    {
     "data": {
      "text/html": [
       "<div>\n",
       "<style scoped>\n",
       "    .dataframe tbody tr th:only-of-type {\n",
       "        vertical-align: middle;\n",
       "    }\n",
       "\n",
       "    .dataframe tbody tr th {\n",
       "        vertical-align: top;\n",
       "    }\n",
       "\n",
       "    .dataframe thead tr th {\n",
       "        text-align: left;\n",
       "    }\n",
       "\n",
       "    .dataframe thead tr:last-of-type th {\n",
       "        text-align: right;\n",
       "    }\n",
       "</style>\n",
       "<table border=\"1\" class=\"dataframe\">\n",
       "  <thead>\n",
       "    <tr>\n",
       "      <th></th>\n",
       "      <th>name3</th>\n",
       "      <th colspan=\"2\" halign=\"left\">a</th>\n",
       "      <th>b</th>\n",
       "    </tr>\n",
       "    <tr>\n",
       "      <th></th>\n",
       "      <th>name4</th>\n",
       "      <th>one</th>\n",
       "      <th>two</th>\n",
       "      <th>one</th>\n",
       "    </tr>\n",
       "    <tr>\n",
       "      <th>name1</th>\n",
       "      <th>name2</th>\n",
       "      <th></th>\n",
       "      <th></th>\n",
       "      <th></th>\n",
       "    </tr>\n",
       "  </thead>\n",
       "  <tbody>\n",
       "    <tr>\n",
       "      <th rowspan=\"2\" valign=\"top\">a</th>\n",
       "      <th>one</th>\n",
       "      <td>1</td>\n",
       "      <td>2</td>\n",
       "      <td>3</td>\n",
       "    </tr>\n",
       "    <tr>\n",
       "      <th>two</th>\n",
       "      <td>4</td>\n",
       "      <td>5</td>\n",
       "      <td>6</td>\n",
       "    </tr>\n",
       "    <tr>\n",
       "      <th>b</th>\n",
       "      <th>one</th>\n",
       "      <td>7</td>\n",
       "      <td>8</td>\n",
       "      <td>9</td>\n",
       "    </tr>\n",
       "  </tbody>\n",
       "</table>\n",
       "</div>"
      ],
      "text/plain": [
       "name3         a       b\n",
       "name4       one two one\n",
       "name1 name2            \n",
       "a     one     1   2   3\n",
       "      two     4   5   6\n",
       "b     one     7   8   9"
      ]
     },
     "execution_count": 84,
     "metadata": {},
     "output_type": "execute_result"
    }
   ],
   "source": [
    "df1 = df.copy()\n",
    "df1"
   ]
  },
  {
   "cell_type": "markdown",
   "metadata": {},
   "source": [
    "### 3.1.1 `[]`方法"
   ]
  },
  {
   "cell_type": "code",
   "execution_count": 86,
   "metadata": {},
   "outputs": [
    {
     "data": {
      "text/html": [
       "<div>\n",
       "<style scoped>\n",
       "    .dataframe tbody tr th:only-of-type {\n",
       "        vertical-align: middle;\n",
       "    }\n",
       "\n",
       "    .dataframe tbody tr th {\n",
       "        vertical-align: top;\n",
       "    }\n",
       "\n",
       "    .dataframe thead th {\n",
       "        text-align: right;\n",
       "    }\n",
       "</style>\n",
       "<table border=\"1\" class=\"dataframe\">\n",
       "  <thead>\n",
       "    <tr style=\"text-align: right;\">\n",
       "      <th></th>\n",
       "      <th>name4</th>\n",
       "      <th>one</th>\n",
       "      <th>two</th>\n",
       "    </tr>\n",
       "    <tr>\n",
       "      <th>name1</th>\n",
       "      <th>name2</th>\n",
       "      <th></th>\n",
       "      <th></th>\n",
       "    </tr>\n",
       "  </thead>\n",
       "  <tbody>\n",
       "    <tr>\n",
       "      <th rowspan=\"2\" valign=\"top\">a</th>\n",
       "      <th>one</th>\n",
       "      <td>1</td>\n",
       "      <td>2</td>\n",
       "    </tr>\n",
       "    <tr>\n",
       "      <th>two</th>\n",
       "      <td>4</td>\n",
       "      <td>5</td>\n",
       "    </tr>\n",
       "    <tr>\n",
       "      <th>b</th>\n",
       "      <th>one</th>\n",
       "      <td>7</td>\n",
       "      <td>8</td>\n",
       "    </tr>\n",
       "  </tbody>\n",
       "</table>\n",
       "</div>"
      ],
      "text/plain": [
       "name4        one  two\n",
       "name1 name2          \n",
       "a     one      1    2\n",
       "      two      4    5\n",
       "b     one      7    8"
      ]
     },
     "execution_count": 86,
     "metadata": {},
     "output_type": "execute_result"
    }
   ],
   "source": [
    "df1['a'] # 列外层"
   ]
  },
  {
   "cell_type": "code",
   "execution_count": 89,
   "metadata": {},
   "outputs": [
    {
     "data": {
      "text/html": [
       "<div>\n",
       "<style scoped>\n",
       "    .dataframe tbody tr th:only-of-type {\n",
       "        vertical-align: middle;\n",
       "    }\n",
       "\n",
       "    .dataframe tbody tr th {\n",
       "        vertical-align: top;\n",
       "    }\n",
       "\n",
       "    .dataframe thead tr th {\n",
       "        text-align: left;\n",
       "    }\n",
       "\n",
       "    .dataframe thead tr:last-of-type th {\n",
       "        text-align: right;\n",
       "    }\n",
       "</style>\n",
       "<table border=\"1\" class=\"dataframe\">\n",
       "  <thead>\n",
       "    <tr>\n",
       "      <th></th>\n",
       "      <th>name3</th>\n",
       "      <th colspan=\"2\" halign=\"left\">a</th>\n",
       "      <th>b</th>\n",
       "    </tr>\n",
       "    <tr>\n",
       "      <th></th>\n",
       "      <th>name4</th>\n",
       "      <th>one</th>\n",
       "      <th>two</th>\n",
       "      <th>one</th>\n",
       "    </tr>\n",
       "    <tr>\n",
       "      <th>name1</th>\n",
       "      <th>name2</th>\n",
       "      <th></th>\n",
       "      <th></th>\n",
       "      <th></th>\n",
       "    </tr>\n",
       "  </thead>\n",
       "  <tbody>\n",
       "    <tr>\n",
       "      <th rowspan=\"2\" valign=\"top\">a</th>\n",
       "      <th>one</th>\n",
       "      <td>1</td>\n",
       "      <td>2</td>\n",
       "      <td>3</td>\n",
       "    </tr>\n",
       "    <tr>\n",
       "      <th>two</th>\n",
       "      <td>4</td>\n",
       "      <td>5</td>\n",
       "      <td>6</td>\n",
       "    </tr>\n",
       "    <tr>\n",
       "      <th>b</th>\n",
       "      <th>one</th>\n",
       "      <td>7</td>\n",
       "      <td>8</td>\n",
       "      <td>9</td>\n",
       "    </tr>\n",
       "  </tbody>\n",
       "</table>\n",
       "</div>"
      ],
      "text/plain": [
       "name3         a       b\n",
       "name4       one two one\n",
       "name1 name2            \n",
       "a     one     1   2   3\n",
       "      two     4   5   6\n",
       "b     one     7   8   9"
      ]
     },
     "execution_count": 89,
     "metadata": {},
     "output_type": "execute_result"
    }
   ],
   "source": [
    "df1[['a','b']] # 列外层"
   ]
  },
  {
   "cell_type": "code",
   "execution_count": 91,
   "metadata": {},
   "outputs": [
    {
     "data": {
      "text/html": [
       "<div>\n",
       "<style scoped>\n",
       "    .dataframe tbody tr th:only-of-type {\n",
       "        vertical-align: middle;\n",
       "    }\n",
       "\n",
       "    .dataframe tbody tr th {\n",
       "        vertical-align: top;\n",
       "    }\n",
       "\n",
       "    .dataframe thead tr th {\n",
       "        text-align: left;\n",
       "    }\n",
       "\n",
       "    .dataframe thead tr:last-of-type th {\n",
       "        text-align: right;\n",
       "    }\n",
       "</style>\n",
       "<table border=\"1\" class=\"dataframe\">\n",
       "  <thead>\n",
       "    <tr>\n",
       "      <th></th>\n",
       "      <th>name3</th>\n",
       "      <th colspan=\"2\" halign=\"left\">a</th>\n",
       "      <th>b</th>\n",
       "    </tr>\n",
       "    <tr>\n",
       "      <th></th>\n",
       "      <th>name4</th>\n",
       "      <th>one</th>\n",
       "      <th>two</th>\n",
       "      <th>one</th>\n",
       "    </tr>\n",
       "    <tr>\n",
       "      <th>name1</th>\n",
       "      <th>name2</th>\n",
       "      <th></th>\n",
       "      <th></th>\n",
       "      <th></th>\n",
       "    </tr>\n",
       "  </thead>\n",
       "  <tbody>\n",
       "    <tr>\n",
       "      <th>a</th>\n",
       "      <th>one</th>\n",
       "      <td>1</td>\n",
       "      <td>2</td>\n",
       "      <td>3</td>\n",
       "    </tr>\n",
       "  </tbody>\n",
       "</table>\n",
       "</div>"
      ],
      "text/plain": [
       "name3         a       b\n",
       "name4       one two one\n",
       "name1 name2            \n",
       "a     one     1   2   3"
      ]
     },
     "execution_count": 91,
     "metadata": {},
     "output_type": "execute_result"
    }
   ],
   "source": [
    "df1[0:1] # 行外层"
   ]
  },
  {
   "cell_type": "code",
   "execution_count": 92,
   "metadata": {},
   "outputs": [
    {
     "data": {
      "text/html": [
       "<div>\n",
       "<style scoped>\n",
       "    .dataframe tbody tr th:only-of-type {\n",
       "        vertical-align: middle;\n",
       "    }\n",
       "\n",
       "    .dataframe tbody tr th {\n",
       "        vertical-align: top;\n",
       "    }\n",
       "\n",
       "    .dataframe thead tr th {\n",
       "        text-align: left;\n",
       "    }\n",
       "\n",
       "    .dataframe thead tr:last-of-type th {\n",
       "        text-align: right;\n",
       "    }\n",
       "</style>\n",
       "<table border=\"1\" class=\"dataframe\">\n",
       "  <thead>\n",
       "    <tr>\n",
       "      <th></th>\n",
       "      <th>name3</th>\n",
       "      <th colspan=\"2\" halign=\"left\">a</th>\n",
       "      <th>b</th>\n",
       "    </tr>\n",
       "    <tr>\n",
       "      <th></th>\n",
       "      <th>name4</th>\n",
       "      <th>one</th>\n",
       "      <th>two</th>\n",
       "      <th>one</th>\n",
       "    </tr>\n",
       "    <tr>\n",
       "      <th>name1</th>\n",
       "      <th>name2</th>\n",
       "      <th></th>\n",
       "      <th></th>\n",
       "      <th></th>\n",
       "    </tr>\n",
       "  </thead>\n",
       "  <tbody>\n",
       "    <tr>\n",
       "      <th rowspan=\"2\" valign=\"top\">a</th>\n",
       "      <th>one</th>\n",
       "      <td>1</td>\n",
       "      <td>2</td>\n",
       "      <td>3</td>\n",
       "    </tr>\n",
       "    <tr>\n",
       "      <th>two</th>\n",
       "      <td>4</td>\n",
       "      <td>5</td>\n",
       "      <td>6</td>\n",
       "    </tr>\n",
       "  </tbody>\n",
       "</table>\n",
       "</div>"
      ],
      "text/plain": [
       "name3         a       b\n",
       "name4       one two one\n",
       "name1 name2            \n",
       "a     one     1   2   3\n",
       "      two     4   5   6"
      ]
     },
     "execution_count": 92,
     "metadata": {},
     "output_type": "execute_result"
    }
   ],
   "source": [
    "df1[0:2]"
   ]
  },
  {
   "cell_type": "code",
   "execution_count": 93,
   "metadata": {},
   "outputs": [
    {
     "data": {
      "text/html": [
       "<div>\n",
       "<style scoped>\n",
       "    .dataframe tbody tr th:only-of-type {\n",
       "        vertical-align: middle;\n",
       "    }\n",
       "\n",
       "    .dataframe tbody tr th {\n",
       "        vertical-align: top;\n",
       "    }\n",
       "\n",
       "    .dataframe thead tr th {\n",
       "        text-align: left;\n",
       "    }\n",
       "\n",
       "    .dataframe thead tr:last-of-type th {\n",
       "        text-align: right;\n",
       "    }\n",
       "</style>\n",
       "<table border=\"1\" class=\"dataframe\">\n",
       "  <thead>\n",
       "    <tr>\n",
       "      <th></th>\n",
       "      <th>name3</th>\n",
       "      <th colspan=\"2\" halign=\"left\">a</th>\n",
       "      <th>b</th>\n",
       "    </tr>\n",
       "    <tr>\n",
       "      <th></th>\n",
       "      <th>name4</th>\n",
       "      <th>one</th>\n",
       "      <th>two</th>\n",
       "      <th>one</th>\n",
       "    </tr>\n",
       "    <tr>\n",
       "      <th>name1</th>\n",
       "      <th>name2</th>\n",
       "      <th></th>\n",
       "      <th></th>\n",
       "      <th></th>\n",
       "    </tr>\n",
       "  </thead>\n",
       "  <tbody>\n",
       "    <tr>\n",
       "      <th>a</th>\n",
       "      <th>one</th>\n",
       "      <td>1</td>\n",
       "      <td>2</td>\n",
       "      <td>3</td>\n",
       "    </tr>\n",
       "    <tr>\n",
       "      <th>b</th>\n",
       "      <th>one</th>\n",
       "      <td>7</td>\n",
       "      <td>8</td>\n",
       "      <td>9</td>\n",
       "    </tr>\n",
       "  </tbody>\n",
       "</table>\n",
       "</div>"
      ],
      "text/plain": [
       "name3         a       b\n",
       "name4       one two one\n",
       "name1 name2            \n",
       "a     one     1   2   3\n",
       "b     one     7   8   9"
      ]
     },
     "execution_count": 93,
     "metadata": {},
     "output_type": "execute_result"
    }
   ],
   "source": [
    "mask =[True,False,True]  # 行外层\n",
    "df1[mask]"
   ]
  },
  {
   "cell_type": "markdown",
   "metadata": {},
   "source": [
    "### 3.1.2 `.loc[]`"
   ]
  },
  {
   "cell_type": "code",
   "execution_count": 94,
   "metadata": {},
   "outputs": [
    {
     "data": {
      "text/html": [
       "<div>\n",
       "<style scoped>\n",
       "    .dataframe tbody tr th:only-of-type {\n",
       "        vertical-align: middle;\n",
       "    }\n",
       "\n",
       "    .dataframe tbody tr th {\n",
       "        vertical-align: top;\n",
       "    }\n",
       "\n",
       "    .dataframe thead tr th {\n",
       "        text-align: left;\n",
       "    }\n",
       "\n",
       "    .dataframe thead tr:last-of-type th {\n",
       "        text-align: right;\n",
       "    }\n",
       "</style>\n",
       "<table border=\"1\" class=\"dataframe\">\n",
       "  <thead>\n",
       "    <tr>\n",
       "      <th>name3</th>\n",
       "      <th colspan=\"2\" halign=\"left\">a</th>\n",
       "      <th>b</th>\n",
       "    </tr>\n",
       "    <tr>\n",
       "      <th>name4</th>\n",
       "      <th>one</th>\n",
       "      <th>two</th>\n",
       "      <th>one</th>\n",
       "    </tr>\n",
       "    <tr>\n",
       "      <th>name2</th>\n",
       "      <th></th>\n",
       "      <th></th>\n",
       "      <th></th>\n",
       "    </tr>\n",
       "  </thead>\n",
       "  <tbody>\n",
       "    <tr>\n",
       "      <th>one</th>\n",
       "      <td>1</td>\n",
       "      <td>2</td>\n",
       "      <td>3</td>\n",
       "    </tr>\n",
       "    <tr>\n",
       "      <th>two</th>\n",
       "      <td>4</td>\n",
       "      <td>5</td>\n",
       "      <td>6</td>\n",
       "    </tr>\n",
       "  </tbody>\n",
       "</table>\n",
       "</div>"
      ],
      "text/plain": [
       "name3   a       b\n",
       "name4 one two one\n",
       "name2            \n",
       "one     1   2   3\n",
       "two     4   5   6"
      ]
     },
     "execution_count": 94,
     "metadata": {},
     "output_type": "execute_result"
    }
   ],
   "source": [
    "df1.loc['a'] # 行索引"
   ]
  },
  {
   "cell_type": "code",
   "execution_count": 95,
   "metadata": {},
   "outputs": [
    {
     "data": {
      "text/html": [
       "<div>\n",
       "<style scoped>\n",
       "    .dataframe tbody tr th:only-of-type {\n",
       "        vertical-align: middle;\n",
       "    }\n",
       "\n",
       "    .dataframe tbody tr th {\n",
       "        vertical-align: top;\n",
       "    }\n",
       "\n",
       "    .dataframe thead th {\n",
       "        text-align: right;\n",
       "    }\n",
       "</style>\n",
       "<table border=\"1\" class=\"dataframe\">\n",
       "  <thead>\n",
       "    <tr style=\"text-align: right;\">\n",
       "      <th>name4</th>\n",
       "      <th>one</th>\n",
       "    </tr>\n",
       "    <tr>\n",
       "      <th>name2</th>\n",
       "      <th></th>\n",
       "    </tr>\n",
       "  </thead>\n",
       "  <tbody>\n",
       "    <tr>\n",
       "      <th>one</th>\n",
       "      <td>3</td>\n",
       "    </tr>\n",
       "    <tr>\n",
       "      <th>two</th>\n",
       "      <td>6</td>\n",
       "    </tr>\n",
       "  </tbody>\n",
       "</table>\n",
       "</div>"
      ],
      "text/plain": [
       "name4  one\n",
       "name2     \n",
       "one      3\n",
       "two      6"
      ]
     },
     "execution_count": 95,
     "metadata": {},
     "output_type": "execute_result"
    }
   ],
   "source": [
    "df1.loc['a','b']"
   ]
  },
  {
   "cell_type": "code",
   "execution_count": 97,
   "metadata": {},
   "outputs": [
    {
     "data": {
      "text/html": [
       "<div>\n",
       "<style scoped>\n",
       "    .dataframe tbody tr th:only-of-type {\n",
       "        vertical-align: middle;\n",
       "    }\n",
       "\n",
       "    .dataframe tbody tr th {\n",
       "        vertical-align: top;\n",
       "    }\n",
       "\n",
       "    .dataframe thead th {\n",
       "        text-align: right;\n",
       "    }\n",
       "</style>\n",
       "<table border=\"1\" class=\"dataframe\">\n",
       "  <thead>\n",
       "    <tr style=\"text-align: right;\">\n",
       "      <th></th>\n",
       "      <th>name4</th>\n",
       "      <th>one</th>\n",
       "      <th>two</th>\n",
       "    </tr>\n",
       "    <tr>\n",
       "      <th>name1</th>\n",
       "      <th>name2</th>\n",
       "      <th></th>\n",
       "      <th></th>\n",
       "    </tr>\n",
       "  </thead>\n",
       "  <tbody>\n",
       "    <tr>\n",
       "      <th rowspan=\"2\" valign=\"top\">a</th>\n",
       "      <th>one</th>\n",
       "      <td>1</td>\n",
       "      <td>2</td>\n",
       "    </tr>\n",
       "    <tr>\n",
       "      <th>two</th>\n",
       "      <td>4</td>\n",
       "      <td>5</td>\n",
       "    </tr>\n",
       "    <tr>\n",
       "      <th>b</th>\n",
       "      <th>one</th>\n",
       "      <td>7</td>\n",
       "      <td>8</td>\n",
       "    </tr>\n",
       "  </tbody>\n",
       "</table>\n",
       "</div>"
      ],
      "text/plain": [
       "name4        one  two\n",
       "name1 name2          \n",
       "a     one      1    2\n",
       "      two      4    5\n",
       "b     one      7    8"
      ]
     },
     "execution_count": 97,
     "metadata": {},
     "output_type": "execute_result"
    }
   ],
   "source": [
    "df1.loc['a':'b','a']"
   ]
  },
  {
   "cell_type": "code",
   "execution_count": 98,
   "metadata": {},
   "outputs": [
    {
     "data": {
      "text/html": [
       "<div>\n",
       "<style scoped>\n",
       "    .dataframe tbody tr th:only-of-type {\n",
       "        vertical-align: middle;\n",
       "    }\n",
       "\n",
       "    .dataframe tbody tr th {\n",
       "        vertical-align: top;\n",
       "    }\n",
       "\n",
       "    .dataframe thead th {\n",
       "        text-align: right;\n",
       "    }\n",
       "</style>\n",
       "<table border=\"1\" class=\"dataframe\">\n",
       "  <thead>\n",
       "    <tr style=\"text-align: right;\">\n",
       "      <th></th>\n",
       "      <th>name4</th>\n",
       "      <th>one</th>\n",
       "    </tr>\n",
       "    <tr>\n",
       "      <th>name1</th>\n",
       "      <th>name2</th>\n",
       "      <th></th>\n",
       "    </tr>\n",
       "  </thead>\n",
       "  <tbody>\n",
       "    <tr>\n",
       "      <th rowspan=\"2\" valign=\"top\">a</th>\n",
       "      <th>one</th>\n",
       "      <td>3</td>\n",
       "    </tr>\n",
       "    <tr>\n",
       "      <th>two</th>\n",
       "      <td>6</td>\n",
       "    </tr>\n",
       "    <tr>\n",
       "      <th>b</th>\n",
       "      <th>one</th>\n",
       "      <td>9</td>\n",
       "    </tr>\n",
       "  </tbody>\n",
       "</table>\n",
       "</div>"
      ],
      "text/plain": [
       "name4        one\n",
       "name1 name2     \n",
       "a     one      3\n",
       "      two      6\n",
       "b     one      9"
      ]
     },
     "execution_count": 98,
     "metadata": {},
     "output_type": "execute_result"
    }
   ],
   "source": [
    "df1.loc[['a','b'],'b']"
   ]
  },
  {
   "cell_type": "code",
   "execution_count": 99,
   "metadata": {},
   "outputs": [
    {
     "data": {
      "text/html": [
       "<div>\n",
       "<style scoped>\n",
       "    .dataframe tbody tr th:only-of-type {\n",
       "        vertical-align: middle;\n",
       "    }\n",
       "\n",
       "    .dataframe tbody tr th {\n",
       "        vertical-align: top;\n",
       "    }\n",
       "\n",
       "    .dataframe thead tr th {\n",
       "        text-align: left;\n",
       "    }\n",
       "\n",
       "    .dataframe thead tr:last-of-type th {\n",
       "        text-align: right;\n",
       "    }\n",
       "</style>\n",
       "<table border=\"1\" class=\"dataframe\">\n",
       "  <thead>\n",
       "    <tr>\n",
       "      <th></th>\n",
       "      <th>name3</th>\n",
       "      <th>b</th>\n",
       "    </tr>\n",
       "    <tr>\n",
       "      <th></th>\n",
       "      <th>name4</th>\n",
       "      <th>one</th>\n",
       "    </tr>\n",
       "    <tr>\n",
       "      <th>name1</th>\n",
       "      <th>name2</th>\n",
       "      <th></th>\n",
       "    </tr>\n",
       "  </thead>\n",
       "  <tbody>\n",
       "    <tr>\n",
       "      <th rowspan=\"2\" valign=\"top\">a</th>\n",
       "      <th>one</th>\n",
       "      <td>3</td>\n",
       "    </tr>\n",
       "    <tr>\n",
       "      <th>two</th>\n",
       "      <td>6</td>\n",
       "    </tr>\n",
       "  </tbody>\n",
       "</table>\n",
       "</div>"
      ],
      "text/plain": [
       "name3         b\n",
       "name4       one\n",
       "name1 name2    \n",
       "a     one     3\n",
       "      two     6"
      ]
     },
     "execution_count": 99,
     "metadata": {},
     "output_type": "execute_result"
    }
   ],
   "source": [
    "df1.loc[['a'],['b','b']]"
   ]
  },
  {
   "cell_type": "markdown",
   "metadata": {},
   "source": [
    "### 3.1.3 `.iloc[]`"
   ]
  },
  {
   "cell_type": "code",
   "execution_count": 100,
   "metadata": {},
   "outputs": [
    {
     "data": {
      "text/html": [
       "<div>\n",
       "<style scoped>\n",
       "    .dataframe tbody tr th:only-of-type {\n",
       "        vertical-align: middle;\n",
       "    }\n",
       "\n",
       "    .dataframe tbody tr th {\n",
       "        vertical-align: top;\n",
       "    }\n",
       "\n",
       "    .dataframe thead tr th {\n",
       "        text-align: left;\n",
       "    }\n",
       "\n",
       "    .dataframe thead tr:last-of-type th {\n",
       "        text-align: right;\n",
       "    }\n",
       "</style>\n",
       "<table border=\"1\" class=\"dataframe\">\n",
       "  <thead>\n",
       "    <tr>\n",
       "      <th></th>\n",
       "      <th>name3</th>\n",
       "      <th colspan=\"2\" halign=\"left\">a</th>\n",
       "      <th>b</th>\n",
       "    </tr>\n",
       "    <tr>\n",
       "      <th></th>\n",
       "      <th>name4</th>\n",
       "      <th>one</th>\n",
       "      <th>two</th>\n",
       "      <th>one</th>\n",
       "    </tr>\n",
       "    <tr>\n",
       "      <th>name1</th>\n",
       "      <th>name2</th>\n",
       "      <th></th>\n",
       "      <th></th>\n",
       "      <th></th>\n",
       "    </tr>\n",
       "  </thead>\n",
       "  <tbody>\n",
       "    <tr>\n",
       "      <th rowspan=\"2\" valign=\"top\">a</th>\n",
       "      <th>one</th>\n",
       "      <td>1</td>\n",
       "      <td>2</td>\n",
       "      <td>3</td>\n",
       "    </tr>\n",
       "    <tr>\n",
       "      <th>two</th>\n",
       "      <td>4</td>\n",
       "      <td>5</td>\n",
       "      <td>6</td>\n",
       "    </tr>\n",
       "    <tr>\n",
       "      <th>b</th>\n",
       "      <th>one</th>\n",
       "      <td>7</td>\n",
       "      <td>8</td>\n",
       "      <td>9</td>\n",
       "    </tr>\n",
       "  </tbody>\n",
       "</table>\n",
       "</div>"
      ],
      "text/plain": [
       "name3         a       b\n",
       "name4       one two one\n",
       "name1 name2            \n",
       "a     one     1   2   3\n",
       "      two     4   5   6\n",
       "b     one     7   8   9"
      ]
     },
     "execution_count": 100,
     "metadata": {},
     "output_type": "execute_result"
    }
   ],
   "source": [
    "df1"
   ]
  },
  {
   "cell_type": "code",
   "execution_count": 101,
   "metadata": {},
   "outputs": [
    {
     "data": {
      "text/plain": [
       "name1  name2\n",
       "a      one      2\n",
       "       two      5\n",
       "Name: (a, two), dtype: int64"
      ]
     },
     "execution_count": 101,
     "metadata": {},
     "output_type": "execute_result"
    }
   ],
   "source": [
    "df1.iloc[0:2,1]"
   ]
  },
  {
   "cell_type": "code",
   "execution_count": 102,
   "metadata": {},
   "outputs": [
    {
     "data": {
      "text/plain": [
       "pandas.core.series.Series"
      ]
     },
     "execution_count": 102,
     "metadata": {},
     "output_type": "execute_result"
    }
   ],
   "source": [
    "type(df1.iloc[0:2,1])"
   ]
  },
  {
   "cell_type": "code",
   "execution_count": 103,
   "metadata": {},
   "outputs": [
    {
     "data": {
      "text/plain": [
       "name3  name4\n",
       "a      one      1\n",
       "       two      2\n",
       "Name: (a, one), dtype: int64"
      ]
     },
     "execution_count": 103,
     "metadata": {},
     "output_type": "execute_result"
    }
   ],
   "source": [
    "df1.iloc[0,0:2]"
   ]
  },
  {
   "cell_type": "code",
   "execution_count": 104,
   "metadata": {},
   "outputs": [
    {
     "data": {
      "text/html": [
       "<div>\n",
       "<style scoped>\n",
       "    .dataframe tbody tr th:only-of-type {\n",
       "        vertical-align: middle;\n",
       "    }\n",
       "\n",
       "    .dataframe tbody tr th {\n",
       "        vertical-align: top;\n",
       "    }\n",
       "\n",
       "    .dataframe thead tr th {\n",
       "        text-align: left;\n",
       "    }\n",
       "\n",
       "    .dataframe thead tr:last-of-type th {\n",
       "        text-align: right;\n",
       "    }\n",
       "</style>\n",
       "<table border=\"1\" class=\"dataframe\">\n",
       "  <thead>\n",
       "    <tr>\n",
       "      <th></th>\n",
       "      <th>name3</th>\n",
       "      <th colspan=\"2\" halign=\"left\">a</th>\n",
       "    </tr>\n",
       "    <tr>\n",
       "      <th></th>\n",
       "      <th>name4</th>\n",
       "      <th>one</th>\n",
       "      <th>two</th>\n",
       "    </tr>\n",
       "    <tr>\n",
       "      <th>name1</th>\n",
       "      <th>name2</th>\n",
       "      <th></th>\n",
       "      <th></th>\n",
       "    </tr>\n",
       "  </thead>\n",
       "  <tbody>\n",
       "    <tr>\n",
       "      <th rowspan=\"2\" valign=\"top\">a</th>\n",
       "      <th>one</th>\n",
       "      <td>1</td>\n",
       "      <td>2</td>\n",
       "    </tr>\n",
       "    <tr>\n",
       "      <th>two</th>\n",
       "      <td>4</td>\n",
       "      <td>5</td>\n",
       "    </tr>\n",
       "  </tbody>\n",
       "</table>\n",
       "</div>"
      ],
      "text/plain": [
       "name3         a    \n",
       "name4       one two\n",
       "name1 name2        \n",
       "a     one     1   2\n",
       "      two     4   5"
      ]
     },
     "execution_count": 104,
     "metadata": {},
     "output_type": "execute_result"
    }
   ],
   "source": [
    "df1.iloc[[0,1],0:2]"
   ]
  },
  {
   "cell_type": "markdown",
   "metadata": {},
   "source": [
    "## 3.2 对于内层索引\n",
    "- 内层索引不可直接使用，必须是先外层，再内层。\n",
    "- 内层只能使用单索引形式"
   ]
  },
  {
   "cell_type": "markdown",
   "metadata": {},
   "source": [
    " ### 3.2.1 `[ , ]`\n",
    " `取一列，先外层单列索引，再内层单列索引，其他形式都报错`"
   ]
  },
  {
   "cell_type": "code",
   "execution_count": 106,
   "metadata": {},
   "outputs": [
    {
     "data": {
      "text/html": [
       "<div>\n",
       "<style scoped>\n",
       "    .dataframe tbody tr th:only-of-type {\n",
       "        vertical-align: middle;\n",
       "    }\n",
       "\n",
       "    .dataframe tbody tr th {\n",
       "        vertical-align: top;\n",
       "    }\n",
       "\n",
       "    .dataframe thead tr th {\n",
       "        text-align: left;\n",
       "    }\n",
       "\n",
       "    .dataframe thead tr:last-of-type th {\n",
       "        text-align: right;\n",
       "    }\n",
       "</style>\n",
       "<table border=\"1\" class=\"dataframe\">\n",
       "  <thead>\n",
       "    <tr>\n",
       "      <th></th>\n",
       "      <th>name3</th>\n",
       "      <th colspan=\"2\" halign=\"left\">a</th>\n",
       "      <th>b</th>\n",
       "    </tr>\n",
       "    <tr>\n",
       "      <th></th>\n",
       "      <th>name4</th>\n",
       "      <th>one</th>\n",
       "      <th>two</th>\n",
       "      <th>one</th>\n",
       "    </tr>\n",
       "    <tr>\n",
       "      <th>name1</th>\n",
       "      <th>name2</th>\n",
       "      <th></th>\n",
       "      <th></th>\n",
       "      <th></th>\n",
       "    </tr>\n",
       "  </thead>\n",
       "  <tbody>\n",
       "    <tr>\n",
       "      <th rowspan=\"2\" valign=\"top\">a</th>\n",
       "      <th>one</th>\n",
       "      <td>1</td>\n",
       "      <td>2</td>\n",
       "      <td>3</td>\n",
       "    </tr>\n",
       "    <tr>\n",
       "      <th>two</th>\n",
       "      <td>4</td>\n",
       "      <td>5</td>\n",
       "      <td>6</td>\n",
       "    </tr>\n",
       "    <tr>\n",
       "      <th>b</th>\n",
       "      <th>one</th>\n",
       "      <td>7</td>\n",
       "      <td>8</td>\n",
       "      <td>9</td>\n",
       "    </tr>\n",
       "  </tbody>\n",
       "</table>\n",
       "</div>"
      ],
      "text/plain": [
       "name3         a       b\n",
       "name4       one two one\n",
       "name1 name2            \n",
       "a     one     1   2   3\n",
       "      two     4   5   6\n",
       "b     one     7   8   9"
      ]
     },
     "execution_count": 106,
     "metadata": {},
     "output_type": "execute_result"
    }
   ],
   "source": [
    "df1"
   ]
  },
  {
   "cell_type": "code",
   "execution_count": 109,
   "metadata": {},
   "outputs": [
    {
     "data": {
      "text/plain": [
       "name1  name2\n",
       "a      one      1\n",
       "       two      4\n",
       "b      one      7\n",
       "Name: (a, one), dtype: int64"
      ]
     },
     "execution_count": 109,
     "metadata": {},
     "output_type": "execute_result"
    }
   ],
   "source": [
    "df1['a','one']  # 取一列，先外层单列索引，再内层单列索引，其他形式都报错"
   ]
  },
  {
   "cell_type": "markdown",
   "metadata": {},
   "source": [
    " ### 3.2.2 `.loc[ , ]`\n",
    " - `取一行，先外层单行索引，再内层单列索引，其他形式都报错`"
   ]
  },
  {
   "cell_type": "code",
   "execution_count": 110,
   "metadata": {},
   "outputs": [
    {
     "data": {
      "text/plain": [
       "name3  name4\n",
       "a      one      1\n",
       "       two      2\n",
       "b      one      3\n",
       "Name: (a, one), dtype: int64"
      ]
     },
     "execution_count": 110,
     "metadata": {},
     "output_type": "execute_result"
    }
   ],
   "source": [
    "df1.loc['a','one']"
   ]
  },
  {
   "cell_type": "markdown",
   "metadata": {},
   "source": [
    "### 3.2.3 `.iloc[]`\n",
    "这方方法按位置索引"
   ]
  },
  {
   "cell_type": "code",
   "execution_count": 113,
   "metadata": {},
   "outputs": [
    {
     "data": {
      "text/plain": [
       "name3  name4\n",
       "a      one      1\n",
       "       two      2\n",
       "b      one      3\n",
       "Name: (a, one), dtype: int64"
      ]
     },
     "execution_count": 113,
     "metadata": {},
     "output_type": "execute_result"
    }
   ],
   "source": [
    "df1.iloc[0,0:4]"
   ]
  },
  {
   "cell_type": "markdown",
   "metadata": {},
   "source": [
    "## 3.3 xs直接选取法\n",
    "### `适合在单层level选取，不能行列同时操作`\n",
    "`Series.xs(key, level=None, drop_level=True)`\n",
    "\n",
    "`DataFrame.xs(key, axis=0, level=None, drop_level=True)`\n",
    "- key: 要选取的索引值或其列表；\n",
    "- axis：0-行索引，1-列索引；\n",
    "- level：索引层次；\n",
    "- drop_level：True or False，是否显示用于选取的level索引，默认不显示。"
   ]
  },
  {
   "cell_type": "code",
   "execution_count": 114,
   "metadata": {},
   "outputs": [
    {
     "data": {
      "text/html": [
       "<div>\n",
       "<style scoped>\n",
       "    .dataframe tbody tr th:only-of-type {\n",
       "        vertical-align: middle;\n",
       "    }\n",
       "\n",
       "    .dataframe tbody tr th {\n",
       "        vertical-align: top;\n",
       "    }\n",
       "\n",
       "    .dataframe thead tr th {\n",
       "        text-align: left;\n",
       "    }\n",
       "\n",
       "    .dataframe thead tr:last-of-type th {\n",
       "        text-align: right;\n",
       "    }\n",
       "</style>\n",
       "<table border=\"1\" class=\"dataframe\">\n",
       "  <thead>\n",
       "    <tr>\n",
       "      <th></th>\n",
       "      <th>name3</th>\n",
       "      <th colspan=\"2\" halign=\"left\">a</th>\n",
       "      <th>b</th>\n",
       "    </tr>\n",
       "    <tr>\n",
       "      <th></th>\n",
       "      <th>name4</th>\n",
       "      <th>one</th>\n",
       "      <th>two</th>\n",
       "      <th>one</th>\n",
       "    </tr>\n",
       "    <tr>\n",
       "      <th>name1</th>\n",
       "      <th>name2</th>\n",
       "      <th></th>\n",
       "      <th></th>\n",
       "      <th></th>\n",
       "    </tr>\n",
       "  </thead>\n",
       "  <tbody>\n",
       "    <tr>\n",
       "      <th rowspan=\"2\" valign=\"top\">a</th>\n",
       "      <th>one</th>\n",
       "      <td>1</td>\n",
       "      <td>2</td>\n",
       "      <td>3</td>\n",
       "    </tr>\n",
       "    <tr>\n",
       "      <th>two</th>\n",
       "      <td>4</td>\n",
       "      <td>5</td>\n",
       "      <td>6</td>\n",
       "    </tr>\n",
       "    <tr>\n",
       "      <th>b</th>\n",
       "      <th>one</th>\n",
       "      <td>7</td>\n",
       "      <td>8</td>\n",
       "      <td>9</td>\n",
       "    </tr>\n",
       "  </tbody>\n",
       "</table>\n",
       "</div>"
      ],
      "text/plain": [
       "name3         a       b\n",
       "name4       one two one\n",
       "name1 name2            \n",
       "a     one     1   2   3\n",
       "      two     4   5   6\n",
       "b     one     7   8   9"
      ]
     },
     "execution_count": 114,
     "metadata": {},
     "output_type": "execute_result"
    }
   ],
   "source": [
    "df1"
   ]
  },
  {
   "cell_type": "code",
   "execution_count": 120,
   "metadata": {},
   "outputs": [
    {
     "data": {
      "text/html": [
       "<div>\n",
       "<style scoped>\n",
       "    .dataframe tbody tr th:only-of-type {\n",
       "        vertical-align: middle;\n",
       "    }\n",
       "\n",
       "    .dataframe tbody tr th {\n",
       "        vertical-align: top;\n",
       "    }\n",
       "\n",
       "    .dataframe thead tr th {\n",
       "        text-align: left;\n",
       "    }\n",
       "\n",
       "    .dataframe thead tr:last-of-type th {\n",
       "        text-align: right;\n",
       "    }\n",
       "</style>\n",
       "<table border=\"1\" class=\"dataframe\">\n",
       "  <thead>\n",
       "    <tr>\n",
       "      <th>name3</th>\n",
       "      <th colspan=\"2\" halign=\"left\">a</th>\n",
       "      <th>b</th>\n",
       "    </tr>\n",
       "    <tr>\n",
       "      <th>name4</th>\n",
       "      <th>one</th>\n",
       "      <th>two</th>\n",
       "      <th>one</th>\n",
       "    </tr>\n",
       "    <tr>\n",
       "      <th>name1</th>\n",
       "      <th></th>\n",
       "      <th></th>\n",
       "      <th></th>\n",
       "    </tr>\n",
       "  </thead>\n",
       "  <tbody>\n",
       "    <tr>\n",
       "      <th>a</th>\n",
       "      <td>1</td>\n",
       "      <td>2</td>\n",
       "      <td>3</td>\n",
       "    </tr>\n",
       "    <tr>\n",
       "      <th>b</th>\n",
       "      <td>7</td>\n",
       "      <td>8</td>\n",
       "      <td>9</td>\n",
       "    </tr>\n",
       "  </tbody>\n",
       "</table>\n",
       "</div>"
      ],
      "text/plain": [
       "name3   a       b\n",
       "name4 one two one\n",
       "name1            \n",
       "a       1   2   3\n",
       "b       7   8   9"
      ]
     },
     "execution_count": 120,
     "metadata": {},
     "output_type": "execute_result"
    }
   ],
   "source": [
    "df1.xs(key = 'one',axis= 0, level= 1)"
   ]
  },
  {
   "cell_type": "code",
   "execution_count": 125,
   "metadata": {},
   "outputs": [
    {
     "data": {
      "text/html": [
       "<div>\n",
       "<style scoped>\n",
       "    .dataframe tbody tr th:only-of-type {\n",
       "        vertical-align: middle;\n",
       "    }\n",
       "\n",
       "    .dataframe tbody tr th {\n",
       "        vertical-align: top;\n",
       "    }\n",
       "\n",
       "    .dataframe thead tr th {\n",
       "        text-align: left;\n",
       "    }\n",
       "\n",
       "    .dataframe thead tr:last-of-type th {\n",
       "        text-align: right;\n",
       "    }\n",
       "</style>\n",
       "<table border=\"1\" class=\"dataframe\">\n",
       "  <thead>\n",
       "    <tr>\n",
       "      <th>name3</th>\n",
       "      <th colspan=\"2\" halign=\"left\">a</th>\n",
       "      <th>b</th>\n",
       "    </tr>\n",
       "    <tr>\n",
       "      <th>name4</th>\n",
       "      <th>one</th>\n",
       "      <th>two</th>\n",
       "      <th>one</th>\n",
       "    </tr>\n",
       "    <tr>\n",
       "      <th>name1</th>\n",
       "      <th></th>\n",
       "      <th></th>\n",
       "      <th></th>\n",
       "    </tr>\n",
       "  </thead>\n",
       "  <tbody>\n",
       "    <tr>\n",
       "      <th>a</th>\n",
       "      <td>4</td>\n",
       "      <td>5</td>\n",
       "      <td>6</td>\n",
       "    </tr>\n",
       "  </tbody>\n",
       "</table>\n",
       "</div>"
      ],
      "text/plain": [
       "name3   a       b\n",
       "name4 one two one\n",
       "name1            \n",
       "a       4   5   6"
      ]
     },
     "execution_count": 125,
     "metadata": {},
     "output_type": "execute_result"
    }
   ],
   "source": [
    "df1.xs(key = ['two'],axis= 0, level= [1])"
   ]
  },
  {
   "cell_type": "code",
   "execution_count": 129,
   "metadata": {},
   "outputs": [
    {
     "data": {
      "text/html": [
       "<div>\n",
       "<style scoped>\n",
       "    .dataframe tbody tr th:only-of-type {\n",
       "        vertical-align: middle;\n",
       "    }\n",
       "\n",
       "    .dataframe tbody tr th {\n",
       "        vertical-align: top;\n",
       "    }\n",
       "\n",
       "    .dataframe thead th {\n",
       "        text-align: right;\n",
       "    }\n",
       "</style>\n",
       "<table border=\"1\" class=\"dataframe\">\n",
       "  <thead>\n",
       "    <tr style=\"text-align: right;\">\n",
       "      <th></th>\n",
       "      <th>name3</th>\n",
       "      <th>a</th>\n",
       "      <th>b</th>\n",
       "    </tr>\n",
       "    <tr>\n",
       "      <th>name1</th>\n",
       "      <th>name2</th>\n",
       "      <th></th>\n",
       "      <th></th>\n",
       "    </tr>\n",
       "  </thead>\n",
       "  <tbody>\n",
       "    <tr>\n",
       "      <th rowspan=\"2\" valign=\"top\">a</th>\n",
       "      <th>one</th>\n",
       "      <td>1</td>\n",
       "      <td>3</td>\n",
       "    </tr>\n",
       "    <tr>\n",
       "      <th>two</th>\n",
       "      <td>4</td>\n",
       "      <td>6</td>\n",
       "    </tr>\n",
       "    <tr>\n",
       "      <th>b</th>\n",
       "      <th>one</th>\n",
       "      <td>7</td>\n",
       "      <td>9</td>\n",
       "    </tr>\n",
       "  </tbody>\n",
       "</table>\n",
       "</div>"
      ],
      "text/plain": [
       "name3        a  b\n",
       "name1 name2      \n",
       "a     one    1  3\n",
       "      two    4  6\n",
       "b     one    7  9"
      ]
     },
     "execution_count": 129,
     "metadata": {},
     "output_type": "execute_result"
    }
   ],
   "source": [
    "df1.xs(key='one',axis=1,level=1)"
   ]
  },
  {
   "cell_type": "code",
   "execution_count": 130,
   "metadata": {},
   "outputs": [
    {
     "data": {
      "text/html": [
       "<div>\n",
       "<style scoped>\n",
       "    .dataframe tbody tr th:only-of-type {\n",
       "        vertical-align: middle;\n",
       "    }\n",
       "\n",
       "    .dataframe tbody tr th {\n",
       "        vertical-align: top;\n",
       "    }\n",
       "\n",
       "    .dataframe thead th {\n",
       "        text-align: right;\n",
       "    }\n",
       "</style>\n",
       "<table border=\"1\" class=\"dataframe\">\n",
       "  <thead>\n",
       "    <tr style=\"text-align: right;\">\n",
       "      <th></th>\n",
       "      <th>name3</th>\n",
       "      <th>a</th>\n",
       "    </tr>\n",
       "    <tr>\n",
       "      <th>name1</th>\n",
       "      <th>name2</th>\n",
       "      <th></th>\n",
       "    </tr>\n",
       "  </thead>\n",
       "  <tbody>\n",
       "    <tr>\n",
       "      <th rowspan=\"2\" valign=\"top\">a</th>\n",
       "      <th>one</th>\n",
       "      <td>2</td>\n",
       "    </tr>\n",
       "    <tr>\n",
       "      <th>two</th>\n",
       "      <td>5</td>\n",
       "    </tr>\n",
       "    <tr>\n",
       "      <th>b</th>\n",
       "      <th>one</th>\n",
       "      <td>8</td>\n",
       "    </tr>\n",
       "  </tbody>\n",
       "</table>\n",
       "</div>"
      ],
      "text/plain": [
       "name3        a\n",
       "name1 name2   \n",
       "a     one    2\n",
       "      two    5\n",
       "b     one    8"
      ]
     },
     "execution_count": 130,
     "metadata": {},
     "output_type": "execute_result"
    }
   ],
   "source": [
    "df1.xs('two',axis=1,level=1)"
   ]
  },
  {
   "cell_type": "code",
   "execution_count": null,
   "metadata": {},
   "outputs": [],
   "source": []
  }
 ],
 "metadata": {
  "kernelspec": {
   "display_name": "Python 3",
   "language": "python",
   "name": "python3"
  },
  "language_info": {
   "codemirror_mode": {
    "name": "ipython",
    "version": 3
   },
   "file_extension": ".py",
   "mimetype": "text/x-python",
   "name": "python",
   "nbconvert_exporter": "python",
   "pygments_lexer": "ipython3",
   "version": "3.6.4"
  }
 },
 "nbformat": 4,
 "nbformat_minor": 2
}
